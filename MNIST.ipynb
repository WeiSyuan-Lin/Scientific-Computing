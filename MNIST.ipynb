{
 "cells": [
  {
   "cell_type": "code",
   "execution_count": 1,
   "metadata": {},
   "outputs": [],
   "source": [
    "# import numpy library as np\n",
    "import numpy as np\n",
    "\n",
    "# numerical data file\n",
    "#filename=\"mnist_train.csv\"\n",
    "\n",
    "# load the data with NumPy function loadtxt\n",
    "#data = np.loadtxt(filename, delimiter=\",\")\n",
    "\n",
    "#data[1]\n",
    "\n",
    "import matplotlib.pyplot as plt\n",
    "\n",
    "import tensorflow as tf"
   ]
  },
  {
   "cell_type": "code",
   "execution_count": 2,
   "metadata": {},
   "outputs": [],
   "source": [
    "#將MNIST 手寫數字資料讀進來\n",
    "mnist = tf.keras.datasets.mnist\n",
    "\n",
    "# mnist 的load_data()會回傳已經先分割好的training data 和 testing data\n",
    "# 並且將每個 pixel 的值從 Int 轉成 floating point 同時做normalize(這是很常見的preprocessing)\n",
    "(x_train, y_train), (x_test, y_test) = mnist.load_data()\n",
    "x_train, x_test = x_train / 255.0, x_test / 255.0"
   ]
  },
  {
   "cell_type": "code",
   "execution_count": 3,
   "metadata": {},
   "outputs": [
    {
     "name": "stdout",
     "output_type": "stream",
     "text": [
      "60000\n",
      "(28, 28)\n"
     ]
    }
   ],
   "source": [
    "print(len(x_train)) #training data 總共有60000張圖片\n",
    "print(x_train[0].shape) #每張圖片（拿第一張當樣本）大小為 28x28"
   ]
  },
  {
   "cell_type": "code",
   "execution_count": 4,
   "metadata": {},
   "outputs": [
    {
     "data": {
      "image/png": "[encoded data removed]",
      "text/plain": [
       "<Figure size 432x288 with 1 Axes>"
      ]
     },
     "metadata": {
      "needs_background": "light"
     },
     "output_type": "display_data"
    }
   ],
   "source": [
    "img = x_train[35]\n",
    "plt.imshow(img, cmap=\"Greys\")\n",
    "plt.show()"
   ]
  },
  {
   "cell_type": "code",
   "execution_count": 5,
   "metadata": {},
   "outputs": [],
   "source": [
    "X_train = np.reshape(x_train,(60000,28*28))"
   ]
  },
  {
   "cell_type": "code",
   "execution_count": 6,
   "metadata": {},
   "outputs": [],
   "source": [
    "#def theta_fit(X_train,y_train,k,sigma,lamb):\n",
    "#    index=np.where(y_train==k)\n",
    "#    index=index[0][0:50]\n",
    "#    P=[]\n",
    "#    for i in range(X_train.shape[0]):\n",
    "#        for j in range(X_train[index].shape[0]):\n",
    "#            P.append(np.exp(-sigma*(np.linalg.norm(X_train[i]-X_train[index][j]))**2))\n",
    "\n",
    "#    Phi=np.array(P).reshape(X_train.shape[0],X_train[index].shape[0])\n",
    "#    Pi=np.zeros(X_train.shape[0]).reshape(X_train.shape[0],1)\n",
    "#    Pi[index]=1\n",
    "#    Phinv=np.linalg.inv(np.dot(Phi.T,Phi)+(lamb*np.eye(X_train[index].shape[0])))\n",
    "#    pi=np.dot(Phi.T,Pi)\n",
    "#    theta=np.dot(Phinv,pi)\n",
    "#    return theta"
   ]
  },
  {
   "cell_type": "code",
   "execution_count": 13,
   "metadata": {},
   "outputs": [],
   "source": [
    "S=np.array([X_train[y_train==i].mean(axis=0) for i in range(10)])"
   ]
  },
  {
   "cell_type": "code",
   "execution_count": 104,
   "metadata": {},
   "outputs": [],
   "source": [
    "from scipy.spatial import distance_matrix"
   ]
  },
  {
   "cell_type": "code",
   "execution_count": null,
   "metadata": {},
   "outputs": [],
   "source": []
  },
  {
   "cell_type": "code",
   "execution_count": 115,
   "metadata": {},
   "outputs": [],
   "source": [
    "def theta_fit(X_train,y_train,k,sigma,lamb):\n",
    "    index=np.where(y_train==k)\n",
    "    S=np.array([X_train[index].mean(axis=0)])    \n",
    "    Phi=np.exp(-sigma*(distance_matrix(X_train,S)**2))\n",
    "\n",
    "    Pi=np.zeros(X_train.shape[0]).reshape(X_train.shape[0],1)\n",
    "    Pi[index]=1\n",
    "    Phinv=np.linalg.inv(np.dot(Phi.T,Phi)+(lamb*np.eye(1)))\n",
    "    pi=np.dot(Phi.T,Pi)\n",
    "    theta=np.dot(Phinv,pi)\n",
    "    return theta"
   ]
  },
  {
   "cell_type": "code",
   "execution_count": 26,
   "metadata": {},
   "outputs": [
    {
     "data": {
      "text/plain": [
       "(60000,)"
      ]
     },
     "execution_count": 26,
     "metadata": {},
     "output_type": "execute_result"
    }
   ],
   "source": [
    "y_train.shape\n",
    "#np.exp(-sigma*(np.linalg.norm(X_train[i]-X_train[index]))**2)"
   ]
  },
  {
   "cell_type": "code",
   "execution_count": 27,
   "metadata": {},
   "outputs": [
    {
     "data": {
      "text/plain": [
       "(60000, 784)"
      ]
     },
     "execution_count": 27,
     "metadata": {},
     "output_type": "execute_result"
    }
   ],
   "source": [
    "X_train.shape"
   ]
  },
  {
   "cell_type": "code",
   "execution_count": 116,
   "metadata": {},
   "outputs": [],
   "source": [
    "theta0=theta_fit(X_train,y_train,0,0.05,0.1)"
   ]
  },
  {
   "cell_type": "code",
   "execution_count": 117,
   "metadata": {},
   "outputs": [
    {
     "data": {
      "text/plain": [
       "array([[5.30055111]])"
      ]
     },
     "execution_count": 117,
     "metadata": {},
     "output_type": "execute_result"
    }
   ],
   "source": [
    "theta0"
   ]
  },
  {
   "cell_type": "code",
   "execution_count": 118,
   "metadata": {},
   "outputs": [],
   "source": [
    "theta1=theta_fit(X_train,y_train,1,0.05,0.1)"
   ]
  },
  {
   "cell_type": "code",
   "execution_count": 119,
   "metadata": {},
   "outputs": [],
   "source": [
    "theta2=theta_fit(X_train,y_train,2,0.05,0.1)"
   ]
  },
  {
   "cell_type": "code",
   "execution_count": 120,
   "metadata": {},
   "outputs": [],
   "source": [
    "theta3=theta_fit(X_train,y_train,3,0.05,0.1)\n",
    "theta4=theta_fit(X_train,y_train,4,0.05,0.1)"
   ]
  },
  {
   "cell_type": "code",
   "execution_count": 121,
   "metadata": {},
   "outputs": [],
   "source": [
    "theta5=theta_fit(X_train,y_train,5,0.05,0.1)"
   ]
  },
  {
   "cell_type": "code",
   "execution_count": 122,
   "metadata": {},
   "outputs": [],
   "source": [
    "theta6=theta_fit(X_train,y_train,6,0.05,0.1)\n",
    "theta7=theta_fit(X_train,y_train,7,0.05,0.1)\n",
    "theta8=theta_fit(X_train,y_train,8,0.05,0.1)\n",
    "theta9=theta_fit(X_train,y_train,9,0.05,0.1)"
   ]
  },
  {
   "cell_type": "code",
   "execution_count": 123,
   "metadata": {},
   "outputs": [],
   "source": [
    "theta=np.array([theta0,theta1,theta2,theta3,theta4,theta5,theta6,theta7,theta8,theta9])"
   ]
  },
  {
   "cell_type": "code",
   "execution_count": 161,
   "metadata": {},
   "outputs": [],
   "source": [
    "def include(X_train,y_train,n,X_test,i0,theta):\n",
    "    \n",
    "    index=np.where(y_train==n)\n",
    "    S=np.array([X_train[index].mean(axis=0)])\n",
    "    Pht=np.exp(-0.05*(distance_matrix(X_test[i0].reshape(1,784),S)**2))\n",
    "    return max(0,np.dot(theta.T,Pht))"
   ]
  },
  {
   "cell_type": "code",
   "execution_count": 147,
   "metadata": {},
   "outputs": [
    {
     "data": {
      "text/plain": [
       "(784,)"
      ]
     },
     "execution_count": 147,
     "metadata": {},
     "output_type": "execute_result"
    }
   ],
   "source": [
    "S=np.array([X_train[y_train==0].mean(axis=0)])\n",
    "type(S)\n",
    "S.shape\n",
    "X_test[0].shape"
   ]
  },
  {
   "cell_type": "code",
   "execution_count": 162,
   "metadata": {},
   "outputs": [],
   "source": [
    "def LS_pred_digit(X_train,X_test,y_train,theta,i0):\n",
    "    P=[]\n",
    "    for i in range(10):\n",
    "        P.append(include(X_train,y_train,i,X_test,i0,theta[i]))\n",
    "    P=np.array(P)\n",
    "    tol=sum(P)\n",
    "    return np.argmax(P/tol)"
   ]
  },
  {
   "cell_type": "code",
   "execution_count": null,
   "metadata": {},
   "outputs": [],
   "source": []
  },
  {
   "cell_type": "code",
   "execution_count": 163,
   "metadata": {},
   "outputs": [],
   "source": [
    "X_test = np.reshape(x_test,(10000,28*28))"
   ]
  },
  {
   "cell_type": "code",
   "execution_count": 166,
   "metadata": {},
   "outputs": [
    {
     "data": {
      "text/plain": [
       "1"
      ]
     },
     "execution_count": 166,
     "metadata": {},
     "output_type": "execute_result"
    },
    {
     "data": {
      "text/plain": [
       "<Figure size 432x288 with 0 Axes>"
      ]
     },
     "metadata": {},
     "output_type": "display_data"
    },
    {
     "data": {
      "image/png": "[encoded data removed]",
      "text/plain": [
       "<Figure size 288x288 with 1 Axes>"
      ]
     },
     "metadata": {
      "needs_background": "light"
     },
     "output_type": "display_data"
    }
   ],
   "source": [
    "i0=np.random.randint(low=1,high=len(X_test),size=1)[0]\n",
    "X_test[i0]\n",
    "plt.gray()\n",
    "plt.matshow(X_test[i0].reshape(28,28))\n",
    "y_test[i0]"
   ]
  },
  {
   "cell_type": "code",
   "execution_count": 167,
   "metadata": {},
   "outputs": [
    {
     "data": {
      "text/plain": [
       "1"
      ]
     },
     "execution_count": 167,
     "metadata": {},
     "output_type": "execute_result"
    }
   ],
   "source": [
    "LS_pred_digit(X_train,X_test,y_train,theta,i0)"
   ]
  },
  {
   "cell_type": "code",
   "execution_count": 168,
   "metadata": {},
   "outputs": [],
   "source": [
    "A=[]\n",
    "for i in range(len(y_test[0:50])):\n",
    "    A.append(LS_pred_digit(X_train,X_test,y_train,theta,i))"
   ]
  },
  {
   "cell_type": "code",
   "execution_count": 102,
   "metadata": {},
   "outputs": [],
   "source": [
    "from sklearn import  metrics"
   ]
  },
  {
   "cell_type": "code",
   "execution_count": 169,
   "metadata": {},
   "outputs": [
    {
     "name": "stdout",
     "output_type": "stream",
     "text": [
      "Confusion matrix:\n",
      "[[5 0 0 0 0 0 0 0 0]\n",
      " [0 8 0 1 0 0 0 0 0]\n",
      " [0 1 2 1 0 0 1 0 0]\n",
      " [0 0 0 4 0 0 0 0 0]\n",
      " [1 0 0 0 8 0 0 0 0]\n",
      " [1 0 0 2 0 1 0 0 0]\n",
      " [1 0 0 0 0 0 2 0 0]\n",
      " [0 0 0 0 0 0 0 6 0]\n",
      " [0 0 0 0 1 0 0 2 2]]\n"
     ]
    }
   ],
   "source": [
    "cm1= metrics.confusion_matrix(y_test[0:50],A)\n",
    "print(\"Confusion matrix:\\n%s\" % cm1)"
   ]
  },
  {
   "cell_type": "code",
   "execution_count": 174,
   "metadata": {},
   "outputs": [
    {
     "name": "stdout",
     "output_type": "stream",
     "text": [
      "1 1\n",
      "2 2\n",
      "1 1\n",
      "4 4\n",
      "6 4\n",
      "6 6\n",
      "8 8\n",
      "7 7\n",
      "0 0\n",
      "1 1\n"
     ]
    }
   ],
   "source": [
    "ID=np.random.randint(low=1,high=len(X_test),size=10)\n",
    "Num1=0\n",
    "for i in range(len(ID)):\n",
    "    A=LS_pred_digit(X_train,X_test,y_train,theta,ID[i])\n",
    "    if (A-y_test[ID[i]])==0:\n",
    "        Num1=Num1+1\n",
    "    print (A,y_test[ID[i]])"
   ]
  },
  {
   "cell_type": "code",
   "execution_count": 175,
   "metadata": {},
   "outputs": [
    {
     "data": {
      "text/plain": [
       "0.9"
      ]
     },
     "execution_count": 175,
     "metadata": {},
     "output_type": "execute_result"
    }
   ],
   "source": [
    "Num1/len(ID)"
   ]
  },
  {
   "cell_type": "code",
   "execution_count": 43,
   "metadata": {},
   "outputs": [
    {
     "data": {
      "text/plain": [
       "200"
      ]
     },
     "execution_count": 43,
     "metadata": {},
     "output_type": "execute_result"
    }
   ],
   "source": [
    "len(ID)"
   ]
  },
  {
   "cell_type": "code",
   "execution_count": 630,
   "metadata": {},
   "outputs": [
    {
     "data": {
      "text/plain": [
       "0.009850236631083245"
      ]
     },
     "execution_count": 630,
     "metadata": {},
     "output_type": "execute_result"
    },
    {
     "data": {
      "text/plain": [
       "<Figure size 432x288 with 0 Axes>"
      ]
     },
     "metadata": {},
     "output_type": "display_data"
    },
    {
     "data": {
      "image/png": "[encoded data removed]",
      "text/plain": [
       "<Figure size 288x288 with 1 Axes>"
      ]
     },
     "metadata": {
      "needs_background": "light"
     },
     "output_type": "display_data"
    }
   ],
   "source": [
    "index2=np.where(y_train==2)\n",
    "X2=X_train[index2]\n",
    "X2_bar=sum(X2)/(X2.shape[0])\n",
    "\n",
    "plt.gray()\n",
    "plt.matshow(X2_bar.reshape(28,28))\n",
    "\n",
    "\n",
    "z2=(np.linalg.norm(X2-X2_bar))**2/len(index2[0])\n",
    "\n",
    "0.5*(1/(z2))"
   ]
  },
  {
   "cell_type": "code",
   "execution_count": 764,
   "metadata": {},
   "outputs": [],
   "source": [
    "def sigma(X_train,y_train):\n",
    "    S=[]\n",
    "    for k in range(10):\n",
    "        index=np.where(y_train==k)\n",
    "        X=X_train[index]\n",
    "        X_bar=sum(X)/(X.shape[0])\n",
    "        z=(np.linalg.norm(X-X_bar))**2/len(index[0])\n",
    "        S.append(0.5*(1/(z)))\n",
    "    S=np.array(S)\n",
    "    return S"
   ]
  },
  {
   "cell_type": "code",
   "execution_count": 765,
   "metadata": {},
   "outputs": [],
   "source": [
    "S=sigma(X_train,y_train)"
   ]
  },
  {
   "cell_type": "code",
   "execution_count": 766,
   "metadata": {},
   "outputs": [
    {
     "data": {
      "text/plain": [
       "array([0.01001625, 0.02224633, 0.00985024, 0.01112487, 0.01223322,\n",
       "       0.01050839, 0.01160317, 0.01334375, 0.01096594, 0.01296379])"
      ]
     },
     "execution_count": 766,
     "metadata": {},
     "output_type": "execute_result"
    }
   ],
   "source": [
    "S"
   ]
  },
  {
   "cell_type": "code",
   "execution_count": 44,
   "metadata": {},
   "outputs": [
    {
     "data": {
      "text/plain": [
       "(60000, 784)"
      ]
     },
     "execution_count": 44,
     "metadata": {},
     "output_type": "execute_result"
    }
   ],
   "source": [
    "X_train.shape"
   ]
  },
  {
   "cell_type": "code",
   "execution_count": 60,
   "metadata": {},
   "outputs": [],
   "source": [
    "S=np.array([X_train[y_train==i].mean(axis=0) for i in range(10)])"
   ]
  },
  {
   "cell_type": "code",
   "execution_count": 61,
   "metadata": {},
   "outputs": [
    {
     "data": {
      "text/plain": [
       "array([[0., 0., 0., ..., 0., 0., 0.],\n",
       "       [0., 0., 0., ..., 0., 0., 0.],\n",
       "       [0., 0., 0., ..., 0., 0., 0.],\n",
       "       ...,\n",
       "       [0., 0., 0., ..., 0., 0., 0.],\n",
       "       [0., 0., 0., ..., 0., 0., 0.],\n",
       "       [0., 0., 0., ..., 0., 0., 0.]])"
      ]
     },
     "execution_count": 61,
     "metadata": {},
     "output_type": "execute_result"
    }
   ],
   "source": [
    "S"
   ]
  },
  {
   "cell_type": "code",
   "execution_count": 55,
   "metadata": {},
   "outputs": [],
   "source": [
    "from scipy.spatial import distance_matrix"
   ]
  },
  {
   "cell_type": "code",
   "execution_count": 72,
   "metadata": {},
   "outputs": [],
   "source": [
    "P= distance_matrix(X_test, S)"
   ]
  },
  {
   "cell_type": "code",
   "execution_count": 73,
   "metadata": {},
   "outputs": [
    {
     "data": {
      "text/plain": [
       "(10000, 10)"
      ]
     },
     "execution_count": 73,
     "metadata": {},
     "output_type": "execute_result"
    }
   ],
   "source": [
    "P.shape"
   ]
  },
  {
   "cell_type": "code",
   "execution_count": 78,
   "metadata": {},
   "outputs": [
    {
     "data": {
      "text/plain": [
       "0.805940594059406"
      ]
     },
     "execution_count": 78,
     "metadata": {},
     "output_type": "execute_result"
    }
   ],
   "source": [
    "(P[y_test==3].argmin(axis=1)==y_test[y_test==3]).mean()"
   ]
  },
  {
   "cell_type": "code",
   "execution_count": null,
   "metadata": {},
   "outputs": [],
   "source": []
  }
 ],
 "metadata": {
  "kernelspec": {
   "display_name": "Python 3",
   "language": "python",
   "name": "python3"
  },
  "language_info": {
   "codemirror_mode": {
    "name": "ipython",
    "version": 3
   },
   "file_extension": ".py",
   "mimetype": "text/x-python",
   "name": "python",
   "nbconvert_exporter": "python",
   "pygments_lexer": "ipython3",
   "version": "3.8.3"
  }
 },
 "nbformat": 4,
 "nbformat_minor": 4
}
