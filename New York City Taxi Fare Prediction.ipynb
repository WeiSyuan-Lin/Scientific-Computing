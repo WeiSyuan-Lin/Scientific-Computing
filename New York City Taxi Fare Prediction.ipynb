{
 "cells": [
  {
   "cell_type": "code",
   "execution_count": 66,
   "metadata": {},
   "outputs": [],
   "source": [
    "import numpy as np # linear algebra\n",
    "import pandas as pd # CSV file I/O (e.g. pd.read_csv)\n",
    "import os # reading the input files we have access to\n"
   ]
  },
  {
   "cell_type": "code",
   "execution_count": 67,
   "metadata": {},
   "outputs": [],
   "source": [
    "#print(os.listdir('C:\\Python'))"
   ]
  },
  {
   "cell_type": "code",
   "execution_count": 68,
   "metadata": {},
   "outputs": [
    {
     "data": {
      "text/plain": [
       "key                   object\n",
       "fare_amount          float64\n",
       "pickup_datetime       object\n",
       "pickup_longitude     float64\n",
       "pickup_latitude      float64\n",
       "dropoff_longitude    float64\n",
       "dropoff_latitude     float64\n",
       "passenger_count        int64\n",
       "dtype: object"
      ]
     },
     "execution_count": 68,
     "metadata": {},
     "output_type": "execute_result"
    }
   ],
   "source": [
    "train_df = pd.read_csv('train.csv',nrows = 10_000_0)\n",
    "train_df.dtypes"
   ]
  },
  {
   "cell_type": "code",
   "execution_count": 69,
   "metadata": {},
   "outputs": [
    {
     "data": {
      "text/plain": [
       "key                   object\n",
       "pickup_datetime       object\n",
       "pickup_longitude     float64\n",
       "pickup_latitude      float64\n",
       "dropoff_longitude    float64\n",
       "dropoff_latitude     float64\n",
       "passenger_count        int64\n",
       "dtype: object"
      ]
     },
     "execution_count": 69,
     "metadata": {},
     "output_type": "execute_result"
    }
   ],
   "source": [
    "test_df = pd.read_csv('test.csv')\n",
    "test_df.dtypes"
   ]
  },
  {
   "cell_type": "code",
   "execution_count": 70,
   "metadata": {},
   "outputs": [],
   "source": [
    "# Given a dataframe, add two new features 'abs_diff_longitude' and\n",
    "# 'abs_diff_latitude' reprensenting the \"Manhattan vector\" from\n",
    "# the pickup location to the dropoff location.\n",
    "def add_travel_vector_features(df):\n",
    "    df['abs_diff_longitude'] = (df.dropoff_longitude - df.pickup_longitude).abs()\n",
    "    df['abs_diff_latitude'] = (df.dropoff_latitude - df.pickup_latitude).abs()\n",
    "\n",
    "add_travel_vector_features(train_df)"
   ]
  },
  {
   "cell_type": "code",
   "execution_count": 95,
   "metadata": {},
   "outputs": [],
   "source": [
    "#from datetime import datetime"
   ]
  },
  {
   "cell_type": "code",
   "execution_count": null,
   "metadata": {},
   "outputs": [],
   "source": []
  },
  {
   "cell_type": "code",
   "execution_count": 72,
   "metadata": {},
   "outputs": [],
   "source": [
    "#train_df[\"pickup_datetime\"][472]"
   ]
  },
  {
   "cell_type": "code",
   "execution_count": 73,
   "metadata": {},
   "outputs": [],
   "source": [
    "#def add_time_vector_features(df):\n",
    "#    T=[]\n",
    "#    for i in range(len(df)):    \n",
    "#        strs=train_df[\"pickup_datetime\"][i]\n",
    "#        T.append(datetime.strptime(strs,\"%Y-%m-%d %H:%M:%S %Z\").time().hour)\n",
    "\n",
    "#    df['hour'] =T\n",
    "\n",
    "#add_time_vector_features(test_df)\n",
    "#add_time_vector_features(train_df)"
   ]
  },
  {
   "cell_type": "code",
   "execution_count": 74,
   "metadata": {},
   "outputs": [],
   "source": [
    "# Define distance\n",
    "def dist(pickup_longitude,pickup_latitude,dropoff_longitude,dropoff_latitude):\n",
    "    pickup_longitude,pickup_latitude,dropoff_longitude,dropoff_latitude = map(np.radians, [pickup_longitude,pickup_latitude,dropoff_longitude,dropoff_latitude])\n",
    "    dlon = dropoff_longitude - pickup_longitude\n",
    "    dlat = dropoff_latitude - pickup_latitude\n",
    "    a = np.sin(dlat/2.0)**2 + np.cos(pickup_latitude) * np.cos(dropoff_latitude) * np.sin(dlon/2.0)**2\n",
    "    c = 2 * np.arcsin(np.sqrt(a))\n",
    "    distance = 6367 * c\n",
    "    return distance"
   ]
  },
  {
   "cell_type": "code",
   "execution_count": 75,
   "metadata": {},
   "outputs": [
    {
     "name": "stdout",
     "output_type": "stream",
     "text": [
      "(9914, 9)\n",
      "(100000, 12)\n"
     ]
    }
   ],
   "source": [
    "# There are extra charges if trip ends in 3 nearby aiports and 7 nearby counties from the NYC center,\n",
    "# so these location points and there distances to pickup and dropoff points are key factors \n",
    "\n",
    "# Distances to nearby city center, airports, and other ny counties\n",
    "def transform(data):\n",
    "    # Distances to nearby airports, city center and other counties\n",
    "    # By reporting distances to these points, the model can somewhat triangulate other locations of interest\n",
    "    \n",
    "    # city center\n",
    "    nyc = (-74.0060, 40.7128)\n",
    "    \n",
    "    \n",
    "    # county\n",
    "    data['pickup_distance_to_center'] = dist(nyc[0], nyc[1],\n",
    "                                      data['pickup_longitude'], data['pickup_latitude'])\n",
    "    data['dropoff_distance_to_center'] = dist(nyc[0], nyc[1],\n",
    "                                      data['dropoff_longitude'], data['dropoff_latitude'])\n",
    "    return data\n",
    "\n",
    "# Apply to both train and test data      \n",
    "train_df = transform(train_df)\n",
    "test_df = transform(test_df)\n",
    "\n",
    "# Chek shape\n",
    "print (test_df.shape)\n",
    "print (train_df.shape)"
   ]
  },
  {
   "cell_type": "code",
   "execution_count": 76,
   "metadata": {},
   "outputs": [
    {
     "data": {
      "text/html": [
       "<div>\n",
       "<style scoped>\n",
       "    .dataframe tbody tr th:only-of-type {\n",
       "        vertical-align: middle;\n",
       "    }\n",
       "\n",
       "    .dataframe tbody tr th {\n",
       "        vertical-align: top;\n",
       "    }\n",
       "\n",
       "    .dataframe thead th {\n",
       "        text-align: right;\n",
       "    }\n",
       "</style>\n",
       "<table border=\"1\" class=\"dataframe\">\n",
       "  <thead>\n",
       "    <tr style=\"text-align: right;\">\n",
       "      <th></th>\n",
       "      <th>key</th>\n",
       "      <th>fare_amount</th>\n",
       "      <th>pickup_datetime</th>\n",
       "      <th>pickup_longitude</th>\n",
       "      <th>pickup_latitude</th>\n",
       "      <th>dropoff_longitude</th>\n",
       "      <th>dropoff_latitude</th>\n",
       "      <th>passenger_count</th>\n",
       "      <th>abs_diff_longitude</th>\n",
       "      <th>abs_diff_latitude</th>\n",
       "      <th>pickup_distance_to_center</th>\n",
       "      <th>dropoff_distance_to_center</th>\n",
       "    </tr>\n",
       "  </thead>\n",
       "  <tbody>\n",
       "    <tr>\n",
       "      <th>0</th>\n",
       "      <td>2009-06-15 17:26:21.0000001</td>\n",
       "      <td>4.5</td>\n",
       "      <td>2009-06-15 17:26:21 UTC</td>\n",
       "      <td>-73.844311</td>\n",
       "      <td>40.721319</td>\n",
       "      <td>-73.841610</td>\n",
       "      <td>40.712278</td>\n",
       "      <td>1</td>\n",
       "      <td>0.002701</td>\n",
       "      <td>0.009041</td>\n",
       "      <td>13.651310</td>\n",
       "      <td>13.847002</td>\n",
       "    </tr>\n",
       "    <tr>\n",
       "      <th>1</th>\n",
       "      <td>2010-01-05 16:52:16.0000002</td>\n",
       "      <td>16.9</td>\n",
       "      <td>2010-01-05 16:52:16 UTC</td>\n",
       "      <td>-74.016048</td>\n",
       "      <td>40.711303</td>\n",
       "      <td>-73.979268</td>\n",
       "      <td>40.782004</td>\n",
       "      <td>1</td>\n",
       "      <td>0.036780</td>\n",
       "      <td>0.070701</td>\n",
       "      <td>0.862562</td>\n",
       "      <td>8.012836</td>\n",
       "    </tr>\n",
       "    <tr>\n",
       "      <th>2</th>\n",
       "      <td>2011-08-18 00:35:00.00000049</td>\n",
       "      <td>5.7</td>\n",
       "      <td>2011-08-18 00:35:00 UTC</td>\n",
       "      <td>-73.982738</td>\n",
       "      <td>40.761270</td>\n",
       "      <td>-73.991242</td>\n",
       "      <td>40.750562</td>\n",
       "      <td>2</td>\n",
       "      <td>0.008504</td>\n",
       "      <td>0.010708</td>\n",
       "      <td>5.731313</td>\n",
       "      <td>4.376458</td>\n",
       "    </tr>\n",
       "    <tr>\n",
       "      <th>3</th>\n",
       "      <td>2012-04-21 04:30:42.0000001</td>\n",
       "      <td>7.7</td>\n",
       "      <td>2012-04-21 04:30:42 UTC</td>\n",
       "      <td>-73.987130</td>\n",
       "      <td>40.733143</td>\n",
       "      <td>-73.991567</td>\n",
       "      <td>40.758092</td>\n",
       "      <td>1</td>\n",
       "      <td>0.004437</td>\n",
       "      <td>0.024949</td>\n",
       "      <td>2.763326</td>\n",
       "      <td>5.177725</td>\n",
       "    </tr>\n",
       "    <tr>\n",
       "      <th>4</th>\n",
       "      <td>2010-03-09 07:51:00.000000135</td>\n",
       "      <td>5.3</td>\n",
       "      <td>2010-03-09 07:51:00 UTC</td>\n",
       "      <td>-73.968095</td>\n",
       "      <td>40.768008</td>\n",
       "      <td>-73.956655</td>\n",
       "      <td>40.783762</td>\n",
       "      <td>1</td>\n",
       "      <td>0.011440</td>\n",
       "      <td>0.015754</td>\n",
       "      <td>6.915466</td>\n",
       "      <td>8.912964</td>\n",
       "    </tr>\n",
       "    <tr>\n",
       "      <th>...</th>\n",
       "      <td>...</td>\n",
       "      <td>...</td>\n",
       "      <td>...</td>\n",
       "      <td>...</td>\n",
       "      <td>...</td>\n",
       "      <td>...</td>\n",
       "      <td>...</td>\n",
       "      <td>...</td>\n",
       "      <td>...</td>\n",
       "      <td>...</td>\n",
       "      <td>...</td>\n",
       "      <td>...</td>\n",
       "    </tr>\n",
       "    <tr>\n",
       "      <th>99995</th>\n",
       "      <td>2013-09-24 07:39:00.00000071</td>\n",
       "      <td>9.0</td>\n",
       "      <td>2013-09-24 07:39:00 UTC</td>\n",
       "      <td>-73.947977</td>\n",
       "      <td>40.784792</td>\n",
       "      <td>-73.964262</td>\n",
       "      <td>40.792347</td>\n",
       "      <td>5</td>\n",
       "      <td>0.016285</td>\n",
       "      <td>0.007555</td>\n",
       "      <td>9.373497</td>\n",
       "      <td>9.512351</td>\n",
       "    </tr>\n",
       "    <tr>\n",
       "      <th>99996</th>\n",
       "      <td>2014-05-15 12:15:45.0000001</td>\n",
       "      <td>6.0</td>\n",
       "      <td>2014-05-15 12:15:45 UTC</td>\n",
       "      <td>-73.962918</td>\n",
       "      <td>40.799107</td>\n",
       "      <td>-73.974178</td>\n",
       "      <td>40.786487</td>\n",
       "      <td>1</td>\n",
       "      <td>0.011260</td>\n",
       "      <td>0.012620</td>\n",
       "      <td>10.253607</td>\n",
       "      <td>8.615557</td>\n",
       "    </tr>\n",
       "    <tr>\n",
       "      <th>99997</th>\n",
       "      <td>2015-02-19 17:40:43.0000001</td>\n",
       "      <td>5.0</td>\n",
       "      <td>2015-02-19 17:40:43 UTC</td>\n",
       "      <td>-73.996773</td>\n",
       "      <td>40.723549</td>\n",
       "      <td>-73.991974</td>\n",
       "      <td>40.724724</td>\n",
       "      <td>1</td>\n",
       "      <td>0.004799</td>\n",
       "      <td>0.001175</td>\n",
       "      <td>1.425041</td>\n",
       "      <td>1.775183</td>\n",
       "    </tr>\n",
       "    <tr>\n",
       "      <th>99998</th>\n",
       "      <td>2009-10-10 23:35:00.000000165</td>\n",
       "      <td>6.9</td>\n",
       "      <td>2009-10-10 23:35:00 UTC</td>\n",
       "      <td>-73.983652</td>\n",
       "      <td>40.756667</td>\n",
       "      <td>-73.982715</td>\n",
       "      <td>40.767067</td>\n",
       "      <td>4</td>\n",
       "      <td>0.000937</td>\n",
       "      <td>0.010400</td>\n",
       "      <td>5.225330</td>\n",
       "      <td>6.341114</td>\n",
       "    </tr>\n",
       "    <tr>\n",
       "      <th>99999</th>\n",
       "      <td>2010-11-09 16:09:00.00000015</td>\n",
       "      <td>5.7</td>\n",
       "      <td>2010-11-09 16:09:00 UTC</td>\n",
       "      <td>-73.975663</td>\n",
       "      <td>40.791653</td>\n",
       "      <td>-73.982267</td>\n",
       "      <td>40.774968</td>\n",
       "      <td>1</td>\n",
       "      <td>0.006604</td>\n",
       "      <td>0.016685</td>\n",
       "      <td>9.127116</td>\n",
       "      <td>7.191585</td>\n",
       "    </tr>\n",
       "  </tbody>\n",
       "</table>\n",
       "<p>100000 rows × 12 columns</p>\n",
       "</div>"
      ],
      "text/plain": [
       "                                 key  fare_amount          pickup_datetime  \\\n",
       "0        2009-06-15 17:26:21.0000001          4.5  2009-06-15 17:26:21 UTC   \n",
       "1        2010-01-05 16:52:16.0000002         16.9  2010-01-05 16:52:16 UTC   \n",
       "2       2011-08-18 00:35:00.00000049          5.7  2011-08-18 00:35:00 UTC   \n",
       "3        2012-04-21 04:30:42.0000001          7.7  2012-04-21 04:30:42 UTC   \n",
       "4      2010-03-09 07:51:00.000000135          5.3  2010-03-09 07:51:00 UTC   \n",
       "...                              ...          ...                      ...   \n",
       "99995   2013-09-24 07:39:00.00000071          9.0  2013-09-24 07:39:00 UTC   \n",
       "99996    2014-05-15 12:15:45.0000001          6.0  2014-05-15 12:15:45 UTC   \n",
       "99997    2015-02-19 17:40:43.0000001          5.0  2015-02-19 17:40:43 UTC   \n",
       "99998  2009-10-10 23:35:00.000000165          6.9  2009-10-10 23:35:00 UTC   \n",
       "99999   2010-11-09 16:09:00.00000015          5.7  2010-11-09 16:09:00 UTC   \n",
       "\n",
       "       pickup_longitude  pickup_latitude  dropoff_longitude  dropoff_latitude  \\\n",
       "0            -73.844311        40.721319         -73.841610         40.712278   \n",
       "1            -74.016048        40.711303         -73.979268         40.782004   \n",
       "2            -73.982738        40.761270         -73.991242         40.750562   \n",
       "3            -73.987130        40.733143         -73.991567         40.758092   \n",
       "4            -73.968095        40.768008         -73.956655         40.783762   \n",
       "...                 ...              ...                ...               ...   \n",
       "99995        -73.947977        40.784792         -73.964262         40.792347   \n",
       "99996        -73.962918        40.799107         -73.974178         40.786487   \n",
       "99997        -73.996773        40.723549         -73.991974         40.724724   \n",
       "99998        -73.983652        40.756667         -73.982715         40.767067   \n",
       "99999        -73.975663        40.791653         -73.982267         40.774968   \n",
       "\n",
       "       passenger_count  abs_diff_longitude  abs_diff_latitude  \\\n",
       "0                    1            0.002701           0.009041   \n",
       "1                    1            0.036780           0.070701   \n",
       "2                    2            0.008504           0.010708   \n",
       "3                    1            0.004437           0.024949   \n",
       "4                    1            0.011440           0.015754   \n",
       "...                ...                 ...                ...   \n",
       "99995                5            0.016285           0.007555   \n",
       "99996                1            0.011260           0.012620   \n",
       "99997                1            0.004799           0.001175   \n",
       "99998                4            0.000937           0.010400   \n",
       "99999                1            0.006604           0.016685   \n",
       "\n",
       "       pickup_distance_to_center  dropoff_distance_to_center  \n",
       "0                      13.651310                   13.847002  \n",
       "1                       0.862562                    8.012836  \n",
       "2                       5.731313                    4.376458  \n",
       "3                       2.763326                    5.177725  \n",
       "4                       6.915466                    8.912964  \n",
       "...                          ...                         ...  \n",
       "99995                   9.373497                    9.512351  \n",
       "99996                  10.253607                    8.615557  \n",
       "99997                   1.425041                    1.775183  \n",
       "99998                   5.225330                    6.341114  \n",
       "99999                   9.127116                    7.191585  \n",
       "\n",
       "[100000 rows x 12 columns]"
      ]
     },
     "execution_count": 76,
     "metadata": {},
     "output_type": "execute_result"
    }
   ],
   "source": [
    "train_df"
   ]
  },
  {
   "cell_type": "code",
   "execution_count": 9,
   "metadata": {},
   "outputs": [],
   "source": [
    "#test_df"
   ]
  },
  {
   "cell_type": "code",
   "execution_count": 77,
   "metadata": {},
   "outputs": [
    {
     "name": "stdout",
     "output_type": "stream",
     "text": [
      "key                           0\n",
      "fare_amount                   0\n",
      "pickup_datetime               0\n",
      "pickup_longitude              0\n",
      "pickup_latitude               0\n",
      "dropoff_longitude             0\n",
      "dropoff_latitude              0\n",
      "passenger_count               0\n",
      "abs_diff_longitude            0\n",
      "abs_diff_latitude             0\n",
      "pickup_distance_to_center     0\n",
      "dropoff_distance_to_center    0\n",
      "dtype: int64\n"
     ]
    }
   ],
   "source": [
    "print(train_df.isnull().sum())"
   ]
  },
  {
   "cell_type": "code",
   "execution_count": 78,
   "metadata": {},
   "outputs": [
    {
     "name": "stdout",
     "output_type": "stream",
     "text": [
      "Old size: 100000\n",
      "New size: 100000\n"
     ]
    }
   ],
   "source": [
    "#Explore and prune outliers\n",
    "print('Old size: %d' % len(train_df))\n",
    "train_df = train_df.dropna(how = 'any', axis = 'rows')\n",
    "print('New size: %d' % len(train_df))"
   ]
  },
  {
   "cell_type": "code",
   "execution_count": 79,
   "metadata": {},
   "outputs": [
    {
     "data": {
      "image/png": "[encoded data removed]",
      "text/plain": [
       "<Figure size 432x288 with 1 Axes>"
      ]
     },
     "metadata": {
      "needs_background": "light"
     },
     "output_type": "display_data"
    }
   ],
   "source": [
    "plot = train_df.iloc[:2000].plot.scatter('abs_diff_longitude', 'abs_diff_latitude')"
   ]
  },
  {
   "cell_type": "code",
   "execution_count": 80,
   "metadata": {},
   "outputs": [
    {
     "name": "stdout",
     "output_type": "stream",
     "text": [
      "Old size: 100000\n",
      "New size: 99811\n"
     ]
    }
   ],
   "source": [
    "print('Old size: %d' % len(train_df))\n",
    "train_df = train_df[(train_df.abs_diff_longitude < 5.0) & (train_df.abs_diff_latitude < 5.0)]\n",
    "print('New size: %d' % len(train_df))"
   ]
  },
  {
   "cell_type": "code",
   "execution_count": 81,
   "metadata": {},
   "outputs": [
    {
     "data": {
      "image/png": "[encoded data removed]",
      "text/plain": [
       "<Figure size 432x288 with 1 Axes>"
      ]
     },
     "metadata": {
      "needs_background": "light"
     },
     "output_type": "display_data"
    }
   ],
   "source": [
    "plot1 = train_df.iloc[:2000].plot.scatter('abs_diff_longitude', 'abs_diff_latitude')"
   ]
  },
  {
   "cell_type": "code",
   "execution_count": null,
   "metadata": {},
   "outputs": [],
   "source": []
  },
  {
   "cell_type": "code",
   "execution_count": 82,
   "metadata": {},
   "outputs": [],
   "source": [
    "from sklearn.preprocessing import StandardScaler"
   ]
  },
  {
   "cell_type": "code",
   "execution_count": 83,
   "metadata": {},
   "outputs": [
    {
     "name": "stdout",
     "output_type": "stream",
     "text": [
      "Index(['key', 'fare_amount', 'pickup_datetime', 'pickup_longitude',\n",
      "       'pickup_latitude', 'dropoff_longitude', 'dropoff_latitude',\n",
      "       'passenger_count', 'abs_diff_longitude', 'abs_diff_latitude',\n",
      "       'pickup_distance_to_center', 'dropoff_distance_to_center'],\n",
      "      dtype='object')\n"
     ]
    }
   ],
   "source": [
    "print(train_df.columns)"
   ]
  },
  {
   "cell_type": "code",
   "execution_count": null,
   "metadata": {},
   "outputs": [],
   "source": []
  },
  {
   "cell_type": "code",
   "execution_count": null,
   "metadata": {
    "scrolled": false
   },
   "outputs": [],
   "source": []
  },
  {
   "cell_type": "code",
   "execution_count": 84,
   "metadata": {},
   "outputs": [
    {
     "name": "stdout",
     "output_type": "stream",
     "text": [
      "(99811, 5)\n",
      "(99811,)\n"
     ]
    }
   ],
   "source": [
    "# Construct and return an Nx3 input matrix for our linear model\n",
    "# using the travel vector, plus a 1.0 for a constant bias term.\n",
    "def get_input_matrix(df):\n",
    "    return np.column_stack((df.abs_diff_longitude, df.abs_diff_latitude, np.ones(len(df))))\n",
    "\n",
    "def get_input_matrix2(df):\n",
    "    scaler = StandardScaler()\n",
    "    scaler.fit(df[['abs_diff_longitude', 'abs_diff_latitude']])\n",
    "    Trans=scaler.transform(df[['abs_diff_longitude', 'abs_diff_latitude']])\n",
    "    return np.column_stack((Trans,df[['pickup_distance_to_center','dropoff_distance_to_center']],np.ones(len(df))))\n",
    "\n",
    "\n",
    "train_X = get_input_matrix2(train_df)#get_input_matrix(train_df)\n",
    "train_y = np.array(train_df['fare_amount'])\n",
    "\n",
    "print(train_X.shape)\n",
    "print(train_y.shape)"
   ]
  },
  {
   "cell_type": "code",
   "execution_count": 85,
   "metadata": {},
   "outputs": [],
   "source": [
    "#linear regression"
   ]
  },
  {
   "cell_type": "code",
   "execution_count": 94,
   "metadata": {},
   "outputs": [],
   "source": [
    "# The lstsq function returns several things, and we only care about the actual weight vector w.\n",
    "#(w, _, _, _) = np.linalg.lstsq(train_X, train_y, rcond = None)\n",
    "#print(w)"
   ]
  },
  {
   "cell_type": "code",
   "execution_count": null,
   "metadata": {},
   "outputs": [],
   "source": []
  },
  {
   "cell_type": "code",
   "execution_count": 60,
   "metadata": {},
   "outputs": [],
   "source": [
    "# Reuse the above helper functions to add our features and generate the input matrix.\n",
    "add_travel_vector_features(test_df)\n",
    "test_X = get_input_matrix2(test_df)\n"
   ]
  },
  {
   "cell_type": "code",
   "execution_count": 21,
   "metadata": {},
   "outputs": [],
   "source": [
    "# Predict fare_amount on the test set using our model (w) trained on the training set.\n",
    "test_y_predictions = np.matmul(test_X, w).round(decimals = 2)"
   ]
  },
  {
   "cell_type": "code",
   "execution_count": 93,
   "metadata": {},
   "outputs": [],
   "source": [
    "#submission3 = pd.DataFrame(\n",
    "#    {'key': test_df.key, 'fare_amount': test_y_predictions},\n",
    "#    columns = ['key', 'fare_amount'])\n",
    "#submission3.to_csv('submission3.csv', index = False)\n"
   ]
  },
  {
   "cell_type": "code",
   "execution_count": 26,
   "metadata": {},
   "outputs": [],
   "source": [
    "#SVR"
   ]
  },
  {
   "cell_type": "code",
   "execution_count": 25,
   "metadata": {},
   "outputs": [],
   "source": [
    "#from sklearn.svm import SVR\n",
    "#regrs= SVR(C=1.0, epsilon=0.5)\n",
    "\n",
    "#regrs.fit(train_X,train_y)\n",
    "\n",
    "#test_y_predictions=regrs.predict(test_X)"
   ]
  },
  {
   "cell_type": "code",
   "execution_count": 27,
   "metadata": {},
   "outputs": [],
   "source": [
    "#from sklearn.svm import NuSVR\n",
    "#regr =NuSVR(C=1.0, nu=0.1)"
   ]
  },
  {
   "cell_type": "code",
   "execution_count": 28,
   "metadata": {},
   "outputs": [
    {
     "data": {
      "text/plain": [
       "NuSVR(nu=0.1)"
      ]
     },
     "execution_count": 28,
     "metadata": {},
     "output_type": "execute_result"
    }
   ],
   "source": [
    "#regr.fit(train_X,train_y)"
   ]
  },
  {
   "cell_type": "code",
   "execution_count": 90,
   "metadata": {},
   "outputs": [],
   "source": [
    "#test_y_predictions=regr.predict(test_X)"
   ]
  },
  {
   "cell_type": "code",
   "execution_count": 89,
   "metadata": {},
   "outputs": [],
   "source": [
    "#submission5 = pd.DataFrame(\n",
    "#    {'key': test_df.key, 'fare_amount': test_y_predictions},\n",
    "#    columns = ['key', 'fare_amount'])\n",
    "#submission5.to_csv('submission5.csv', index = False)\n"
   ]
  },
  {
   "cell_type": "code",
   "execution_count": 192,
   "metadata": {},
   "outputs": [],
   "source": [
    "#Knn"
   ]
  },
  {
   "cell_type": "code",
   "execution_count": 87,
   "metadata": {},
   "outputs": [],
   "source": [
    "from sklearn.neighbors import KNeighborsRegressor\n",
    "neigh = KNeighborsRegressor(n_neighbors=15)\n",
    "neigh.fit(train_X,train_y)\n",
    "\n",
    "test_y_predictions=neigh.predict(test_X)"
   ]
  },
  {
   "cell_type": "code",
   "execution_count": 88,
   "metadata": {},
   "outputs": [],
   "source": [
    "submission4 = pd.DataFrame(\n",
    "    {'key': test_df.key, 'fare_amount': test_y_predictions},\n",
    "    columns = ['key', 'fare_amount'])\n",
    "submission4.to_csv('submission4.csv', index = False)\n"
   ]
  },
  {
   "cell_type": "code",
   "execution_count": null,
   "metadata": {},
   "outputs": [],
   "source": []
  }
 ],
 "metadata": {
  "kernelspec": {
   "display_name": "Python 3",
   "language": "python",
   "name": "python3"
  },
  "language_info": {
   "codemirror_mode": {
    "name": "ipython",
    "version": 3
   },
   "file_extension": ".py",
   "mimetype": "text/x-python",
   "name": "python",
   "nbconvert_exporter": "python",
   "pygments_lexer": "ipython3",
   "version": "3.8.3"
  }
 },
 "nbformat": 4,
 "nbformat_minor": 4
}
