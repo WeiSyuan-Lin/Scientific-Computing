{
 "cells": [
  {
   "cell_type": "code",
   "execution_count": 1,
   "metadata": {},
   "outputs": [],
   "source": [
    "import numpy as np\n",
    "import matplotlib.pyplot as plt\n",
    "import tensorflow as tf"
   ]
  },
  {
   "cell_type": "code",
   "execution_count": 2,
   "metadata": {},
   "outputs": [],
   "source": [
    "#將MNIST 手寫數字資料讀進來\n",
    "mnist = tf.keras.datasets.mnist\n",
    "\n",
    "# mnist 的load_data()會回傳已經先分割好的training data 和 testing data\n",
    "# 並且將每個 pixel 的值從 Int 轉成 floating point 同時做normalize(這是很常見的preprocessing)\n",
    "(x_train, y_train), (x_test, y_test) = mnist.load_data()\n",
    "x_train, x_test = x_train / 255.0, x_test / 255.0"
   ]
  },
  {
   "cell_type": "code",
   "execution_count": 3,
   "metadata": {},
   "outputs": [],
   "source": [
    "from sklearn.linear_model import LogisticRegression"
   ]
  },
  {
   "cell_type": "code",
   "execution_count": 7,
   "metadata": {},
   "outputs": [],
   "source": [
    "import time"
   ]
  },
  {
   "cell_type": "code",
   "execution_count": 294,
   "metadata": {},
   "outputs": [],
   "source": [
    "X_train = np.reshape(x_train,(60000,28*28))"
   ]
  },
  {
   "cell_type": "code",
   "execution_count": 17,
   "metadata": {},
   "outputs": [],
   "source": [
    "X_test = np.reshape(x_test,(10000,28*28))"
   ]
  },
  {
   "cell_type": "code",
   "execution_count": 5,
   "metadata": {},
   "outputs": [],
   "source": [
    "from scipy.spatial import distance_matrix"
   ]
  },
  {
   "cell_type": "code",
   "execution_count": 191,
   "metadata": {},
   "outputs": [
    {
     "name": "stdout",
     "output_type": "stream",
     "text": [
      "1.208768606185913\n"
     ]
    }
   ],
   "source": [
    "start = time.time()\n",
    "p=distance_matrix(X_train[0].reshape(1,784),X_train[0:60000])    \n",
    "end = time.time()\n",
    "print(end-start)\n"
   ]
  },
  {
   "cell_type": "code",
   "execution_count": null,
   "metadata": {},
   "outputs": [],
   "source": [
    "#np.exp(-0.01*distance_matrix(X_train[0].reshape(1,784),X_train[0:60000])**2).T"
   ]
  },
  {
   "cell_type": "code",
   "execution_count": 237,
   "metadata": {},
   "outputs": [],
   "source": [
    "theta=np.ones([60000,10])"
   ]
  },
  {
   "cell_type": "code",
   "execution_count": 8,
   "metadata": {},
   "outputs": [
    {
     "name": "stderr",
     "output_type": "stream",
     "text": [
      "<ipython-input-8-3e5e77f741ae>:7: RuntimeWarning: overflow encountered in exp\n",
      "  q=np.exp(np.dot(theta.T,Phi))\n",
      "<ipython-input-8-3e5e77f741ae>:10: RuntimeWarning: invalid value encountered in true_divide\n",
      "  updatecom=(q.T/tol)*Phi.reshape(60000,1)\n"
     ]
    },
    {
     "name": "stdout",
     "output_type": "stream",
     "text": [
      "196.73750591278076\n"
     ]
    }
   ],
   "source": [
    "start = time.time()\n",
    "theta=np.ones([60000,10])\n",
    "for i in range(150):\n",
    "        i0=np.random.randint(low=1,high=len(X_train),size=1)[0]\n",
    "        updatey=np.zeros([60000,10])\n",
    "        Phi=np.exp(-0.01*distance_matrix(X_train[i0].reshape(1,784),X_train[0:60000])**2).T\n",
    "        q=np.exp(np.dot(theta.T,Phi))\n",
    "        tol=sum(q)\n",
    "\n",
    "        updatecom=(q.T/tol)*Phi.reshape(60000,1)\n",
    "        updatey[:,y_train[i:i+1]]=Phi\n",
    "        update=(-1*updatecom+updatey)\n",
    "        theta=theta+0.003*update\n",
    "end = time.time()\n",
    "print(end-start)"
   ]
  },
  {
   "cell_type": "code",
   "execution_count": 9,
   "metadata": {},
   "outputs": [],
   "source": [
    "from sklearn import  metrics"
   ]
  },
  {
   "cell_type": "code",
   "execution_count": 10,
   "metadata": {},
   "outputs": [],
   "source": [
    "def Logistic_digit_pred(X_test,theta,i):\n",
    "    Phi=np.exp(-0.01*distance_matrix(X_test[i].reshape(1,784),X_train[0:60000])**2).T\n",
    "    qp=np.exp(np.dot(theta.T,Phi))\n",
    "    tol=sum(qp)\n",
    "\n",
    "    return np.argmax(qp/tol)\n"
   ]
  },
  {
   "cell_type": "code",
   "execution_count": 263,
   "metadata": {},
   "outputs": [],
   "source": [
    "A=[]\n",
    "for i in range(len(y_test)):\n",
    "    A.append(Logistic_digit_pred(X_test,theta,i))\n"
   ]
  },
  {
   "cell_type": "code",
   "execution_count": 264,
   "metadata": {},
   "outputs": [
    {
     "name": "stdout",
     "output_type": "stream",
     "text": [
      "Confusion matrix:\n",
      "[[ 8  0  0  0  0  0  0  0  0  0]\n",
      " [14  0  0  0  0  0  0  0  0  0]\n",
      " [ 8  0  0  0  0  0  0  0  0  0]\n",
      " [11  0  0  0  0  0  0  0  0  0]\n",
      " [14  0  0  0  0  0  0  0  0  0]\n",
      " [ 7  0  0  0  0  0  0  0  0  0]\n",
      " [10  0  0  0  0  0  0  0  0  0]\n",
      " [15  0  0  0  0  0  0  0  0  0]\n",
      " [ 2  0  0  0  0  0  0  0  0  0]\n",
      " [11  0  0  0  0  0  0  0  0  0]]\n"
     ]
    }
   ],
   "source": [
    "cm1 = metrics.confusion_matrix(y_test, A)\n",
    "print(\"Confusion matrix:\\n%s\" % cm1)"
   ]
  },
  {
   "cell_type": "code",
   "execution_count": 265,
   "metadata": {},
   "outputs": [
    {
     "name": "stdout",
     "output_type": "stream",
     "text": [
      "Accuracy=0.08\n"
     ]
    }
   ],
   "source": [
    "print(\"Accuracy={}\".format(metrics.accuracy_score(y_test,A)))"
   ]
  },
  {
   "cell_type": "code",
   "execution_count": 240,
   "metadata": {},
   "outputs": [
    {
     "data": {
      "text/plain": [
       "0"
      ]
     },
     "execution_count": 240,
     "metadata": {},
     "output_type": "execute_result"
    }
   ],
   "source": [
    "Logistic_digit_pred(X_test,theta,10)"
   ]
  },
  {
   "cell_type": "code",
   "execution_count": 153,
   "metadata": {},
   "outputs": [
    {
     "data": {
      "text/plain": [
       "(60000, 10)"
      ]
     },
     "execution_count": 153,
     "metadata": {},
     "output_type": "execute_result"
    }
   ],
   "source": [
    "((q.T/tol)*Phi.reshape(60000,1)).shape"
   ]
  },
  {
   "cell_type": "code",
   "execution_count": 15,
   "metadata": {},
   "outputs": [],
   "source": [
    "X_test = np.reshape(x_test,(10000,28*28))"
   ]
  },
  {
   "cell_type": "code",
   "execution_count": 6,
   "metadata": {},
   "outputs": [
    {
     "name": "stderr",
     "output_type": "stream",
     "text": [
      "c:\\python\\lib\\site-packages\\sklearn\\linear_model\\_logistic.py:762: ConvergenceWarning: lbfgs failed to converge (status=1):\n",
      "STOP: TOTAL NO. of ITERATIONS REACHED LIMIT.\n",
      "\n",
      "Increase the number of iterations (max_iter) or scale the data as shown in:\n",
      "    https://scikit-learn.org/stable/modules/preprocessing.html\n",
      "Please also refer to the documentation for alternative solver options:\n",
      "    https://scikit-learn.org/stable/modules/linear_model.html#logistic-regression\n",
      "  n_iter_i = _check_optimize_result(\n"
     ]
    }
   ],
   "source": [
    "clf = LogisticRegression(max_iter=200).fit(X_train,y_train)"
   ]
  },
  {
   "cell_type": "code",
   "execution_count": 7,
   "metadata": {},
   "outputs": [],
   "source": [
    "from sklearn import  metrics"
   ]
  },
  {
   "cell_type": "code",
   "execution_count": 8,
   "metadata": {},
   "outputs": [],
   "source": [
    "expected = y_test\n",
    "predicted = clf.predict(X_test)"
   ]
  },
  {
   "cell_type": "code",
   "execution_count": 9,
   "metadata": {},
   "outputs": [
    {
     "name": "stdout",
     "output_type": "stream",
     "text": [
      "Confusion matrix:\n",
      "[[ 957    0    1    4    1    9    4    3    1    0]\n",
      " [   0 1112    5    1    0    1    3    1   12    0]\n",
      " [   6    9  930   15   10    3   12    9   34    4]\n",
      " [   4    1   17  922    1   25    2   10   21    7]\n",
      " [   1    3    7    3  924    0    5    4    7   28]\n",
      " [   9    2    3   34    8  779   15    7   31    4]\n",
      " [   8    3    9    2    6   16  911    2    1    0]\n",
      " [   1    7   23    7    5    1    0  949    2   33]\n",
      " [   9   11    6   22    7   27   14    9  859   10]\n",
      " [   9    8    1    9   26    7    0   21    7  921]]\n"
     ]
    }
   ],
   "source": [
    "cm = metrics.confusion_matrix(expected, predicted)\n",
    "print(\"Confusion matrix:\\n%s\" % cm)"
   ]
  },
  {
   "cell_type": "code",
   "execution_count": 10,
   "metadata": {},
   "outputs": [
    {
     "name": "stdout",
     "output_type": "stream",
     "text": [
      "Accuracy=0.9264\n"
     ]
    }
   ],
   "source": [
    "print(\"Accuracy={}\".format(metrics.accuracy_score(expected, predicted)))"
   ]
  },
  {
   "cell_type": "code",
   "execution_count": null,
   "metadata": {},
   "outputs": [],
   "source": []
  },
  {
   "cell_type": "code",
   "execution_count": 12,
   "metadata": {},
   "outputs": [],
   "source": [
    "from scipy.spatial import distance_matrix"
   ]
  },
  {
   "cell_type": "code",
   "execution_count": 126,
   "metadata": {},
   "outputs": [],
   "source": []
  },
  {
   "cell_type": "code",
   "execution_count": 14,
   "metadata": {},
   "outputs": [
    {
     "data": {
      "text/plain": [
       "(784,)"
      ]
     },
     "execution_count": 14,
     "metadata": {},
     "output_type": "execute_result"
    }
   ],
   "source": [
    "p=np.ones(784)*X_train\n",
    "sum(p).shape"
   ]
  },
  {
   "cell_type": "code",
   "execution_count": 15,
   "metadata": {},
   "outputs": [],
   "source": [
    "theta=np.ones([784,10])"
   ]
  },
  {
   "cell_type": "code",
   "execution_count": null,
   "metadata": {},
   "outputs": [],
   "source": []
  },
  {
   "cell_type": "code",
   "execution_count": null,
   "metadata": {},
   "outputs": [],
   "source": []
  },
  {
   "cell_type": "code",
   "execution_count": 32,
   "metadata": {},
   "outputs": [
    {
     "name": "stdout",
     "output_type": "stream",
     "text": [
      "109.00669956207275\n"
     ]
    }
   ],
   "source": [
    "start = time.time()\n",
    "theta=np.ones([784,10])\n",
    "for j in range(20):\n",
    "    for i in range(len(X_train)):\n",
    "        updatey=np.zeros([784,10])\n",
    "        Phi=X_train[i]\n",
    "        q=np.exp(np.dot(theta.T,Phi))\n",
    "        tol=sum(q)\n",
    "\n",
    "        updatecom=(q/tol)*Phi.reshape(784,1)\n",
    "        updatey[:,y_train[i]]=Phi\n",
    "        update=(-1*updatecom+updatey)\n",
    "        theta=theta+0.003*update\n",
    "end = time.time()\n",
    "print(end-start)"
   ]
  },
  {
   "cell_type": "code",
   "execution_count": 289,
   "metadata": {},
   "outputs": [],
   "source": [
    "def Logistic_digit_pred(X_test,theta,i):\n",
    "    qp=np.exp(np.dot(theta.T,X_test[i]))\n",
    "    tol=sum(qp)\n",
    "\n",
    "    return np.argmax(qp/tol)\n"
   ]
  },
  {
   "cell_type": "code",
   "execution_count": 34,
   "metadata": {},
   "outputs": [],
   "source": [
    "A=[]\n",
    "for i in range(len(y_test)):\n",
    "    A.append(Logistic_digit_pred(X_test,theta,i))\n"
   ]
  },
  {
   "cell_type": "code",
   "execution_count": 35,
   "metadata": {},
   "outputs": [
    {
     "name": "stdout",
     "output_type": "stream",
     "text": [
      "Confusion matrix:\n",
      "[[ 966    0    0    3    0    4    4    1    2    0]\n",
      " [   0 1116    2    3    0    1    4    2    7    0]\n",
      " [   9   13  899   23    7    4   13    9   47    8]\n",
      " [   3    1   17  909    0   39    2    9   19   11]\n",
      " [   1    1    3    2  898    0   12    3   10   52]\n",
      " [   8    2    1   26    7  797   12    5   27    7]\n",
      " [  11    3    4    2    8   23  903    3    1    0]\n",
      " [   1    9   20    7    6    1    0  933    2   49]\n",
      " [   6   12    3   27    8   43   10    7  846   12]\n",
      " [  10    8    1    8   19   10    0   11    5  937]]\n"
     ]
    }
   ],
   "source": [
    "cm1 = metrics.confusion_matrix(y_test, A)\n",
    "print(\"Confusion matrix:\\n%s\" % cm1)"
   ]
  },
  {
   "cell_type": "code",
   "execution_count": 36,
   "metadata": {},
   "outputs": [
    {
     "name": "stdout",
     "output_type": "stream",
     "text": [
      "Accuracy=0.9204\n"
     ]
    }
   ],
   "source": [
    "print(\"Accuracy={}\".format(metrics.accuracy_score(y_test,A)))"
   ]
  },
  {
   "cell_type": "code",
   "execution_count": 290,
   "metadata": {},
   "outputs": [
    {
     "data": {
      "text/plain": [
       "0.8212"
      ]
     },
     "execution_count": 290,
     "metadata": {},
     "output_type": "execute_result"
    }
   ],
   "source": []
  },
  {
   "cell_type": "code",
   "execution_count": 292,
   "metadata": {},
   "outputs": [],
   "source": [
    "from sklearn.model_selection import KFold"
   ]
  },
  {
   "cell_type": "code",
   "execution_count": 293,
   "metadata": {},
   "outputs": [
    {
     "name": "stdout",
     "output_type": "stream",
     "text": [
      "Train Index:  [ 6000  6001  6002 ... 59997 59998 59999] \n",
      "\n",
      "Test Index:  [   0    1    2 ... 5997 5998 5999]\n"
     ]
    },
    {
     "ename": "KeyboardInterrupt",
     "evalue": "",
     "output_type": "error",
     "traceback": [
      "\u001b[1;31m---------------------------------------------------------------------------\u001b[0m",
      "\u001b[1;31mKeyboardInterrupt\u001b[0m                         Traceback (most recent call last)",
      "\u001b[1;32m<ipython-input-293-b08862de4df7>\u001b[0m in \u001b[0;36m<module>\u001b[1;34m\u001b[0m\n\u001b[0;32m     14\u001b[0m             \u001b[0mtol\u001b[0m\u001b[1;33m=\u001b[0m\u001b[0msum\u001b[0m\u001b[1;33m(\u001b[0m\u001b[0mq\u001b[0m\u001b[1;33m)\u001b[0m\u001b[1;33m\u001b[0m\u001b[1;33m\u001b[0m\u001b[0m\n\u001b[0;32m     15\u001b[0m \u001b[1;33m\u001b[0m\u001b[0m\n\u001b[1;32m---> 16\u001b[1;33m             \u001b[0mupdatecom\u001b[0m\u001b[1;33m=\u001b[0m\u001b[1;33m(\u001b[0m\u001b[0mq\u001b[0m\u001b[1;33m/\u001b[0m\u001b[0mtol\u001b[0m\u001b[1;33m)\u001b[0m\u001b[1;33m*\u001b[0m\u001b[0mPhi\u001b[0m\u001b[1;33m.\u001b[0m\u001b[0mreshape\u001b[0m\u001b[1;33m(\u001b[0m\u001b[1;36m784\u001b[0m\u001b[1;33m,\u001b[0m\u001b[1;36m1\u001b[0m\u001b[1;33m)\u001b[0m\u001b[1;33m\u001b[0m\u001b[1;33m\u001b[0m\u001b[0m\n\u001b[0m\u001b[0;32m     17\u001b[0m             \u001b[0mupdatey\u001b[0m\u001b[1;33m[\u001b[0m\u001b[1;33m:\u001b[0m\u001b[1;33m,\u001b[0m\u001b[0my_Train\u001b[0m\u001b[1;33m[\u001b[0m\u001b[0mi\u001b[0m\u001b[1;33m]\u001b[0m\u001b[1;33m]\u001b[0m\u001b[1;33m=\u001b[0m\u001b[0mPhi\u001b[0m\u001b[1;33m\u001b[0m\u001b[1;33m\u001b[0m\u001b[0m\n\u001b[0;32m     18\u001b[0m             \u001b[0mupdate\u001b[0m\u001b[1;33m=\u001b[0m\u001b[1;33m(\u001b[0m\u001b[1;33m-\u001b[0m\u001b[1;36m1\u001b[0m\u001b[1;33m*\u001b[0m\u001b[0mupdatecom\u001b[0m\u001b[1;33m+\u001b[0m\u001b[0mupdatey\u001b[0m\u001b[1;33m)\u001b[0m\u001b[1;33m\u001b[0m\u001b[1;33m\u001b[0m\u001b[0m\n",
      "\u001b[1;31mKeyboardInterrupt\u001b[0m: "
     ]
    }
   ],
   "source": [
    "scores = []\n",
    "\n",
    "cv = KFold(n_splits=10)\n",
    "for train_index, test_index in cv.split(X_train):\n",
    "    print(\"Train Index: \", train_index, \"\\n\")\n",
    "    print(\"Test Index: \", test_index)\n",
    "    X_Train, X_Test, y_Train, y_Test = X_train[train_index], X_train[test_index], y_train[train_index], y_train[test_index]\n",
    "    theta=np.ones([784,10])\n",
    "    for j in range(20):\n",
    "        for i in range(len(X_Train)):\n",
    "            updatey=np.zeros([784,10])\n",
    "            Phi=X_train[i]\n",
    "            q=np.exp(np.dot(theta.T,Phi))\n",
    "            tol=sum(q)\n",
    "\n",
    "            updatecom=(q/tol)*Phi.reshape(784,1)\n",
    "            updatey[:,y_Train[i]]=Phi\n",
    "            update=(-1*updatecom+updatey)\n",
    "            theta=theta+0.003*update\n",
    "    A=[]\n",
    "    for i in range(len(y_test)):\n",
    "        A.append(Logistic_digit_pred(X_test,theta,i))\n",
    "\n",
    "    scores.append(metrics.accuracy_score(y_Test,A))"
   ]
  },
  {
   "cell_type": "code",
   "execution_count": 295,
   "metadata": {},
   "outputs": [
    {
     "name": "stderr",
     "output_type": "stream",
     "text": [
      "c:\\python\\lib\\site-packages\\sklearn\\linear_model\\_logistic.py:762: ConvergenceWarning: lbfgs failed to converge (status=1):\n",
      "STOP: TOTAL NO. of ITERATIONS REACHED LIMIT.\n",
      "\n",
      "Increase the number of iterations (max_iter) or scale the data as shown in:\n",
      "    https://scikit-learn.org/stable/modules/preprocessing.html\n",
      "Please also refer to the documentation for alternative solver options:\n",
      "    https://scikit-learn.org/stable/modules/linear_model.html#logistic-regression\n",
      "  n_iter_i = _check_optimize_result(\n",
      "c:\\python\\lib\\site-packages\\sklearn\\linear_model\\_logistic.py:762: ConvergenceWarning: lbfgs failed to converge (status=1):\n",
      "STOP: TOTAL NO. of ITERATIONS REACHED LIMIT.\n",
      "\n",
      "Increase the number of iterations (max_iter) or scale the data as shown in:\n",
      "    https://scikit-learn.org/stable/modules/preprocessing.html\n",
      "Please also refer to the documentation for alternative solver options:\n",
      "    https://scikit-learn.org/stable/modules/linear_model.html#logistic-regression\n",
      "  n_iter_i = _check_optimize_result(\n",
      "c:\\python\\lib\\site-packages\\sklearn\\linear_model\\_logistic.py:762: ConvergenceWarning: lbfgs failed to converge (status=1):\n",
      "STOP: TOTAL NO. of ITERATIONS REACHED LIMIT.\n",
      "\n",
      "Increase the number of iterations (max_iter) or scale the data as shown in:\n",
      "    https://scikit-learn.org/stable/modules/preprocessing.html\n",
      "Please also refer to the documentation for alternative solver options:\n",
      "    https://scikit-learn.org/stable/modules/linear_model.html#logistic-regression\n",
      "  n_iter_i = _check_optimize_result(\n",
      "c:\\python\\lib\\site-packages\\sklearn\\linear_model\\_logistic.py:762: ConvergenceWarning: lbfgs failed to converge (status=1):\n",
      "STOP: TOTAL NO. of ITERATIONS REACHED LIMIT.\n",
      "\n",
      "Increase the number of iterations (max_iter) or scale the data as shown in:\n",
      "    https://scikit-learn.org/stable/modules/preprocessing.html\n",
      "Please also refer to the documentation for alternative solver options:\n",
      "    https://scikit-learn.org/stable/modules/linear_model.html#logistic-regression\n",
      "  n_iter_i = _check_optimize_result(\n",
      "c:\\python\\lib\\site-packages\\sklearn\\linear_model\\_logistic.py:762: ConvergenceWarning: lbfgs failed to converge (status=1):\n",
      "STOP: TOTAL NO. of ITERATIONS REACHED LIMIT.\n",
      "\n",
      "Increase the number of iterations (max_iter) or scale the data as shown in:\n",
      "    https://scikit-learn.org/stable/modules/preprocessing.html\n",
      "Please also refer to the documentation for alternative solver options:\n",
      "    https://scikit-learn.org/stable/modules/linear_model.html#logistic-regression\n",
      "  n_iter_i = _check_optimize_result(\n",
      "c:\\python\\lib\\site-packages\\sklearn\\linear_model\\_logistic.py:762: ConvergenceWarning: lbfgs failed to converge (status=1):\n",
      "STOP: TOTAL NO. of ITERATIONS REACHED LIMIT.\n",
      "\n",
      "Increase the number of iterations (max_iter) or scale the data as shown in:\n",
      "    https://scikit-learn.org/stable/modules/preprocessing.html\n",
      "Please also refer to the documentation for alternative solver options:\n",
      "    https://scikit-learn.org/stable/modules/linear_model.html#logistic-regression\n",
      "  n_iter_i = _check_optimize_result(\n",
      "c:\\python\\lib\\site-packages\\sklearn\\linear_model\\_logistic.py:762: ConvergenceWarning: lbfgs failed to converge (status=1):\n",
      "STOP: TOTAL NO. of ITERATIONS REACHED LIMIT.\n",
      "\n",
      "Increase the number of iterations (max_iter) or scale the data as shown in:\n",
      "    https://scikit-learn.org/stable/modules/preprocessing.html\n",
      "Please also refer to the documentation for alternative solver options:\n",
      "    https://scikit-learn.org/stable/modules/linear_model.html#logistic-regression\n",
      "  n_iter_i = _check_optimize_result(\n",
      "c:\\python\\lib\\site-packages\\sklearn\\linear_model\\_logistic.py:762: ConvergenceWarning: lbfgs failed to converge (status=1):\n",
      "STOP: TOTAL NO. of ITERATIONS REACHED LIMIT.\n",
      "\n",
      "Increase the number of iterations (max_iter) or scale the data as shown in:\n",
      "    https://scikit-learn.org/stable/modules/preprocessing.html\n",
      "Please also refer to the documentation for alternative solver options:\n",
      "    https://scikit-learn.org/stable/modules/linear_model.html#logistic-regression\n",
      "  n_iter_i = _check_optimize_result(\n",
      "c:\\python\\lib\\site-packages\\sklearn\\linear_model\\_logistic.py:762: ConvergenceWarning: lbfgs failed to converge (status=1):\n",
      "STOP: TOTAL NO. of ITERATIONS REACHED LIMIT.\n",
      "\n",
      "Increase the number of iterations (max_iter) or scale the data as shown in:\n",
      "    https://scikit-learn.org/stable/modules/preprocessing.html\n",
      "Please also refer to the documentation for alternative solver options:\n",
      "    https://scikit-learn.org/stable/modules/linear_model.html#logistic-regression\n",
      "  n_iter_i = _check_optimize_result(\n"
     ]
    },
    {
     "name": "stdout",
     "output_type": "stream",
     "text": [
      "[0.92666667 0.92066667 0.90833333 0.926      0.923      0.9155\n",
      " 0.91283333 0.9175     0.91716667 0.93916667]\n"
     ]
    },
    {
     "name": "stderr",
     "output_type": "stream",
     "text": [
      "c:\\python\\lib\\site-packages\\sklearn\\linear_model\\_logistic.py:762: ConvergenceWarning: lbfgs failed to converge (status=1):\n",
      "STOP: TOTAL NO. of ITERATIONS REACHED LIMIT.\n",
      "\n",
      "Increase the number of iterations (max_iter) or scale the data as shown in:\n",
      "    https://scikit-learn.org/stable/modules/preprocessing.html\n",
      "Please also refer to the documentation for alternative solver options:\n",
      "    https://scikit-learn.org/stable/modules/linear_model.html#logistic-regression\n",
      "  n_iter_i = _check_optimize_result(\n"
     ]
    }
   ],
   "source": [
    "from sklearn.linear_model import LogisticRegression\n",
    "from sklearn.model_selection import cross_val_score\n",
    "clf = LogisticRegression(random_state=0)\n",
    "print(cross_val_score(clf, X_train, y_train, cv=10))"
   ]
  },
  {
   "cell_type": "code",
   "execution_count": 297,
   "metadata": {},
   "outputs": [
    {
     "data": {
      "text/plain": [
       "0.9206833340000001"
      ]
     },
     "execution_count": 297,
     "metadata": {},
     "output_type": "execute_result"
    }
   ],
   "source": [
    "sum([0.92666667 ,0.92066667 ,0.90833333 ,0.926    ,  0.923   ,   0.9155\n",
    " ,0.91283333 ,0.9175  ,   0.91716667 ,0.93916667])/10"
   ]
  },
  {
   "cell_type": "code",
   "execution_count": null,
   "metadata": {},
   "outputs": [],
   "source": []
  },
  {
   "cell_type": "code",
   "execution_count": 37,
   "metadata": {},
   "outputs": [],
   "source": [
    "S=np.array([X_train[y_train==i].mean(axis=0) for i in range(10)])"
   ]
  },
  {
   "cell_type": "code",
   "execution_count": 281,
   "metadata": {},
   "outputs": [
    {
     "data": {
      "text/plain": [
       "array([[0.85064703, 0.86298604, 0.85869466, 0.85761169, 0.86056845,\n",
       "        0.8559248 , 0.86049886, 0.86089504, 0.85891142, 0.86166121]])"
      ]
     },
     "execution_count": 281,
     "metadata": {},
     "output_type": "execute_result"
    }
   ],
   "source": [
    "theta=np.ones(10)\n",
    "\n",
    "for i in range(200):\n",
    "    updatey=0\n",
    "    i0=np.random.randint(low=1,high=len(X_train),size=1)[0]\n",
    "    Phi=np.exp(-0.001*(distance_matrix(X_train[i0].reshape(1,784),S))**2)\n",
    "    q=np.exp(theta*Phi)\n",
    "    tol=sum(q.T)\n",
    "\n",
    "    \n",
    "    updatecom=(q/tol)*Phi\n",
    "    updatey=Phi[0][y_train[i0]]\n",
    "    update=(-1*updatecom+updatey)\n",
    "    \n",
    "    theta=theta+0.001*update\n",
    "    \n",
    "update    "
   ]
  },
  {
   "cell_type": "code",
   "execution_count": 296,
   "metadata": {},
   "outputs": [],
   "source": [
    "def Logistic_digit_pred(S,X_test,theta,i0):\n",
    "    Phi=np.exp(-0.001*(distance_matrix(X_test[i0].reshape(1,784),S))**2)\n",
    "    #Phi=distance_matrix(X_test[i0].reshape(1,784),S)\n",
    "    q=np.exp(theta*Phi)\n",
    "    tol=sum(q.T)\n",
    "\n",
    "    return np.argmax(q/tol)"
   ]
  },
  {
   "cell_type": "code",
   "execution_count": 286,
   "metadata": {},
   "outputs": [],
   "source": [
    "A=[]\n",
    "for i in range(len(y_test)):\n",
    "    A.append(Logistic_digit_pred(S,X_test,theta,i))\n"
   ]
  },
  {
   "cell_type": "code",
   "execution_count": 287,
   "metadata": {},
   "outputs": [],
   "source": [
    "#print(\"Accuracy={}\".format(metrics.accuracy_score(y_train,A)))"
   ]
  },
  {
   "cell_type": "code",
   "execution_count": 288,
   "metadata": {},
   "outputs": [
    {
     "name": "stdout",
     "output_type": "stream",
     "text": [
      "Accuracy=0.8212\n"
     ]
    }
   ],
   "source": [
    "print(\"Accuracy={}\".format(metrics.accuracy_score(y_test,A)))"
   ]
  },
  {
   "cell_type": "code",
   "execution_count": null,
   "metadata": {},
   "outputs": [],
   "source": []
  },
  {
   "cell_type": "code",
   "execution_count": 113,
   "metadata": {},
   "outputs": [
    {
     "data": {
      "text/plain": [
       "1"
      ]
     },
     "execution_count": 113,
     "metadata": {},
     "output_type": "execute_result"
    },
    {
     "data": {
      "text/plain": [
       "<Figure size 432x288 with 0 Axes>"
      ]
     },
     "metadata": {},
     "output_type": "display_data"
    },
    {
     "data": {
      "image/png": "[encoded data removed]",
      "text/plain": [
       "<Figure size 288x288 with 1 Axes>"
      ]
     },
     "metadata": {
      "needs_background": "light"
     },
     "output_type": "display_data"
    }
   ],
   "source": [
    "plt.gray()\n",
    "plt.matshow(X_test[2].reshape(28,28))\n",
    "y_test[2]"
   ]
  },
  {
   "cell_type": "code",
   "execution_count": 39,
   "metadata": {},
   "outputs": [],
   "source": [
    "X_train = np.reshape(x_train,(60000,28,28,1))"
   ]
  },
  {
   "cell_type": "code",
   "execution_count": 85,
   "metadata": {},
   "outputs": [],
   "source": [
    "X_test = np.reshape(x_test,(10000,28,28,1))"
   ]
  },
  {
   "cell_type": "code",
   "execution_count": 33,
   "metadata": {},
   "outputs": [],
   "source": []
  },
  {
   "cell_type": "code",
   "execution_count": 299,
   "metadata": {},
   "outputs": [
    {
     "name": "stdout",
     "output_type": "stream",
     "text": [
      "Train Index:  [ 6000  6001  6002 ... 59997 59998 59999] \n",
      "\n",
      "Test Index:  [   0    1    2 ... 5997 5998 5999]\n",
      "Train Index:  [    0     1     2 ... 59997 59998 59999] \n",
      "\n",
      "Test Index:  [ 6000  6001  6002 ... 11997 11998 11999]\n",
      "Train Index:  [    0     1     2 ... 59997 59998 59999] \n",
      "\n",
      "Test Index:  [12000 12001 12002 ... 17997 17998 17999]\n",
      "Train Index:  [    0     1     2 ... 59997 59998 59999] \n",
      "\n",
      "Test Index:  [18000 18001 18002 ... 23997 23998 23999]\n",
      "Train Index:  [    0     1     2 ... 59997 59998 59999] \n",
      "\n",
      "Test Index:  [24000 24001 24002 ... 29997 29998 29999]\n",
      "Train Index:  [    0     1     2 ... 59997 59998 59999] \n",
      "\n",
      "Test Index:  [30000 30001 30002 ... 35997 35998 35999]\n",
      "Train Index:  [    0     1     2 ... 59997 59998 59999] \n",
      "\n",
      "Test Index:  [36000 36001 36002 ... 41997 41998 41999]\n",
      "Train Index:  [    0     1     2 ... 59997 59998 59999] \n",
      "\n",
      "Test Index:  [42000 42001 42002 ... 47997 47998 47999]\n",
      "Train Index:  [    0     1     2 ... 59997 59998 59999] \n",
      "\n",
      "Test Index:  [48000 48001 48002 ... 53997 53998 53999]\n",
      "Train Index:  [    0     1     2 ... 53997 53998 53999] \n",
      "\n",
      "Test Index:  [54000 54001 54002 ... 59997 59998 59999]\n"
     ]
    }
   ],
   "source": [
    "scores = []\n",
    "\n",
    "cv = KFold(n_splits=10)\n",
    "for train_index, test_index in cv.split(X_train):\n",
    "    print(\"Train Index: \", train_index, \"\\n\")\n",
    "    print(\"Test Index: \", test_index)\n",
    "    X_Train, X_Test, y_Train, y_Test = X_train[train_index], X_train[test_index], y_train[train_index], y_train[test_index]\n",
    "    theta=np.ones(10)\n",
    "\n",
    "    for i in range(200):\n",
    "        updatey=0\n",
    "        i0=np.random.randint(low=1,high=len(X_Train),size=1)[0]\n",
    "        Phi=np.exp(-0.001*(distance_matrix(X_Train[i0].reshape(1,784),S))**2)\n",
    "        q=np.exp(theta*Phi)\n",
    "        tol=sum(q.T)\n",
    "        updatecom=(q/tol)*Phi\n",
    "        updatey=Phi[0][y_Train[i0]]\n",
    "        update=(-1*updatecom+updatey)\n",
    "        theta=theta+0.001*update\n",
    "    \n",
    "    A=[]\n",
    "    for i in range(len(y_Test)):\n",
    "        A.append(Logistic_digit_pred(S,X_Test,theta,i))\n",
    "\n",
    "    scores.append(metrics.accuracy_score(y_Test,A))"
   ]
  },
  {
   "cell_type": "code",
   "execution_count": 302,
   "metadata": {},
   "outputs": [
    {
     "data": {
      "text/plain": [
       "0.8075666666666667"
      ]
     },
     "execution_count": 302,
     "metadata": {},
     "output_type": "execute_result"
    }
   ],
   "source": [
    "np.array(scores).mean()"
   ]
  },
  {
   "cell_type": "code",
   "execution_count": 304,
   "metadata": {},
   "outputs": [
    {
     "data": {
      "text/plain": [
       "[0.8121666666666667,\n",
       " 0.8048333333333333,\n",
       " 0.7848333333333334,\n",
       " 0.8118333333333333,\n",
       " 0.8075,\n",
       " 0.7931666666666667,\n",
       " 0.8071666666666667,\n",
       " 0.8046666666666666,\n",
       " 0.8006666666666666,\n",
       " 0.8488333333333333]"
      ]
     },
     "execution_count": 304,
     "metadata": {},
     "output_type": "execute_result"
    }
   ],
   "source": [
    "scores"
   ]
  },
  {
   "cell_type": "code",
   "execution_count": null,
   "metadata": {},
   "outputs": [],
   "source": []
  },
  {
   "cell_type": "code",
   "execution_count": 343,
   "metadata": {},
   "outputs": [
    {
     "data": {
      "image/png": "[encoded data removed]",
      "text/plain": [
       "<Figure size 432x288 with 1 Axes>"
      ]
     },
     "metadata": {
      "needs_background": "light"
     },
     "output_type": "display_data"
    }
   ],
   "source": [
    "xlabel=['Logistic Regresion','Logistic Regression with feature function']\n",
    "plt.bar(xlabel,[0.9204,0.82120],label='in testing set', align = \"edge\",width=0.2)\n",
    "plt.bar(xlabel,[0.9206833340000001,0.8075666666666667],label='10 fold cross validation', align = \"edge\",width=-0.2)\n",
    "plt.legend(loc='lower right')\n",
    "plt.title(\"The model performance\")\n",
    "plt.xlim([-0.5,1.5])\n",
    "#plt.xlabel(\"feature\")\n",
    "plt.ylabel(\"Accuracy\")\n",
    "plt.savefig('LOgresult.png')"
   ]
  },
  {
   "cell_type": "code",
   "execution_count": null,
   "metadata": {},
   "outputs": [],
   "source": []
  },
  {
   "cell_type": "code",
   "execution_count": null,
   "metadata": {},
   "outputs": [],
   "source": []
  },
  {
   "cell_type": "code",
   "execution_count": null,
   "metadata": {},
   "outputs": [],
   "source": []
  },
  {
   "cell_type": "code",
   "execution_count": null,
   "metadata": {},
   "outputs": [],
   "source": []
  },
  {
   "cell_type": "code",
   "execution_count": null,
   "metadata": {},
   "outputs": [],
   "source": []
  },
  {
   "cell_type": "code",
   "execution_count": null,
   "metadata": {},
   "outputs": [],
   "source": []
  },
  {
   "cell_type": "code",
   "execution_count": null,
   "metadata": {},
   "outputs": [],
   "source": []
  },
  {
   "cell_type": "code",
   "execution_count": null,
   "metadata": {},
   "outputs": [],
   "source": []
  },
  {
   "cell_type": "code",
   "execution_count": null,
   "metadata": {},
   "outputs": [],
   "source": []
  },
  {
   "cell_type": "code",
   "execution_count": null,
   "metadata": {},
   "outputs": [],
   "source": []
  },
  {
   "cell_type": "code",
   "execution_count": null,
   "metadata": {},
   "outputs": [],
   "source": []
  },
  {
   "cell_type": "code",
   "execution_count": null,
   "metadata": {},
   "outputs": [],
   "source": []
  },
  {
   "cell_type": "code",
   "execution_count": null,
   "metadata": {},
   "outputs": [],
   "source": []
  }
 ],
 "metadata": {
  "kernelspec": {
   "display_name": "Python 3",
   "language": "python",
   "name": "python3"
  },
  "language_info": {
   "codemirror_mode": {
    "name": "ipython",
    "version": 3
   },
   "file_extension": ".py",
   "mimetype": "text/x-python",
   "name": "python",
   "nbconvert_exporter": "python",
   "pygments_lexer": "ipython3",
   "version": "3.8.3"
  }
 },
 "nbformat": 4,
 "nbformat_minor": 4
}
