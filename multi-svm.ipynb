{
 "cells": [
  {
   "cell_type": "code",
   "execution_count": 1,
   "metadata": {},
   "outputs": [],
   "source": [
    "#Data設定\n",
    "import matplotlib.pyplot as plt\n",
    "import numpy as np\n",
    "# Import datasets, classifiers and performance metrics\n",
    "from sklearn import datasets, svm, metrics\n",
    "from sklearn.model_selection import train_test_split\n",
    "\n",
    "#解quadratic programming\n",
    "import numpy\n",
    "import cvxopt\n",
    "from cvxopt import matrix, solvers\n",
    "\n",
    "# The digits dataset\n",
    "digits = datasets.load_digits()\n",
    "\n",
    "images_and_labels = list(zip(digits.images, digits.target))#圖和數字標記\n",
    "# To apply a classifier on this data, we need to flatten the image, to\n",
    "# turn the data in a (samples, feature) matrix:\n",
    "n_samples = len(digits.images)\n",
    "data = digits.images.reshape((n_samples, -1))\n",
    "\n",
    "X_train, X_test, y_train, y_test = train_test_split(\n",
    "    data, digits.target, test_size=0.5, shuffle=False)\n",
    "#分出training和test的sample"
   ]
  },
  {
   "cell_type": "code",
   "execution_count": 2,
   "metadata": {},
   "outputs": [],
   "source": [
    "def svm(Image0,Image1,Image0_test,Image1_test,s):\n",
    "    import numpy\n",
    "    import cvxopt\n",
    "    from cvxopt import matrix, solvers\n",
    "    solvers.options['show_progress'] = False  \n",
    "     \n",
    "    T0=matrix(Image0.reshape(len(Image0),64).tolist())\n",
    "    T1=matrix(Image1.reshape(len(Image1),64).tolist())\n",
    "\n",
    "    y1=matrix(np.ones([1,len(Image0)]).tolist())\n",
    "    y2=(-1)*matrix(np.ones([1,len(Image1)]).tolist())\n",
    "    y=matrix([y1,y2])\n",
    "\n",
    "    T=matrix([T0.T,T1.T])\n",
    "\n",
    "    t0=matrix(Image0_test.reshape(len(Image0_test),64).tolist())\n",
    "    t1=matrix(Image1_test.reshape(len(Image1_test),64).tolist())\n",
    "\n",
    "    y1=matrix(np.ones([1,len(Image0_test)]).tolist())\n",
    "    y2=(-1)*matrix(np.ones([1,len(Image1_test)]).tolist())\n",
    "    yt=matrix([y1,y2])\n",
    "\n",
    "    t=matrix([t0.T,t1.T])\n",
    "\n",
    "    \n",
    "    P1=[]\n",
    "    for i in range(T.size[0]):\n",
    "        for j in range(T.size[0]):\n",
    "            P1.append(y[i]*y[j]*np.exp(-s*(np.linalg.norm(T[i,:]-T[j,:]))**2))      \n",
    "\n",
    "    \n",
    "    P2=np.array(P1).reshape(T.size[0],T.size[0])\n",
    "    P=matrix(P2)\n",
    "    \n",
    "    q1=-1*np.ones(T.size[0])\n",
    "    q2=q1.astype(float)\n",
    "    q=matrix(q1.tolist())\n",
    "    y1=np.array(y).astype(float)\n",
    "    A=matrix(y1.tolist(),(1,T.size[0]))\n",
    "    b = matrix([0.0])\n",
    "\n",
    "    G1=-1*matrix(np.eye(T.size[0]).tolist())\n",
    "    G2=matrix(np.eye(T.size[0]).tolist())\n",
    "    G=matrix([G1,G2])\n",
    "\n",
    "    c1=0\n",
    "    h1=c1*np.ones(T.size[0])\n",
    "    h2=h1.astype(float)\n",
    "    h_1=matrix(h2.tolist())\n",
    "\n",
    "    c2=5\n",
    "    hh1=c2*np.ones(T.size[0])\n",
    "    hh2=hh1.astype(float)\n",
    "    h_2=matrix(hh2.tolist())\n",
    "    h=matrix([h_1,h_2])\n",
    "    results_digit = solvers.qp(P,q,G,h,A,b)\n",
    "    \n",
    "    p0=np.argwhere(np.array(results_digit['x'])>0.0001)[0][0]\n",
    "    p1=p0.tolist()\n",
    "    \n",
    "    a=matrix(results_digit['x'])\n",
    "    b=0\n",
    "    for i in range(T.size[0]):\n",
    "        b=b+a[i]*y[i]*np.exp(-s*(np.linalg.norm(T[i,:]-T[p1,:]))**2)      \n",
    "\n",
    "    b=y[p1]-b\n",
    "    \n",
    "    \n",
    "    F=[]\n",
    "    for j in range(t.size[0]):\n",
    "        f=0\n",
    "        for i in range(T.size[0]):\n",
    "            f=f+a[i]*y[i]*np.exp(-s*(np.linalg.norm(T[i,:]-t[j,:]))**2)     \n",
    "        f=f+b\n",
    "        F.append(f)\n",
    "    #correct\n",
    "   # f=0\n",
    "    #for i in range(T.size[0]):\n",
    "    #        f=f+a[i]*y[i]*np.exp(-s*(np.linalg.norm(T[i,:]-T[0,:]))**2)     \n",
    "    #f=f+b\n",
    "    zi=0 #1*f\n",
    "\n",
    "    \n",
    "    \n",
    "    return a,b,T.size[0],T,y,zi,print(1-np.abs(np.array(np.where(np.sign(F)>0)).size-len(Image0_test))/len(Image0_test))"
   ]
  },
  {
   "cell_type": "code",
   "execution_count": 4,
   "metadata": {},
   "outputs": [],
   "source": [
    "def svm_predict(m,n1,n2,X_test):\n",
    "    f=0\n",
    "    for i in range(m[2]):\n",
    "        f=f+m[0][i]*m[4][i]*np.exp(-0.0001*(np.linalg.norm(m[3][i,:]-matrix(X_test.reshape(1,64))))**2)     \n",
    "    f=f+m[1]\n",
    "    \n",
    "    if f>0:\n",
    "        predict=n1\n",
    "    else:\n",
    "        predict=n2\n",
    "    return predict"
   ]
  },
  {
   "cell_type": "code",
   "execution_count": 5,
   "metadata": {},
   "outputs": [],
   "source": [
    "def Image_data(n):\n",
    "    itemindexn = np.argwhere(y_train==n)\n",
    "    imagen=X_train[itemindexn]\n",
    "    itemindexn = np.argwhere(y_test==n)\n",
    "    imagen_test=X_test[itemindexn]\n",
    "\n",
    "    return [imagen,imagen_test]"
   ]
  },
  {
   "cell_type": "code",
   "execution_count": 6,
   "metadata": {},
   "outputs": [],
   "source": [
    "[image0,image0_test]=Image_data(0)\n",
    "[image1,image1_test]=Image_data(1)\n",
    "[image2,image2_test]=Image_data(2)\n",
    "[image3,image3_test]=Image_data(3)\n",
    "[image4,image4_test]=Image_data(4)\n",
    "[image5,image5_test]=Image_data(5)\n",
    "[image6,image6_test]=Image_data(6)\n",
    "[image7,image7_test]=Image_data(7)\n",
    "[image8,image8_test]=Image_data(8)\n",
    "[image9,image9_test]=Image_data(9)"
   ]
  },
  {
   "cell_type": "code",
   "execution_count": 7,
   "metadata": {},
   "outputs": [
    {
     "name": "stdout",
     "output_type": "stream",
     "text": [
      "1.0\n",
      "1.0\n",
      "1.0\n",
      "0.9886363636363636\n",
      "1.0\n",
      "1.0\n",
      "1.0\n",
      "1.0\n",
      "1.0\n"
     ]
    }
   ],
   "source": [
    "m01=svm(image0,image1,image0_test,image1_test,0.001)\n",
    "m02=svm(image0,image2,image0_test,image2_test,0.001)\n",
    "m03=svm(image0,image3,image0_test,image3_test,0.001)\n",
    "m04=svm(image0,image4,image0_test,image4_test,0.0005)\n",
    "m05=svm(image0,image5,image0_test,image5_test,0.001)\n",
    "m06=svm(image0,image6,image0_test,image6_test,0.001)\n",
    "m07=svm(image0,image7,image0_test,image7_test,0.0001)\n",
    "m08=svm(image0,image8,image0_test,image8_test,0.0001)\n",
    "m09=svm(image0,image9,image0_test,image9_test,0.001)"
   ]
  },
  {
   "cell_type": "code",
   "execution_count": 8,
   "metadata": {},
   "outputs": [
    {
     "name": "stdout",
     "output_type": "stream",
     "text": [
      "0.978021978021978\n",
      "0.989010989010989\n",
      "0.967032967032967\n",
      "1.0\n",
      "1.0\n",
      "1.0\n",
      "0.989010989010989\n",
      "0.989010989010989\n"
     ]
    }
   ],
   "source": [
    "m12=svm(image1,image2,image1_test,image2_test,0.001)\n",
    "m13=svm(image1,image3,image1_test,image3_test,0.001)\n",
    "m14=svm(image1,image4,image1_test,image4_test,0.001)\n",
    "m15=svm(image1,image5,image1_test,image5_test,0.0001)\n",
    "m16=svm(image1,image6,image1_test,image6_test,0.0001) \n",
    "m17=svm(image1,image7,image1_test,image7_test,0.0001)\n",
    "m18=svm(image1,image8,image1_test,image8_test,0.0001)\n",
    "m19=svm(image1,image9,image1_test,image9_test,0.0001)"
   ]
  },
  {
   "cell_type": "code",
   "execution_count": 9,
   "metadata": {},
   "outputs": [
    {
     "name": "stdout",
     "output_type": "stream",
     "text": [
      "1.0\n",
      "0.9883720930232558\n",
      "1.0\n",
      "1.0\n",
      "1.0\n",
      "1.0\n",
      "1.0\n"
     ]
    }
   ],
   "source": [
    "m23=svm(image2,image3,image2_test,image3_test,0.001)\n",
    "m24=svm(image2,image4,image2_test,image4_test,0.001)\n",
    "m25=svm(image2,image5,image2_test,image5_test,0.001)\n",
    "m26=svm(image2,image6,image2_test,image6_test,0.001)\n",
    "m27=svm(image2,image7,image2_test,image7_test,0.001)\n",
    "m28=svm(image2,image8,image2_test,image8_test,0.001)\n",
    "m29=svm(image2,image9,image2_test,image9_test,0.0001)"
   ]
  },
  {
   "cell_type": "code",
   "execution_count": 10,
   "metadata": {},
   "outputs": [
    {
     "name": "stdout",
     "output_type": "stream",
     "text": [
      "1.0\n",
      "0.989010989010989\n",
      "1.0\n",
      "0.989010989010989\n",
      "0.967032967032967\n",
      "1.0\n"
     ]
    }
   ],
   "source": [
    "m34=svm(image3,image4,image3_test,image4_test,0.001)\n",
    "m35=svm(image3,image5,image3_test,image5_test,0.0001)\n",
    "m36=svm(image3,image6,image3_test,image6_test,0.0001)\n",
    "m37=svm(image3,image7,image3_test,image7_test,0.0001)\n",
    "m38=svm(image3,image8,image3_test,image8_test,0.00005)\n",
    "m39=svm(image3,image9,image3_test,image9_test,0.0001)"
   ]
  },
  {
   "cell_type": "code",
   "execution_count": 11,
   "metadata": {},
   "outputs": [
    {
     "name": "stdout",
     "output_type": "stream",
     "text": [
      "0.9782608695652174\n",
      "1.0\n",
      "0.9782608695652174\n",
      "0.967391304347826\n",
      "0.9891304347826086\n"
     ]
    }
   ],
   "source": [
    "m45=svm(image4,image5,image4_test,image5_test,0.001)\n",
    "m46=svm(image4,image6,image4_test,image6_test,0.001)\n",
    "m47=svm(image4,image7,image4_test,image7_test,0.001)\n",
    "m48=svm(image4,image8,image4_test,image8_test,0.0001)\n",
    "m49=svm(image4,image9,image4_test,image9_test,0.00001)"
   ]
  },
  {
   "cell_type": "code",
   "execution_count": 12,
   "metadata": {},
   "outputs": [
    {
     "name": "stdout",
     "output_type": "stream",
     "text": [
      "0.989010989010989\n",
      "0.989010989010989\n",
      "1.0\n",
      "0.989010989010989\n"
     ]
    }
   ],
   "source": [
    "m56=svm(image5,image6,image5_test,image6_test,0.001)\n",
    "m57=svm(image5,image7,image5_test,image7_test,0.001)\n",
    "m58=svm(image5,image8,image5_test,image8_test,0.001)\n",
    "m59=svm(image5,image9,image5_test,image9_test,0.001)"
   ]
  },
  {
   "cell_type": "code",
   "execution_count": 13,
   "metadata": {},
   "outputs": [
    {
     "name": "stdout",
     "output_type": "stream",
     "text": [
      "1.0\n",
      "1.0\n",
      "1.0\n",
      "1.0\n",
      "1.0\n",
      "0.9886363636363636\n"
     ]
    }
   ],
   "source": [
    "m67=svm(image6,image7,image6_test,image7_test,0.001)\n",
    "m68=svm(image6,image8,image6_test,image8_test,0.001)\n",
    "m69=svm(image6,image9,image6_test,image9_test,0.001)\n",
    "\n",
    "m78=svm(image7,image8,image7_test,image8_test,0.001)\n",
    "m79=svm(image7,image9,image7_test,image9_test,0.001)\n",
    "\n",
    "m89=svm(image8,image9,image8_test,image9_test,0.001)"
   ]
  },
  {
   "cell_type": "code",
   "execution_count": 14,
   "metadata": {},
   "outputs": [],
   "source": [
    "parameter=[m01,m02,m03,m04,m05,m06,m07,m08,m09,m12,m13,m14,m15,m16,m17,m18,m19,m23,m24,m25,m26,m27,m28,m29,m34,m35,m36,m37,m38,m39,m45,m46,m47,m48,m49,m56,m57,m58,m59,m67,m68,m69,m78,m79,m89]"
   ]
  },
  {
   "cell_type": "code",
   "execution_count": 15,
   "metadata": {},
   "outputs": [],
   "source": [
    "def svm_newdata(M,X_test):\n",
    "    s01=svm_predict(M[0],0,1,X_test)\n",
    "    s02=svm_predict(M[1],0,2,X_test)\n",
    "    s03=svm_predict(M[2],0,3,X_test)\n",
    "    s04=svm_predict(M[3],0,4,X_test)\n",
    "    s05=svm_predict(M[4],0,5,X_test)\n",
    "    s06=svm_predict(M[5],0,6,X_test)\n",
    "    s07=svm_predict(M[6],0,7,X_test)\n",
    "    s08=svm_predict(M[7],0,8,X_test)\n",
    "    s09=svm_predict(M[8],0,9,X_test)\n",
    "\n",
    "    s12=svm_predict(M[9],1,2,X_test)\n",
    "    s13=svm_predict(M[10],1,3,X_test)\n",
    "    s14=svm_predict(M[11],1,4,X_test)\n",
    "    s15=svm_predict(M[12],1,5,X_test)\n",
    "    s16=svm_predict(M[13],1,6,X_test)\n",
    "    s17=svm_predict(M[14],1,7,X_test)\n",
    "    s18=svm_predict(M[15],1,8,X_test)\n",
    "    s19=svm_predict(M[16],1,9,X_test)\n",
    "\n",
    "    s23=svm_predict(M[17],2,3,X_test)\n",
    "    s24=svm_predict(M[18],2,4,X_test)\n",
    "    s25=svm_predict(M[19],2,5,X_test)\n",
    "    s26=svm_predict(M[20],2,6,X_test)\n",
    "    s27=svm_predict(M[21],2,7,X_test)\n",
    "    s28=svm_predict(M[22],2,8,X_test)\n",
    "    s29=svm_predict(M[23],2,9,X_test)\n",
    "\n",
    "    s34=svm_predict(M[24],3,4,X_test)\n",
    "    s35=svm_predict(M[25],3,5,X_test)\n",
    "    s36=svm_predict(M[26],3,6,X_test)\n",
    "    s37=svm_predict(M[27],3,7,X_test)\n",
    "    s38=svm_predict(M[28],3,8,X_test)\n",
    "    s39=svm_predict(M[29],3,9,X_test)\n",
    "\n",
    "    s45=svm_predict(M[30],4,5,X_test)\n",
    "    s46=svm_predict(M[31],4,6,X_test)\n",
    "    s47=svm_predict(M[32],4,7,X_test)\n",
    "    s48=svm_predict(M[33],4,8,X_test)\n",
    "    s49=svm_predict(M[34],4,9,X_test)\n",
    "\n",
    "    s56=svm_predict(M[35],5,6,X_test)\n",
    "    s57=svm_predict(M[36],5,7,X_test)\n",
    "    s58=svm_predict(M[37],5,8,X_test)  \n",
    "    s59=svm_predict(M[38],5,9,X_test)\n",
    "\n",
    "    s67=svm_predict(M[39],6,7,X_test)\n",
    "    s68=svm_predict(M[40],6,8,X_test)\n",
    "    s69=svm_predict(M[41],6,9,X_test)\n",
    "\n",
    "    s78=svm_predict(M[42],7,8,X_test)\n",
    "    s79=svm_predict(M[43],7,9,X_test)\n",
    "\n",
    "    s89=svm_predict(M[44],8,9,X_test)\n",
    "\n",
    "    nums=[s01,s02,s03,s04,s05,s06,s07,s08,s09,s12,s13,s14,s15,s16,s17,s18,s19,s23,s24,s24,s25,s26,s27,s28,s29,s34,s35,s36,s37,s38,s39,s45,s46,s47,s48,s49,s56,s57,s58,s59,s67,s68,s69,s78,s79,s89]\n",
    "    counts = np.bincount(nums)\n",
    "    return np.argmax(counts)"
   ]
  },
  {
   "cell_type": "code",
   "execution_count": 16,
   "metadata": {},
   "outputs": [
    {
     "data": {
      "text/plain": [
       "5"
      ]
     },
     "execution_count": 16,
     "metadata": {},
     "output_type": "execute_result"
    },
    {
     "data": {
      "text/plain": [
       "<Figure size 432x288 with 0 Axes>"
      ]
     },
     "metadata": {},
     "output_type": "display_data"
    },
    {
     "data": {
      "image/png": "[encoded data removed]",
      "text/plain": [
       "<Figure size 288x288 with 1 Axes>"
      ]
     },
     "metadata": {
      "needs_background": "light"
     },
     "output_type": "display_data"
    }
   ],
   "source": [
    "i0=np.random.randint(low=1,high=len(X_test),size=1)[0]\n",
    "X_test[i0]\n",
    "plt.gray()\n",
    "plt.matshow(X_test[i0].reshape(8,8))\n",
    "y_test[i0]"
   ]
  },
  {
   "cell_type": "code",
   "execution_count": 17,
   "metadata": {},
   "outputs": [
    {
     "data": {
      "text/plain": [
       "5"
      ]
     },
     "execution_count": 17,
     "metadata": {},
     "output_type": "execute_result"
    }
   ],
   "source": [
    "svm_newdata(parameter,X_test[i0])"
   ]
  },
  {
   "cell_type": "code",
   "execution_count": null,
   "metadata": {},
   "outputs": [],
   "source": []
  },
  {
   "cell_type": "code",
   "execution_count": 18,
   "metadata": {},
   "outputs": [
    {
     "data": {
      "text/plain": [
       "0.9010011123470523"
      ]
     },
     "execution_count": 18,
     "metadata": {},
     "output_type": "execute_result"
    }
   ],
   "source": [
    "score=0\n",
    "for i in range(len(X_test)):\n",
    "    if ((svm_newdata(parameter,X_test[i])-y_test[i])==0):\n",
    "        score=score+1\n",
    "score/len(X_test)"
   ]
  },
  {
   "cell_type": "code",
   "execution_count": 17,
   "metadata": {},
   "outputs": [],
   "source": [
    "#svm_predict(m,0,1,X_test[i0])\n",
    "\n",
    "\n",
    "\n",
    "#f=0\n",
    "#for i in range(m[2]):\n",
    "#        f=f+m[0][i]*m[4][i]*np.exp(-0.0001*(np.linalg.norm(m[3][i,:]-matrix(image0[0].reshape(1,64))))**2)     \n",
    "#f=f+m[1]\n",
    "\n",
    "#1*f"
   ]
  },
  {
   "cell_type": "code",
   "execution_count": 259,
   "metadata": {},
   "outputs": [
    {
     "data": {
      "text/plain": [
       "899"
      ]
     },
     "execution_count": 259,
     "metadata": {},
     "output_type": "execute_result"
    }
   ],
   "source": [
    "#score/len(X_test)\n",
    "len(X_test)"
   ]
  },
  {
   "cell_type": "code",
   "execution_count": null,
   "metadata": {},
   "outputs": [],
   "source": [
    "#數字5,9的svm"
   ]
  },
  {
   "cell_type": "code",
   "execution_count": null,
   "metadata": {},
   "outputs": [],
   "source": []
  },
  {
   "cell_type": "code",
   "execution_count": 173,
   "metadata": {},
   "outputs": [],
   "source": [
    "#取出5,9的圖樣和標籤\n",
    "\n",
    "itemindex0 = np.argwhere(y_train==1)\n",
    "image0=X_train[itemindex0]\n",
    "T0=matrix(image0.reshape(len(image0),64).tolist())\n",
    "\n",
    "itemindex1 = np.argwhere(y_train==5)\n",
    "image1=X_train[itemindex1]\n",
    "T1=matrix(image1.reshape(len(image1),64).tolist())\n",
    "\n",
    "\n",
    "y1=matrix(np.ones([1,len(image0)]).tolist())\n",
    "y2=(-1)*matrix(np.ones([1,len(image1)]).tolist())\n",
    "\n",
    "T01=matrix([T0.T,T1.T])\n",
    "y01=matrix([y1,y2]) #數字0記 +1 ,數字1記 -1\n",
    "\n",
    "#有二次項係數矩陣建造\n",
    "s=0.001\n",
    "P1=[]\n",
    "for i in range(len(image0)+len(image1)):\n",
    "    for j in range(len(image0)+len(image1)):\n",
    "        P1.append(y01[i]*y01[j]*np.exp(-s*(np.linalg.norm(T01[i,:]-T01[j,:]))**2))      \n",
    "\n",
    "\n",
    "P2=np.array(P1).reshape(len(image0)+len(image1),len(image0)+len(image1))\n",
    "P=matrix(P2)\n",
    "#print(P)\n",
    "\n",
    "#二次規劃參數設定\n",
    "q1=-1*np.ones(len(image0)+len(image1))\n",
    "q2=q1.astype(float)\n",
    "\n",
    "q=matrix(q1.tolist())\n",
    "\n",
    "y1=np.array(y01).astype(float)\n",
    "\n",
    "A=matrix(y1.tolist(),(1,len(image0)+len(image1)))\n",
    "\n",
    "b = matrix([0.0])\n",
    "\n",
    "G1=-1*matrix(np.eye(len(image0)+len(image1)).tolist())\n",
    "G2=matrix(np.eye(len(image0)+len(image1)).tolist())\n",
    "G=matrix([G1,G2])\n",
    "\n",
    "c1=0\n",
    "h1=c1*np.ones(len(image0)+len(image1))\n",
    "h2=h1.astype(float)\n",
    "h_1=matrix(h2.tolist())\n",
    "\n",
    "c2=10\n",
    "hh1=c2*np.ones(len(image0)+len(image1))\n",
    "hh2=hh1.astype(float)\n",
    "\n",
    "h_2=matrix(hh2.tolist())\n",
    "\n",
    "h=matrix([h_1,h_2])\n",
    "\n",
    "\n",
    "#解二次規劃\n",
    "results_digit = solvers.qp(P,q,G,h,A,b)\n",
    "#print(results_digit['x'])\n",
    "\n",
    "p1=np.argwhere(np.array(results_digit['x'])>0.0001)[0][0]\n"
   ]
  },
  {
   "cell_type": "code",
   "execution_count": 175,
   "metadata": {},
   "outputs": [
    {
     "data": {
      "text/plain": [
       "182"
      ]
     },
     "execution_count": 175,
     "metadata": {},
     "output_type": "execute_result"
    }
   ],
   "source": [
    "p1\n",
    "len(image0)+len(image1)"
   ]
  },
  {
   "cell_type": "code",
   "execution_count": 149,
   "metadata": {},
   "outputs": [
    {
     "name": "stdout",
     "output_type": "stream",
     "text": [
      "0.02474721160891502\n"
     ]
    }
   ],
   "source": [
    "a01=matrix(results_digit['x'])\n",
    "\n",
    "#求截距\n",
    "b01=0\n",
    "for i in range(len(image0)+len(image1)):\n",
    "    b01=b01+a01[i]*y01[i]*np.exp(-s*(np.linalg.norm(T01[i,:]-T01[6,:]))**2)      \n",
    "\n",
    "b01=y01[6]-b01\n",
    "print(b01)"
   ]
  },
  {
   "cell_type": "code",
   "execution_count": 150,
   "metadata": {},
   "outputs": [],
   "source": [
    "#帶入Test data檢查正確率\n",
    "\n",
    "itemindex0 = np.argwhere(y_test==1)\n",
    "image0_test=X_test[itemindex0]\n",
    "t0=matrix(image0_test.reshape(len(image0_test),64).tolist())\n",
    "\n",
    "\n",
    "itemindex1 = np.argwhere(y_test==5)\n",
    "image1_test=X_test[itemindex1]\n",
    "t1=matrix(image1_test.reshape(len(image1_test),64).tolist())\n",
    "\n",
    "y1=matrix(np.ones([1,len(image0_test)]).tolist())\n",
    "y2=(-1)*matrix(np.ones([1,len(image1_test)]).tolist())\n",
    "\n",
    "yt01=matrix([y1,y2])\n",
    "t01=matrix([t0.T,t1.T])\n",
    "\n",
    "\n",
    "F=[]\n",
    "for j in range(len(image0_test)+len(image1_test)):\n",
    "    f=0\n",
    "    for i in range(len(image0)+len(image1)):\n",
    "        f=f+a01[i]*y01[i]*np.exp(-s*(np.linalg.norm(T01[i,:]-t01[j,:]))**2)     \n",
    "    f=f+b01\n",
    "    F.append(f)"
   ]
  },
  {
   "cell_type": "code",
   "execution_count": 151,
   "metadata": {},
   "outputs": [
    {
     "data": {
      "text/plain": [
       "0.989010989010989"
      ]
     },
     "execution_count": 151,
     "metadata": {},
     "output_type": "execute_result"
    }
   ],
   "source": [
    "#correct\n",
    "1-np.abs(np.array(np.where(np.sign(F)>0)).size-len(image0_test))/len(image0_test)"
   ]
  },
  {
   "cell_type": "code",
   "execution_count": null,
   "metadata": {},
   "outputs": [],
   "source": []
  },
  {
   "cell_type": "code",
   "execution_count": null,
   "metadata": {},
   "outputs": [],
   "source": [
    "#數字2,0的svm"
   ]
  },
  {
   "cell_type": "code",
   "execution_count": 326,
   "metadata": {},
   "outputs": [
    {
     "name": "stdout",
     "output_type": "stream",
     "text": [
      "     pcost       dcost       gap    pres   dres\n",
      " 0:  4.7227e+02 -6.2150e+03  1e+04  3e-01  2e-14\n",
      " 1:  2.9109e+02 -7.1539e+02  1e+03  6e-03  2e-14\n",
      " 2:  8.7729e+00 -1.1877e+02  1e+02  2e-14  1e-14\n",
      " 3: -2.3018e+01 -4.9129e+01  3e+01  1e-14  6e-15\n",
      " 4: -2.9331e+01 -3.8620e+01  9e+00  3e-15  6e-15\n",
      " 5: -3.3096e+01 -3.7167e+01  4e+00  2e-15  6e-15\n",
      " 6: -3.3874e+01 -3.4655e+01  8e-01  7e-15  5e-15\n",
      " 7: -3.4139e+01 -3.4226e+01  9e-02  5e-15  5e-15\n",
      " 8: -3.4173e+01 -3.4176e+01  2e-03  2e-14  6e-15\n",
      " 9: -3.4174e+01 -3.4174e+01  3e-05  1e-14  6e-15\n",
      "Optimal solution found.\n"
     ]
    }
   ],
   "source": [
    "#取出0,2的圖樣和標籤\n",
    "\n",
    "itemindex0 = np.argwhere(y_train==0)\n",
    "image0=X_train[itemindex0]\n",
    "T0=matrix(image0.reshape(len(image0),64).tolist())\n",
    "\n",
    "itemindex2 = np.argwhere(y_train==2)\n",
    "image2=X_train[itemindex2]\n",
    "T2=matrix(image2.reshape(len(image2),64).tolist())\n",
    "\n",
    "\n",
    "y1=matrix(np.ones([1,len(image0)]).tolist())\n",
    "y2=(-1)*matrix(np.ones([1,len(image2)]).tolist())\n",
    "\n",
    "T20=matrix([T2.T,T0.T])\n",
    "y20=matrix([y1,y2]) #數字0記 +1 ,數字1記 -1\n",
    "\n",
    "#有二次項係數矩陣建造\n",
    "s=0.0001\n",
    "P1=[]\n",
    "for i in range(len(image0)+len(image2)):\n",
    "    for j in range(len(image0)+len(image2)):\n",
    "        P1.append(y20[i]*y20[j]*np.exp(-s*(np.linalg.norm(T20[i,:]-T20[j,:]))**2))      \n",
    "\n",
    "\n",
    "P2=np.array(P1).reshape(len(image0)+len(image2),len(image0)+len(image2))\n",
    "P=matrix(P2)\n",
    "#print(P)\n",
    "\n",
    "#二次規劃參數設定\n",
    "q1=-1*np.ones(len(image0)+len(image2))\n",
    "q2=q1.astype(float)\n",
    "\n",
    "q=matrix(q1.tolist())\n",
    "\n",
    "y1=np.array(y02).astype(float)\n",
    "\n",
    "A=matrix(y1.tolist(),(1,len(image0)+len(image2)))\n",
    "\n",
    "b = matrix([0.0])\n",
    "\n",
    "G1=-1*matrix(np.eye(len(image0)+len(image2)).tolist())\n",
    "G2=matrix(np.eye(len(image0)+len(image2)).tolist())\n",
    "G=matrix([G1,G2])\n",
    "\n",
    "c1=0\n",
    "h1=c1*np.ones(len(image0)+len(image2))\n",
    "h2=h1.astype(float)\n",
    "h_1=matrix(h2.tolist())\n",
    "\n",
    "c2=10\n",
    "hh1=c2*np.ones(len(image0)+len(image2))\n",
    "hh2=hh1.astype(float)\n",
    "\n",
    "h_2=matrix(hh2.tolist())\n",
    "\n",
    "h=matrix([h_1,h_2])\n",
    "\n",
    "\n",
    "#解二次規劃\n",
    "results_digit = solvers.qp(P,q,G,h,A,b)\n",
    "#print(results_digit['x'])"
   ]
  },
  {
   "cell_type": "code",
   "execution_count": 327,
   "metadata": {},
   "outputs": [
    {
     "data": {
      "text/plain": [
       "45"
      ]
     },
     "execution_count": 327,
     "metadata": {},
     "output_type": "execute_result"
    }
   ],
   "source": [
    "p1=np.argwhere(np.array(results_digit['x'])>0.0001)[1][0]\n",
    "p1"
   ]
  },
  {
   "cell_type": "code",
   "execution_count": 328,
   "metadata": {},
   "outputs": [
    {
     "name": "stdout",
     "output_type": "stream",
     "text": [
      "0.6280082685935133\n"
     ]
    }
   ],
   "source": [
    "a20=matrix(results_digit['x'])\n",
    "\n",
    "#求截距\n",
    "b20=0\n",
    "for i in range(len(image0)+len(image2)):\n",
    "    b20=b20+a20[i]*y20[i]*np.exp(-s*(np.linalg.norm(T20[i,:]-T20[45,:]))**2)      \n",
    "\n",
    "b20=y[45]-b20\n",
    "print(b20)"
   ]
  },
  {
   "cell_type": "code",
   "execution_count": 329,
   "metadata": {},
   "outputs": [],
   "source": [
    "#帶入Test data檢查正確率\n",
    "\n",
    "itemindex0 = np.argwhere(y_test==0)\n",
    "image0_test=X_test[itemindex0]\n",
    "t0=matrix(image0_test.reshape(len(image0_test),64).tolist())\n",
    "\n",
    "\n",
    "itemindex2 = np.argwhere(y_test==2)\n",
    "image2_test=X_test[itemindex2]\n",
    "t2=matrix(image2_test.reshape(len(image2_test),64).tolist())\n",
    "\n",
    "y1=matrix(np.ones([1,len(image0_test)]).tolist())\n",
    "y2=(-1)*matrix(np.ones([1,len(image2_test)]).tolist())\n",
    "\n",
    "yt20=matrix([y1,y2])\n",
    "t20=matrix([t2.T,t0.T])\n",
    "\n",
    "\n",
    "F=[]\n",
    "for j in range(len(image0_test)+len(image2_test)):\n",
    "    f=0\n",
    "    for i in range(len(image0)+len(image2)):\n",
    "        f=f+a20[i]*y20[i]*np.exp(-s*(np.linalg.norm(T20[i,:]-t20[j,:]))**2)     \n",
    "    f=f+b20\n",
    "    F.append(f)"
   ]
  },
  {
   "cell_type": "code",
   "execution_count": 330,
   "metadata": {},
   "outputs": [
    {
     "data": {
      "text/plain": [
       "1.0"
      ]
     },
     "execution_count": 330,
     "metadata": {},
     "output_type": "execute_result"
    }
   ],
   "source": [
    "#correct\n",
    "1-np.abs(np.array(np.where(np.sign(F)>0)).size-len(image2_test))/len(image2_test)"
   ]
  },
  {
   "cell_type": "code",
   "execution_count": null,
   "metadata": {},
   "outputs": [],
   "source": []
  },
  {
   "cell_type": "code",
   "execution_count": null,
   "metadata": {},
   "outputs": [],
   "source": [
    "#數字1,2的svm"
   ]
  },
  {
   "cell_type": "code",
   "execution_count": 249,
   "metadata": {},
   "outputs": [
    {
     "name": "stdout",
     "output_type": "stream",
     "text": [
      "     pcost       dcost       gap    pres   dres\n",
      " 0:  5.7422e+02 -7.2978e+03  1e+04  2e-01  3e-14\n",
      " 1:  2.8640e+02 -8.4801e+02  1e+03  1e-02  4e-14\n",
      " 2:  7.2420e+00 -1.9972e+02  2e+02  8e-04  3e-14\n",
      " 3: -3.9342e+01 -1.2223e+02  8e+01  2e-04  2e-14\n",
      " 4: -5.7964e+01 -9.3840e+01  4e+01  4e-05  2e-14\n",
      " 5: -6.8389e+01 -7.8763e+01  1e+01  6e-07  2e-14\n",
      " 6: -7.1278e+01 -7.3463e+01  2e+00  1e-07  2e-14\n",
      " 7: -7.2019e+01 -7.2201e+01  2e-01  2e-09  2e-14\n",
      " 8: -7.2097e+01 -7.2100e+01  3e-03  2e-11  2e-14\n",
      " 9: -7.2098e+01 -7.2098e+01  4e-05  2e-13  2e-14\n",
      "Optimal solution found.\n"
     ]
    }
   ],
   "source": [
    "#取出1,2的圖樣和標籤\n",
    "\n",
    "itemindex1 = np.argwhere(y_train==1)\n",
    "image1=X_train[itemindex1]\n",
    "T1=matrix(image1.reshape(len(image1),64).tolist())\n",
    "\n",
    "itemindex2 = np.argwhere(y_train==2)\n",
    "image2=X_train[itemindex2]\n",
    "T2=matrix(image2.reshape(len(image2),64).tolist())\n",
    "\n",
    "\n",
    "y1=matrix(np.ones([1,len(image1)]).tolist())\n",
    "y2=(-1)*matrix(np.ones([1,len(image2)]).tolist())\n",
    "\n",
    "T12=matrix([T1.T,T2.T])\n",
    "y12=matrix([y1,y2]) #數字0記 +1 ,數字1記 -1\n",
    "\n",
    "#有二次項係數矩陣建造\n",
    "s=0.0001\n",
    "P1=[]\n",
    "for i in range(len(image1)+len(image2)):\n",
    "    for j in range(len(image1)+len(image2)):\n",
    "        P1.append(y12[i]*y12[j]*np.exp(-s*(np.linalg.norm(T12[i,:]-T12[j,:]))**2))      \n",
    "\n",
    "\n",
    "P2=np.array(P1).reshape(len(image1)+len(image2),len(image1)+len(image2))\n",
    "P=matrix(P2)\n",
    "#print(P)\n",
    "\n",
    "#二次規劃參數設定\n",
    "q1=-1*np.ones(len(image1)+len(image2))\n",
    "q2=q1.astype(float)\n",
    "\n",
    "q=matrix(q1.tolist())\n",
    "\n",
    "y1=np.array(y12).astype(float)\n",
    "\n",
    "A=matrix(y1.tolist(),(1,len(image1)+len(image2)))\n",
    "\n",
    "b = matrix([0.0])\n",
    "\n",
    "G1=-1*matrix(np.eye(len(image1)+len(image2)).tolist())\n",
    "G2=matrix(np.eye(len(image1)+len(image2)).tolist())\n",
    "G=matrix([G1,G2])\n",
    "\n",
    "c1=0\n",
    "h1=c1*np.ones(len(image1)+len(image2))\n",
    "h2=h1.astype(float)\n",
    "h_1=matrix(h2.tolist())\n",
    "\n",
    "c2=10\n",
    "hh1=c2*np.ones(len(image1)+len(image2))\n",
    "hh2=hh1.astype(float)\n",
    "\n",
    "h_2=matrix(hh2.tolist())\n",
    "\n",
    "h=matrix([h_1,h_2])\n",
    "\n",
    "\n",
    "#解二次規劃\n",
    "results_digit = solvers.qp(P,q,G,h,A,b)\n",
    "#print(results_digit['x'])"
   ]
  },
  {
   "cell_type": "code",
   "execution_count": 250,
   "metadata": {},
   "outputs": [
    {
     "data": {
      "text/plain": [
       "21"
      ]
     },
     "execution_count": 250,
     "metadata": {},
     "output_type": "execute_result"
    }
   ],
   "source": [
    "p1=np.argwhere(np.array(results_digit['x'])>0.0001)[0][0]\n",
    "p1"
   ]
  },
  {
   "cell_type": "code",
   "execution_count": 255,
   "metadata": {},
   "outputs": [
    {
     "name": "stdout",
     "output_type": "stream",
     "text": [
      "0.3909693849578708\n"
     ]
    }
   ],
   "source": [
    "a12=matrix(results_digit['x'])\n",
    "\n",
    "#求截距\n",
    "b12=0\n",
    "for i in range(len(image1)+len(image2)):\n",
    "    b12=b12+a12[i]*y12[i]*np.exp(-s*(np.linalg.norm(T12[i,:]-T12[21,:]))**2)      \n",
    "\n",
    "b12=y[21]-b12\n",
    "print(b12)"
   ]
  },
  {
   "cell_type": "code",
   "execution_count": 259,
   "metadata": {},
   "outputs": [],
   "source": [
    "#帶入Test data檢查正確率\n",
    "\n",
    "itemindex1 = np.argwhere(y_test==1)\n",
    "image1_test=X_test[itemindex1]\n",
    "t1=matrix(image1_test.reshape(len(image1_test),64).tolist())\n",
    "\n",
    "\n",
    "itemindex2 = np.argwhere(y_test==2)\n",
    "image2_test=X_test[itemindex2]\n",
    "t2=matrix(image2_test.reshape(len(image2_test),64).tolist())\n",
    "\n",
    "y1=matrix(np.ones([1,len(image1_test)]).tolist())\n",
    "y2=(-1)*matrix(np.ones([1,len(image2_test)]).tolist())\n",
    "\n",
    "yt12=matrix([y1,y2])\n",
    "t12=matrix([t1.T,t2.T])\n",
    "\n",
    "\n",
    "F=[]\n",
    "for j in range(len(image1_test)+len(image2_test)):\n",
    "    f=0\n",
    "    for i in range(len(image1)+len(image2)):\n",
    "        f=f+a12[i]*y12[i]*np.exp(-s*(np.linalg.norm(T12[i,:]-t12[j,:]))**2)     \n",
    "    f=f+b12\n",
    "    F.append(f)"
   ]
  },
  {
   "cell_type": "code",
   "execution_count": 260,
   "metadata": {},
   "outputs": [
    {
     "data": {
      "text/plain": [
       "0.978021978021978"
      ]
     },
     "execution_count": 260,
     "metadata": {},
     "output_type": "execute_result"
    }
   ],
   "source": [
    "#correct\n",
    "1-np.abs(np.array(np.where(np.sign(F)>0)).size-len(image1_test))/len(image1_test)"
   ]
  },
  {
   "cell_type": "code",
   "execution_count": 353,
   "metadata": {},
   "outputs": [
    {
     "data": {
      "text/plain": [
       "0"
      ]
     },
     "execution_count": 353,
     "metadata": {},
     "output_type": "execute_result"
    },
    {
     "data": {
      "text/plain": [
       "<Figure size 432x288 with 0 Axes>"
      ]
     },
     "metadata": {},
     "output_type": "display_data"
    },
    {
     "data": {
      "image/png": "[encoded data removed]",
      "text/plain": [
       "<Figure size 288x288 with 1 Axes>"
      ]
     },
     "metadata": {
      "needs_background": "light"
     },
     "output_type": "display_data"
    }
   ],
   "source": [
    "i0=np.random.randint(low=1,high=len(X_test),size=1)[0]\n",
    "X_test[i0]\n",
    "plt.gray()\n",
    "plt.matshow(X_test[i0].reshape(8,8))\n",
    "y_test[i0]"
   ]
  },
  {
   "cell_type": "code",
   "execution_count": 354,
   "metadata": {},
   "outputs": [
    {
     "data": {
      "text/plain": [
       "-0.5619809339814478"
      ]
     },
     "execution_count": 354,
     "metadata": {},
     "output_type": "execute_result"
    }
   ],
   "source": [
    "#數字1,2 svm\n",
    "f12=0\n",
    "for i in range(len(image1)+len(image2)):\n",
    "    f12=f12+a12[i]*y12[i]*np.exp(-s*(np.linalg.norm(T12[i,:]-matrix(X_test[i0].reshape(1,64))))**2)     \n",
    "f12=f12+b12\n",
    "f12"
   ]
  },
  {
   "cell_type": "code",
   "execution_count": 355,
   "metadata": {},
   "outputs": [
    {
     "data": {
      "text/plain": [
       "-1.5710634317157115"
      ]
     },
     "execution_count": 355,
     "metadata": {},
     "output_type": "execute_result"
    }
   ],
   "source": [
    "#數字 2,0svm\n",
    "f20=0\n",
    "for i in range(len(image0)+len(image2)):\n",
    "    f20=f20+a20[i]*y20[i]*np.exp(-s*(np.linalg.norm(T20[i,:]-matrix(X_test[i0].reshape(1,64))))**2)     \n",
    "f20=f20+b20\n",
    "f20"
   ]
  },
  {
   "cell_type": "code",
   "execution_count": 356,
   "metadata": {},
   "outputs": [
    {
     "data": {
      "text/plain": [
       "1.549203967035815"
      ]
     },
     "execution_count": 356,
     "metadata": {},
     "output_type": "execute_result"
    }
   ],
   "source": [
    "#數字0,1 svm\n",
    "f01=0\n",
    "for i in range(len(image0)+len(image1)):\n",
    "    f01=f01+a01[i]*y01[i]*np.exp(-s*(np.linalg.norm(T01[i,:]-matrix(X_test[i0].reshape(1,64))))**2)     \n",
    "f01=f01+b01\n",
    "f01"
   ]
  },
  {
   "cell_type": "code",
   "execution_count": 357,
   "metadata": {},
   "outputs": [
    {
     "data": {
      "text/plain": [
       "0"
      ]
     },
     "execution_count": 357,
     "metadata": {},
     "output_type": "execute_result"
    }
   ],
   "source": [
    "Score=[f01,f20,f12]\n",
    "np.where(Score==max(Score))[0][0]"
   ]
  },
  {
   "cell_type": "code",
   "execution_count": null,
   "metadata": {},
   "outputs": [],
   "source": []
  }
 ],
 "metadata": {
  "kernelspec": {
   "display_name": "Python 3",
   "language": "python",
   "name": "python3"
  },
  "language_info": {
   "codemirror_mode": {
    "name": "ipython",
    "version": 3
   },
   "file_extension": ".py",
   "mimetype": "text/x-python",
   "name": "python",
   "nbconvert_exporter": "python",
   "pygments_lexer": "ipython3",
   "version": "3.8.3"
  }
 },
 "nbformat": 4,
 "nbformat_minor": 4
}
