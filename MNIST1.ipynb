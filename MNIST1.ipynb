{
 "cells": [
  {
   "cell_type": "code",
   "execution_count": 1,
   "metadata": {},
   "outputs": [],
   "source": [
    "import numpy as np\n",
    "import matplotlib.pyplot as plt\n",
    "import tensorflow as tf"
   ]
  },
  {
   "cell_type": "code",
   "execution_count": 2,
   "metadata": {},
   "outputs": [],
   "source": [
    "#將MNIST 手寫數字資料讀進來\n",
    "mnist = tf.keras.datasets.mnist\n",
    "\n",
    "# mnist 的load_data()會回傳已經先分割好的training data 和 testing data\n",
    "# 並且將每個 pixel 的值從 Int 轉成 floating point 同時做normalize(這是很常見的preprocessing)\n",
    "(x_train, y_train), (x_test, y_test) = mnist.load_data()\n",
    "x_train, x_test = x_train / 255.0, x_test / 255.0"
   ]
  },
  {
   "cell_type": "code",
   "execution_count": 3,
   "metadata": {},
   "outputs": [
    {
     "name": "stdout",
     "output_type": "stream",
     "text": [
      "60000\n",
      "(28, 28)\n"
     ]
    }
   ],
   "source": [
    "print(len(x_train)) #training data 總共有60000張圖片\n",
    "print(x_train[0].shape) #每張圖片（拿第一張當樣本）大小為 28x28"
   ]
  },
  {
   "cell_type": "code",
   "execution_count": 4,
   "metadata": {},
   "outputs": [],
   "source": [
    "X_train = np.reshape(x_train,(60000,28*28))"
   ]
  },
  {
   "cell_type": "code",
   "execution_count": 5,
   "metadata": {},
   "outputs": [],
   "source": [
    "X_test = np.reshape(x_test,(10000,28*28))"
   ]
  },
  {
   "cell_type": "code",
   "execution_count": 6,
   "metadata": {},
   "outputs": [],
   "source": [
    "from sklearn.linear_model import LogisticRegression"
   ]
  },
  {
   "cell_type": "code",
   "execution_count": 7,
   "metadata": {},
   "outputs": [
    {
     "name": "stderr",
     "output_type": "stream",
     "text": [
      "c:\\python\\lib\\site-packages\\sklearn\\linear_model\\_logistic.py:762: ConvergenceWarning: lbfgs failed to converge (status=1):\n",
      "STOP: TOTAL NO. of ITERATIONS REACHED LIMIT.\n",
      "\n",
      "Increase the number of iterations (max_iter) or scale the data as shown in:\n",
      "    https://scikit-learn.org/stable/modules/preprocessing.html\n",
      "Please also refer to the documentation for alternative solver options:\n",
      "    https://scikit-learn.org/stable/modules/linear_model.html#logistic-regression\n",
      "  n_iter_i = _check_optimize_result(\n"
     ]
    }
   ],
   "source": [
    "clf = LogisticRegression(max_iter=200).fit(X_train,y_train)"
   ]
  },
  {
   "cell_type": "code",
   "execution_count": 8,
   "metadata": {},
   "outputs": [],
   "source": [
    "expected = y_test\n",
    "predicted = clf.predict(X_test)"
   ]
  },
  {
   "cell_type": "code",
   "execution_count": 9,
   "metadata": {},
   "outputs": [],
   "source": [
    "from sklearn import  metrics"
   ]
  },
  {
   "cell_type": "code",
   "execution_count": 10,
   "metadata": {},
   "outputs": [
    {
     "name": "stdout",
     "output_type": "stream",
     "text": [
      "Confusion matrix:\n",
      "[[ 957    0    1    4    1    9    4    3    1    0]\n",
      " [   0 1112    5    1    0    1    3    1   12    0]\n",
      " [   6    9  930   15   10    3   12    9   34    4]\n",
      " [   4    1   17  922    1   25    2   10   21    7]\n",
      " [   1    3    7    3  924    0    5    4    7   28]\n",
      " [   9    2    3   34    8  779   15    7   31    4]\n",
      " [   8    3    9    2    6   16  911    2    1    0]\n",
      " [   1    7   23    7    5    1    0  949    2   33]\n",
      " [   9   11    6   22    7   27   14    9  859   10]\n",
      " [   9    8    1    9   26    7    0   21    7  921]]\n"
     ]
    }
   ],
   "source": [
    "cm = metrics.confusion_matrix(expected, predicted)\n",
    "print(\"Confusion matrix:\\n%s\" % cm)"
   ]
  },
  {
   "cell_type": "code",
   "execution_count": 11,
   "metadata": {},
   "outputs": [
    {
     "name": "stdout",
     "output_type": "stream",
     "text": [
      "Accuracy=0.9264\n"
     ]
    }
   ],
   "source": [
    "print(\"Accuracy={}\".format(metrics.accuracy_score(expected, predicted)))"
   ]
  },
  {
   "cell_type": "code",
   "execution_count": null,
   "metadata": {},
   "outputs": [],
   "source": []
  },
  {
   "cell_type": "code",
   "execution_count": 5,
   "metadata": {},
   "outputs": [],
   "source": [
    "trainlabel=y_train"
   ]
  },
  {
   "cell_type": "code",
   "execution_count": 12,
   "metadata": {},
   "outputs": [],
   "source": [
    "def bar(X_train,y_train):\n",
    "    S=[]\n",
    "    for k in range(10):\n",
    "        index=np.where(y_train==k)\n",
    "        X=X_train[index]\n",
    "        X_bar=sum(X)/(X.shape[0])\n",
    "        \n",
    "        S.append(X_bar)\n",
    "    S=np.array(S)\n",
    "    return S"
   ]
  },
  {
   "cell_type": "code",
   "execution_count": 13,
   "metadata": {},
   "outputs": [],
   "source": [
    "S=bar(X_train,y_train)"
   ]
  },
  {
   "cell_type": "code",
   "execution_count": 14,
   "metadata": {},
   "outputs": [],
   "source": [
    "#S.shape[0]"
   ]
  },
  {
   "cell_type": "code",
   "execution_count": 15,
   "metadata": {},
   "outputs": [],
   "source": [
    "#plt.gray()\n",
    "#plt.matshow(S[7].reshape(28,28))"
   ]
  },
  {
   "cell_type": "code",
   "execution_count": 16,
   "metadata": {},
   "outputs": [],
   "source": [
    "#P=[]\n",
    "#for j in range(S.shape[0]):\n",
    "#    for i in range(trainlabel.size):\n",
    "#        P.append(np.exp(-0.01*(np.linalg.norm(X_train[i]-S[j]))**2))\n",
    "\n",
    "\n",
    "#Phi=np.array(P).reshape(S.shape[0],trainlabel.size)"
   ]
  },
  {
   "cell_type": "code",
   "execution_count": 32,
   "metadata": {},
   "outputs": [],
   "source": [
    "S=np.array([X_train[y_train==i].mean(axis=0) for i in range(10)])"
   ]
  },
  {
   "cell_type": "code",
   "execution_count": 33,
   "metadata": {},
   "outputs": [
    {
     "data": {
      "text/plain": [
       "(10, 784)"
      ]
     },
     "execution_count": 33,
     "metadata": {},
     "output_type": "execute_result"
    }
   ],
   "source": [
    "S.shape"
   ]
  },
  {
   "cell_type": "code",
   "execution_count": 130,
   "metadata": {},
   "outputs": [
    {
     "data": {
      "text/plain": [
       "(1, 784)"
      ]
     },
     "execution_count": 130,
     "metadata": {},
     "output_type": "execute_result"
    }
   ],
   "source": [
    "X_train[0].reshape(1,784).shape"
   ]
  },
  {
   "cell_type": "code",
   "execution_count": 91,
   "metadata": {},
   "outputs": [
    {
     "data": {
      "text/plain": [
       "array([0, 0, 0, ..., 9, 9, 9], dtype=uint8)"
      ]
     },
     "execution_count": 91,
     "metadata": {},
     "output_type": "execute_result"
    }
   ],
   "source": [
    "np.sort(y_train,axis=0)"
   ]
  },
  {
   "cell_type": "code",
   "execution_count": 122,
   "metadata": {},
   "outputs": [],
   "source": [
    "from sklearn.cluster import KMeans\n",
    "kmeans = KMeans(n_clusters=1, random_state=0).fit(X_train)"
   ]
  },
  {
   "cell_type": "code",
   "execution_count": 123,
   "metadata": {},
   "outputs": [
    {
     "data": {
      "text/plain": [
       "<matplotlib.image.AxesImage at 0x1de21c94430>"
      ]
     },
     "execution_count": 123,
     "metadata": {},
     "output_type": "execute_result"
    },
    {
     "data": {
      "image/png": "[encoded data removed]",
      "text/plain": [
       "<Figure size 288x288 with 1 Axes>"
      ]
     },
     "metadata": {
      "needs_background": "light"
     },
     "output_type": "display_data"
    }
   ],
   "source": [
    "plt.matshow(kmeans.cluster_centers_[0].reshape(28,28))"
   ]
  },
  {
   "cell_type": "code",
   "execution_count": 37,
   "metadata": {},
   "outputs": [],
   "source": [
    "from scipy.spatial import distance_matrix"
   ]
  },
  {
   "cell_type": "code",
   "execution_count": 47,
   "metadata": {},
   "outputs": [],
   "source": [
    "import time"
   ]
  },
  {
   "cell_type": "code",
   "execution_count": 105,
   "metadata": {},
   "outputs": [
    {
     "name": "stdout",
     "output_type": "stream",
     "text": [
      "1.9198672771453857\n"
     ]
    }
   ],
   "source": [
    "start = time.time()\n",
    "\n",
    "p=distance_matrix(X_test,S)\n",
    "\n",
    "end = time.time()\n",
    "print(end-start)\n"
   ]
  },
  {
   "cell_type": "code",
   "execution_count": 111,
   "metadata": {},
   "outputs": [
    {
     "data": {
      "text/plain": [
       "array([3, 3, 3, ..., 2, 8, 3], dtype=int64)"
      ]
     },
     "execution_count": 111,
     "metadata": {},
     "output_type": "execute_result"
    }
   ],
   "source": [
    "p[y_test==3].argmin(axis=1)"
   ]
  },
  {
   "cell_type": "code",
   "execution_count": 112,
   "metadata": {},
   "outputs": [
    {
     "data": {
      "text/plain": [
       "(10000, 10)"
      ]
     },
     "execution_count": 112,
     "metadata": {},
     "output_type": "execute_result"
    }
   ],
   "source": [
    "p.shape"
   ]
  },
  {
   "cell_type": "code",
   "execution_count": 106,
   "metadata": {},
   "outputs": [
    {
     "data": {
      "text/plain": [
       "0.805940594059406"
      ]
     },
     "execution_count": 106,
     "metadata": {},
     "output_type": "execute_result"
    }
   ],
   "source": [
    "(p[y_test==3].argmin(axis=1)==y_test[y_test==3]).mean()"
   ]
  },
  {
   "cell_type": "code",
   "execution_count": 125,
   "metadata": {},
   "outputs": [
    {
     "data": {
      "text/plain": [
       "(10000, 10)"
      ]
     },
     "execution_count": 125,
     "metadata": {},
     "output_type": "execute_result"
    }
   ],
   "source": [
    "np.exp(p).shape"
   ]
  },
  {
   "cell_type": "code",
   "execution_count": 36,
   "metadata": {},
   "outputs": [
    {
     "data": {
      "text/plain": [
       "<matplotlib.image.AxesImage at 0x1de05135970>"
      ]
     },
     "execution_count": 36,
     "metadata": {},
     "output_type": "execute_result"
    },
    {
     "data": {
      "image/png": "[encoded data removed]",
      "text/plain": [
       "<Figure size 288x288 with 1 Axes>"
      ]
     },
     "metadata": {
      "needs_background": "light"
     },
     "output_type": "display_data"
    }
   ],
   "source": []
  },
  {
   "cell_type": "code",
   "execution_count": null,
   "metadata": {},
   "outputs": [],
   "source": []
  },
  {
   "cell_type": "code",
   "execution_count": 126,
   "metadata": {},
   "outputs": [
    {
     "data": {
      "text/plain": [
       "array([1., 1., 1., 1., 1., 1., 1., 1., 1., 1.])"
      ]
     },
     "execution_count": 126,
     "metadata": {},
     "output_type": "execute_result"
    }
   ],
   "source": [
    "theta=np.ones(10)\n",
    "theta"
   ]
  },
  {
   "cell_type": "code",
   "execution_count": 17,
   "metadata": {},
   "outputs": [],
   "source": [
    "def update(qi,tol,Phi):\n",
    "    updatecom=((qi/(tol))*Phi)\n",
    "    updatey=(Phi)\n",
    "    return(-1*updatecom+updatey)"
   ]
  },
  {
   "cell_type": "code",
   "execution_count": 859,
   "metadata": {},
   "outputs": [],
   "source": [
    "theta=np.ones(10)\n",
    "#i0=np.random.randint(low=1,high=len(X_train),size=1)[0]\n",
    "#Phi=(distance_matrix(X_train,S))\n",
    "Phi=np.exp(-0.05*(distance_matrix(X_train,S))**2)"
   ]
  },
  {
   "cell_type": "code",
   "execution_count": 1161,
   "metadata": {},
   "outputs": [
    {
     "data": {
      "text/plain": [
       "numpy.uint8"
      ]
     },
     "execution_count": 1161,
     "metadata": {},
     "output_type": "execute_result"
    }
   ],
   "source": [
    "type(y_train[3])"
   ]
  },
  {
   "cell_type": "code",
   "execution_count": 1666,
   "metadata": {},
   "outputs": [
    {
     "data": {
      "text/plain": [
       "array([[0.85525313, 0.84675198, 0.84686516, 0.85028008, 0.84890259,\n",
       "        0.84976222, 0.85162401, 0.850944  , 0.84677972, 0.85018005]])"
      ]
     },
     "execution_count": 1666,
     "metadata": {},
     "output_type": "execute_result"
    }
   ],
   "source": [
    "theta=np.ones(10)\n",
    "\n",
    "for i in range(200):\n",
    "    updatey=0\n",
    "    i0=np.random.randint(low=1,high=len(X_train),size=1)[0]\n",
    "    Phi=np.exp(-0.001*(distance_matrix(X_train[i0].reshape(1,784),S))**2)\n",
    "    q=np.exp(theta*Phi)\n",
    "    tol=sum(q.T)\n",
    "\n",
    "    \n",
    "    updatecom=(q/tol)*Phi\n",
    "    updatey=Phi[0][y_train[i0]]\n",
    "    update=(-1*updatecom+updatey)\n",
    "    \n",
    "    theta=theta+0.001*update\n",
    "    \n",
    "update    "
   ]
  },
  {
   "cell_type": "code",
   "execution_count": 1667,
   "metadata": {},
   "outputs": [],
   "source": [
    "#theta=np.ones(10)\n",
    "#for i in range(20):\n",
    "#    q=np.exp(theta*Phi)\n",
    "#    tol=sum(q.T)\n",
    "\n",
    "    \n",
    "#    updatecom=sum(((q.T/tol.T).T*Phi)).reshape(1,10)\n",
    "#    updatey=(sum(Phi).reshape(1,10))\n",
    "#    update=(-1*updatecom+updatey)/X_train.shape[0]\n",
    "#    theta=theta+0.1*update\n",
    "    \n",
    "#update    "
   ]
  },
  {
   "cell_type": "code",
   "execution_count": 1668,
   "metadata": {},
   "outputs": [
    {
     "data": {
      "text/plain": [
       "array([[1.16920173, 1.16909007, 1.16881633, 1.1688234 , 1.1688381 ,\n",
       "        1.16861702, 1.16885796, 1.16897709, 1.16871311, 1.16879111]])"
      ]
     },
     "execution_count": 1668,
     "metadata": {},
     "output_type": "execute_result"
    }
   ],
   "source": [
    "theta"
   ]
  },
  {
   "cell_type": "code",
   "execution_count": 1315,
   "metadata": {},
   "outputs": [
    {
     "data": {
      "text/plain": [
       "(1,)"
      ]
     },
     "execution_count": 1315,
     "metadata": {},
     "output_type": "execute_result"
    }
   ],
   "source": [
    "theta=np.ones(10)\n",
    "q=np.exp(theta*Phi)\n",
    "tol=sum(q.T)\n",
    "q.shape\n",
    "tol.shape"
   ]
  },
  {
   "cell_type": "code",
   "execution_count": 1307,
   "metadata": {},
   "outputs": [
    {
     "data": {
      "text/plain": [
       "array([[0.09388929, 0.08599846, 0.09610754, 0.0909094 , 0.09021999,\n",
       "        0.09115807, 0.09196517, 0.09078529, 0.09242738, 0.09039512]])"
      ]
     },
     "execution_count": 1307,
     "metadata": {},
     "output_type": "execute_result"
    }
   ],
   "source": [
    "sum(((q.T/tol.T).T*Phi)).reshape(1,10)"
   ]
  },
  {
   "cell_type": "code",
   "execution_count": 1308,
   "metadata": {},
   "outputs": [
    {
     "data": {
      "text/plain": [
       "array([[0.09388929, 0.08599846, 0.09610754, 0.0909094 , 0.09021999,\n",
       "        0.09115807, 0.09196517, 0.09078529, 0.09242738, 0.09039512]])"
      ]
     },
     "execution_count": 1308,
     "metadata": {},
     "output_type": "execute_result"
    }
   ],
   "source": [
    "sum((q.T/tol.T).T).reshape(1,10)*sum(Phi).reshape(1,10)"
   ]
  },
  {
   "cell_type": "code",
   "execution_count": 1309,
   "metadata": {},
   "outputs": [],
   "source": [
    "theta=np.ones(10)"
   ]
  },
  {
   "cell_type": "code",
   "execution_count": 1657,
   "metadata": {},
   "outputs": [],
   "source": [
    "def Logistic_digit_pred(S,X_test,theta,i0):\n",
    "    Phi=np.exp(-0.001*(distance_matrix(X_test[i0].reshape(1,784),S))**2)\n",
    "    #Phi=distance_matrix(X_test[i0].reshape(1,784),S)\n",
    "    q=np.exp(theta*Phi)\n",
    "    tol=sum(q.T)\n",
    "\n",
    "    return np.argmax(q/tol)"
   ]
  },
  {
   "cell_type": "code",
   "execution_count": 1658,
   "metadata": {},
   "outputs": [],
   "source": [
    "X_test = np.reshape(x_test,(10000,28*28))"
   ]
  },
  {
   "cell_type": "code",
   "execution_count": 1669,
   "metadata": {},
   "outputs": [
    {
     "data": {
      "text/plain": [
       "6"
      ]
     },
     "execution_count": 1669,
     "metadata": {},
     "output_type": "execute_result"
    },
    {
     "data": {
      "text/plain": [
       "<Figure size 432x288 with 0 Axes>"
      ]
     },
     "metadata": {},
     "output_type": "display_data"
    },
    {
     "data": {
      "image/png": "[encoded data removed]",
      "text/plain": [
       "<Figure size 288x288 with 1 Axes>"
      ]
     },
     "metadata": {
      "needs_background": "light"
     },
     "output_type": "display_data"
    }
   ],
   "source": [
    "i0=np.random.randint(low=1,high=len(X_test),size=1)[0]\n",
    "X_test[i0]\n",
    "plt.gray()\n",
    "plt.matshow(X_test[i0].reshape(28,28))\n",
    "y_test[i0]"
   ]
  },
  {
   "cell_type": "code",
   "execution_count": 1670,
   "metadata": {},
   "outputs": [
    {
     "data": {
      "text/plain": [
       "6"
      ]
     },
     "execution_count": 1670,
     "metadata": {},
     "output_type": "execute_result"
    }
   ],
   "source": [
    "Logistic_digit_pred(S,X_test,theta,i0)"
   ]
  },
  {
   "cell_type": "code",
   "execution_count": null,
   "metadata": {},
   "outputs": [],
   "source": []
  },
  {
   "cell_type": "code",
   "execution_count": 1671,
   "metadata": {},
   "outputs": [],
   "source": [
    "A=[]\n",
    "for i in range(len(y_test)):\n",
    "    A.append(Logistic_digit_pred(S,X_test,theta,i))\n"
   ]
  },
  {
   "cell_type": "code",
   "execution_count": 1672,
   "metadata": {},
   "outputs": [
    {
     "name": "stdout",
     "output_type": "stream",
     "text": [
      "Confusion matrix:\n",
      "[[ 881    0    6    2    2   55   25    1    7    1]\n",
      " [   0 1094   10    3    0    6    3    0   19    0]\n",
      " [  20   75  777   33   30    3   23   18   50    3]\n",
      " [   4   24   25  819    1   46    8   17   54   12]\n",
      " [   1   23    2    0  815    2   16    2    9  112]\n",
      " [  13   63    2  122   22  602   27   11   13   17]\n",
      " [  20   28   21    0   30   30  828    0    1    0]\n",
      " [   2   61   20    1   19    0    0  863   13   49]\n",
      " [  14   40   11   86   13   31   14   10  717   38]\n",
      " [  17   22    7   10   83    9    1   29   17  814]]\n"
     ]
    }
   ],
   "source": [
    "cm1 = metrics.confusion_matrix(y_test,A)\n",
    "print(\"Confusion matrix:\\n%s\" % cm1)"
   ]
  },
  {
   "cell_type": "code",
   "execution_count": 1673,
   "metadata": {},
   "outputs": [
    {
     "data": {
      "text/plain": [
       "array([[ 76,   0,  -5,   2,  -1, -46, -21,   2,  -6,  -1],\n",
       "       [  0,  18,  -5,  -2,   0,  -5,   0,   1,  -7,   0],\n",
       "       [-14, -66, 153, -18, -20,   0, -11,  -9, -16,   1],\n",
       "       [  0, -23,  -8, 103,   0, -21,  -6,  -7, -33,  -5],\n",
       "       [  0, -20,   5,   3, 109,  -2, -11,   2,  -2, -84],\n",
       "       [ -4, -61,   1, -88, -14, 177, -12,  -4,  18, -13],\n",
       "       [-12, -25, -12,   2, -24, -14,  83,   2,   0,   0],\n",
       "       [ -1, -54,   3,   6, -14,   1,   0,  86, -11, -16],\n",
       "       [ -5, -29,  -5, -64,  -6,  -4,   0,  -1, 142, -28],\n",
       "       [ -8, -14,  -6,  -1, -57,  -2,  -1,  -8, -10, 107]], dtype=int64)"
      ]
     },
     "execution_count": 1673,
     "metadata": {},
     "output_type": "execute_result"
    }
   ],
   "source": [
    "cm-cm1"
   ]
  },
  {
   "cell_type": "code",
   "execution_count": null,
   "metadata": {},
   "outputs": [],
   "source": []
  },
  {
   "cell_type": "code",
   "execution_count": 1674,
   "metadata": {},
   "outputs": [],
   "source": [
    "Num=0\n",
    "\n",
    "for i in range(len(y_test)):\n",
    "    A=Logistic_digit_pred(S,X_test,theta,i)\n",
    "    if (A-y_test[i])==0:\n",
    "        Num=Num+1\n",
    "    #print (A,y_test[i])"
   ]
  },
  {
   "cell_type": "code",
   "execution_count": 1675,
   "metadata": {},
   "outputs": [
    {
     "data": {
      "text/plain": [
       "0.821"
      ]
     },
     "execution_count": 1675,
     "metadata": {},
     "output_type": "execute_result"
    }
   ],
   "source": [
    "Num/len(y_test)"
   ]
  },
  {
   "cell_type": "code",
   "execution_count": null,
   "metadata": {},
   "outputs": [],
   "source": []
  },
  {
   "cell_type": "code",
   "execution_count": null,
   "metadata": {},
   "outputs": [],
   "source": []
  }
 ],
 "metadata": {
  "kernelspec": {
   "display_name": "Python 3",
   "language": "python",
   "name": "python3"
  },
  "language_info": {
   "codemirror_mode": {
    "name": "ipython",
    "version": 3
   },
   "file_extension": ".py",
   "mimetype": "text/x-python",
   "name": "python",
   "nbconvert_exporter": "python",
   "pygments_lexer": "ipython3",
   "version": "3.8.3"
  }
 },
 "nbformat": 4,
 "nbformat_minor": 4
}
