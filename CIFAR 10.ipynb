{
 "cells": [
  {
   "cell_type": "code",
   "execution_count": 1,
   "metadata": {},
   "outputs": [],
   "source": [
    "import tensorflow as tf"
   ]
  },
  {
   "cell_type": "code",
   "execution_count": 2,
   "metadata": {},
   "outputs": [],
   "source": [
    "import numpy as np"
   ]
  },
  {
   "cell_type": "code",
   "execution_count": 3,
   "metadata": {},
   "outputs": [],
   "source": [
    "import time"
   ]
  },
  {
   "cell_type": "code",
   "execution_count": 4,
   "metadata": {},
   "outputs": [],
   "source": [
    "(x_train, y_train), (x_test, y_test) =tf.keras.datasets.cifar10.load_data()"
   ]
  },
  {
   "cell_type": "code",
   "execution_count": 5,
   "metadata": {},
   "outputs": [],
   "source": [
    "X_train = np.reshape(x_train,(50000,3072))/255\n",
    "X_test = np.reshape(x_test,(10000,3072))/255"
   ]
  },
  {
   "cell_type": "code",
   "execution_count": 19,
   "metadata": {},
   "outputs": [],
   "source": [
    "from sklearn.preprocessing import StandardScaler\n",
    "scaler = StandardScaler()"
   ]
  },
  {
   "cell_type": "code",
   "execution_count": 20,
   "metadata": {},
   "outputs": [
    {
     "data": {
      "text/plain": [
       "StandardScaler()"
      ]
     },
     "execution_count": 20,
     "metadata": {},
     "output_type": "execute_result"
    }
   ],
   "source": [
    "scaler.fit(X_train)"
   ]
  },
  {
   "cell_type": "code",
   "execution_count": 26,
   "metadata": {},
   "outputs": [],
   "source": [
    "X_train=scaler.transform(X_train)"
   ]
  },
  {
   "cell_type": "code",
   "execution_count": 33,
   "metadata": {},
   "outputs": [],
   "source": [
    "scaler.fit(X_test)\n",
    "X_test=scaler.transform(X_test)"
   ]
  },
  {
   "cell_type": "code",
   "execution_count": 60,
   "metadata": {},
   "outputs": [],
   "source": [
    "theta=np.ones([3072,10])"
   ]
  },
  {
   "cell_type": "code",
   "execution_count": null,
   "metadata": {},
   "outputs": [],
   "source": [
    "start = time.time()\n",
    "theta=0.1*np.ones([3072,10])\n",
    "for j in range(25):\n",
    "    for i in range(len(X_train)):\n",
    "        updatey=np.zeros([3072,10])\n",
    "        Phi=X_train[i]\n",
    "        q=np.exp(0.05*np.dot(theta.T,Phi))\n",
    "        tol=sum(q)\n",
    "\n",
    "        updatecom=(q/tol)*Phi.reshape(3072,1)\n",
    "        updatey[:,y_train[i][0]]=Phi\n",
    "        update=(-1*updatecom+updatey)\n",
    "        theta=theta+0.003*update\n",
    "    \n",
    "end = time.time()\n",
    "print(end-start)"
   ]
  },
  {
   "cell_type": "code",
   "execution_count": null,
   "metadata": {},
   "outputs": [],
   "source": [
    "from sklearn import  metrics"
   ]
  },
  {
   "cell_type": "code",
   "execution_count": null,
   "metadata": {},
   "outputs": [],
   "source": [
    "def Logistic_digit_pred(X_test,theta,i):\n",
    "    qp=np.exp(np.dot(theta.T,X_test[i]))\n",
    "    tol=sum(qp)\n",
    "\n",
    "    return np.argmax(qp/tol)\n"
   ]
  },
  {
   "cell_type": "code",
   "execution_count": null,
   "metadata": {},
   "outputs": [],
   "source": [
    "A=[]\n",
    "for i in range(len(y_test)):\n",
    "    A.append(Logistic_digit_pred(X_test,theta,i))\n"
   ]
  },
  {
   "cell_type": "code",
   "execution_count": null,
   "metadata": {},
   "outputs": [],
   "source": [
    "cm1 = metrics.confusion_matrix(y_test, A)\n",
    "print(\"Confusion matrix:\\n%s\" % cm1)"
   ]
  },
  {
   "cell_type": "code",
   "execution_count": null,
   "metadata": {},
   "outputs": [],
   "source": [
    "print(\"Accuracy={}\".format(metrics.accuracy_score(y_test,A)))"
   ]
  },
  {
   "cell_type": "code",
   "execution_count": 5,
   "metadata": {},
   "outputs": [],
   "source": [
    "import matplotlib.pyplot as plt"
   ]
  },
  {
   "cell_type": "code",
   "execution_count": 6,
   "metadata": {},
   "outputs": [
    {
     "data": {
      "text/plain": [
       "<matplotlib.image.AxesImage at 0x1ed41074a00>"
      ]
     },
     "execution_count": 6,
     "metadata": {},
     "output_type": "execute_result"
    },
    {
     "data": {
      "image/png": "[encoded data removed]",
      "text/plain": [
       "<Figure size 432x288 with 1 Axes>"
      ]
     },
     "metadata": {
      "needs_background": "light"
     },
     "output_type": "display_data"
    }
   ],
   "source": [
    "plt.imshow(x_test[1][::])"
   ]
  },
  {
   "cell_type": "code",
   "execution_count": 7,
   "metadata": {},
   "outputs": [
    {
     "data": {
      "text/plain": [
       "array([3], dtype=uint8)"
      ]
     },
     "execution_count": 7,
     "metadata": {},
     "output_type": "execute_result"
    }
   ],
   "source": []
  },
  {
   "cell_type": "code",
   "execution_count": 8,
   "metadata": {},
   "outputs": [],
   "source": [
    "x0=x_train[10].reshape(32*32*3,1)"
   ]
  },
  {
   "cell_type": "code",
   "execution_count": 9,
   "metadata": {},
   "outputs": [
    {
     "data": {
      "text/plain": [
       "(3072, 1)"
      ]
     },
     "execution_count": 9,
     "metadata": {},
     "output_type": "execute_result"
    }
   ],
   "source": [
    "x0.shape"
   ]
  },
  {
   "cell_type": "code",
   "execution_count": 10,
   "metadata": {},
   "outputs": [
    {
     "data": {
      "text/plain": [
       "(50000, 1)"
      ]
     },
     "execution_count": 10,
     "metadata": {},
     "output_type": "execute_result"
    }
   ],
   "source": [
    "y_train.shape"
   ]
  },
  {
   "cell_type": "code",
   "execution_count": 11,
   "metadata": {},
   "outputs": [
    {
     "data": {
      "text/plain": [
       "(10000, 32, 32, 3)"
      ]
     },
     "execution_count": 11,
     "metadata": {},
     "output_type": "execute_result"
    }
   ],
   "source": [
    "x_test.shape"
   ]
  },
  {
   "cell_type": "code",
   "execution_count": 7,
   "metadata": {},
   "outputs": [],
   "source": [
    "X0_train = np.reshape(x_train,(50000,3072))/255"
   ]
  },
  {
   "cell_type": "code",
   "execution_count": 16,
   "metadata": {},
   "outputs": [
    {
     "data": {
      "text/plain": [
       "array([[ 0.02634975,  0.02778743,  0.03111119, ...,  0.01573704,\n",
       "         0.01672143,  0.01920378],\n",
       "       [-0.01584631, -0.01756834, -0.02031506, ...,  0.02254787,\n",
       "         0.02146667,  0.02053795],\n",
       "       [-0.02171791, -0.01858465, -0.01290838, ..., -0.02581563,\n",
       "        -0.02255578, -0.01697871],\n",
       "       ...,\n",
       "       [ 0.0095942 , -0.00063307,  0.01320691, ..., -0.00642011,\n",
       "        -0.00501533,  0.00317692],\n",
       "       [ 0.01611385,  0.03038543,  0.0294829 , ...,  0.00975578,\n",
       "        -0.01478228, -0.01887904],\n",
       "       [ 0.01611806,  0.01826534,  0.02384624, ..., -0.02301063,\n",
       "        -0.00811308, -0.02741926]])"
      ]
     },
     "execution_count": 16,
     "metadata": {},
     "output_type": "execute_result"
    }
   ],
   "source": [
    "from sklearn.decomposition import PCA\n",
    "import numpy as np\n",
    "pca=PCA(400)\n",
    "pca.fit(X0_train)\n",
    "pca.components_  #返回模型的各個特徵向量"
   ]
  },
  {
   "cell_type": "code",
   "execution_count": 17,
   "metadata": {},
   "outputs": [
    {
     "data": {
      "text/plain": [
       "0.9763634836869182"
      ]
     },
     "execution_count": 17,
     "metadata": {},
     "output_type": "execute_result"
    }
   ],
   "source": [
    "sum(pca.explained_variance_ratio_)  #返回各個成為各自的方差百分比（貢獻率）"
   ]
  },
  {
   "cell_type": "code",
   "execution_count": 18,
   "metadata": {},
   "outputs": [],
   "source": [
    "X_train=pca.transform(X0_train)"
   ]
  },
  {
   "cell_type": "code",
   "execution_count": 19,
   "metadata": {},
   "outputs": [],
   "source": [
    "X0_test = np.reshape(x_test,(10000,3072))/255"
   ]
  },
  {
   "cell_type": "code",
   "execution_count": 20,
   "metadata": {},
   "outputs": [],
   "source": [
    "pcat=PCA(400)\n",
    "pcat.fit(X0_test)\n",
    "X_test=pcat.transform(X0_test) "
   ]
  },
  {
   "cell_type": "code",
   "execution_count": 21,
   "metadata": {},
   "outputs": [
    {
     "data": {
      "text/plain": [
       "(50000, 400)"
      ]
     },
     "execution_count": 21,
     "metadata": {},
     "output_type": "execute_result"
    }
   ],
   "source": [
    "X_train.shape"
   ]
  },
  {
   "cell_type": "code",
   "execution_count": 22,
   "metadata": {},
   "outputs": [
    {
     "data": {
      "text/plain": [
       "array([[6],\n",
       "       [9],\n",
       "       [9],\n",
       "       ...,\n",
       "       [9],\n",
       "       [1],\n",
       "       [1]], dtype=uint8)"
      ]
     },
     "execution_count": 22,
     "metadata": {},
     "output_type": "execute_result"
    }
   ],
   "source": [
    "y_train"
   ]
  },
  {
   "cell_type": "code",
   "execution_count": 15,
   "metadata": {},
   "outputs": [],
   "source": [
    "index=np.where(y_train==0)"
   ]
  },
  {
   "cell_type": "code",
   "execution_count": 16,
   "metadata": {},
   "outputs": [
    {
     "data": {
      "text/plain": [
       "5000"
      ]
     },
     "execution_count": 16,
     "metadata": {},
     "output_type": "execute_result"
    }
   ],
   "source": [
    "len(index[0])"
   ]
  },
  {
   "cell_type": "code",
   "execution_count": 17,
   "metadata": {},
   "outputs": [
    {
     "data": {
      "text/plain": [
       "array([ 29,  30,  35,  49,  77,  93, 115, 116, 129, 165], dtype=int64)"
      ]
     },
     "execution_count": 17,
     "metadata": {},
     "output_type": "execute_result"
    }
   ],
   "source": [
    "index[0][0:10]"
   ]
  },
  {
   "cell_type": "code",
   "execution_count": 18,
   "metadata": {},
   "outputs": [
    {
     "data": {
      "text/plain": [
       "array([ 905, 1403, 3609, 2946, 1743, 4500, 1892, 2147, 2312, 4016])"
      ]
     },
     "execution_count": 18,
     "metadata": {},
     "output_type": "execute_result"
    }
   ],
   "source": [
    "np.random.randint(low=1,high=len(index[0]),size=10)\n"
   ]
  },
  {
   "cell_type": "code",
   "execution_count": 19,
   "metadata": {},
   "outputs": [
    {
     "data": {
      "text/plain": [
       "(32, 3)"
      ]
     },
     "execution_count": 19,
     "metadata": {},
     "output_type": "execute_result"
    }
   ],
   "source": [
    "sum(x_train[index]).shape"
   ]
  },
  {
   "cell_type": "code",
   "execution_count": 16,
   "metadata": {},
   "outputs": [
    {
     "ename": "NameError",
     "evalue": "name 'index' is not defined",
     "output_type": "error",
     "traceback": [
      "\u001b[1;31m---------------------------------------------------------------------------\u001b[0m",
      "\u001b[1;31mNameError\u001b[0m                                 Traceback (most recent call last)",
      "\u001b[1;32m<ipython-input-16-72376fef864f>\u001b[0m in \u001b[0;36m<module>\u001b[1;34m\u001b[0m\n\u001b[1;32m----> 1\u001b[1;33m \u001b[1;36m0.5\u001b[0m\u001b[1;33m*\u001b[0m\u001b[1;33m(\u001b[0m\u001b[0mx_train\u001b[0m\u001b[1;33m[\u001b[0m\u001b[0mindex\u001b[0m\u001b[1;33m[\u001b[0m\u001b[1;36m0\u001b[0m\u001b[1;33m]\u001b[0m\u001b[1;33m]\u001b[0m\u001b[1;33m[\u001b[0m\u001b[1;36m0\u001b[0m\u001b[1;33m]\u001b[0m\u001b[1;33m+\u001b[0m\u001b[0mx_train\u001b[0m\u001b[1;33m[\u001b[0m\u001b[0mindex\u001b[0m\u001b[1;33m[\u001b[0m\u001b[1;36m0\u001b[0m\u001b[1;33m]\u001b[0m\u001b[1;33m]\u001b[0m\u001b[1;33m[\u001b[0m\u001b[1;36m1\u001b[0m\u001b[1;33m]\u001b[0m\u001b[1;33m)\u001b[0m\u001b[1;33m\u001b[0m\u001b[1;33m\u001b[0m\u001b[0m\n\u001b[0m",
      "\u001b[1;31mNameError\u001b[0m: name 'index' is not defined"
     ]
    }
   ],
   "source": [
    "0.5*(x_train[index[0]][0]+x_train[index[0]][1])"
   ]
  },
  {
   "cell_type": "code",
   "execution_count": 69,
   "metadata": {},
   "outputs": [],
   "source": [
    "X_bar=sum(x_train[index[0]])/(x_train[index[0]].shape[0])"
   ]
  },
  {
   "cell_type": "code",
   "execution_count": 71,
   "metadata": {},
   "outputs": [
    {
     "data": {
      "text/plain": [
       "<matplotlib.image.AxesImage at 0x174cacb0790>"
      ]
     },
     "execution_count": 71,
     "metadata": {},
     "output_type": "execute_result"
    },
    {
     "data": {
      "text/plain": [
       "<Figure size 432x288 with 0 Axes>"
      ]
     },
     "metadata": {},
     "output_type": "display_data"
    },
    {
     "data": {
      "image/png": "[encoded data removed]",
      "text/plain": [
       "<Figure size 288x288 with 1 Axes>"
      ]
     },
     "metadata": {
      "needs_background": "light"
     },
     "output_type": "display_data"
    }
   ],
   "source": [
    "plt.gray()\n",
    "plt.matshow(X_bar.reshape(32,32,3))"
   ]
  },
  {
   "cell_type": "code",
   "execution_count": 23,
   "metadata": {},
   "outputs": [
    {
     "ename": "NameError",
     "evalue": "name 'index' is not defined",
     "output_type": "error",
     "traceback": [
      "\u001b[1;31m---------------------------------------------------------------------------\u001b[0m",
      "\u001b[1;31mNameError\u001b[0m                                 Traceback (most recent call last)",
      "\u001b[1;32m<ipython-input-23-eef0145dcbb4>\u001b[0m in \u001b[0;36m<module>\u001b[1;34m\u001b[0m\n\u001b[1;32m----> 1\u001b[1;33m \u001b[0mplt\u001b[0m\u001b[1;33m.\u001b[0m\u001b[0mimshow\u001b[0m\u001b[1;33m(\u001b[0m\u001b[1;33m(\u001b[0m\u001b[0mx_train\u001b[0m\u001b[1;33m[\u001b[0m\u001b[0mindex\u001b[0m\u001b[1;33m[\u001b[0m\u001b[1;36m0\u001b[0m\u001b[1;33m]\u001b[0m\u001b[1;33m]\u001b[0m\u001b[1;33m[\u001b[0m\u001b[1;36m30\u001b[0m\u001b[1;33m]\u001b[0m\u001b[1;33m)\u001b[0m\u001b[1;33m)\u001b[0m\u001b[1;33m\u001b[0m\u001b[1;33m\u001b[0m\u001b[0m\n\u001b[0m",
      "\u001b[1;31mNameError\u001b[0m: name 'index' is not defined"
     ]
    }
   ],
   "source": [
    "plt.imshow((x_train[index[0]][30]))"
   ]
  },
  {
   "cell_type": "code",
   "execution_count": 71,
   "metadata": {},
   "outputs": [],
   "source": [
    "def theta_fit(X_train,y_train,k,sigma,lamb):\n",
    "    index=np.where(y_train==k)\n",
    "    index=index[0][0:50]\n",
    "    P=[]\n",
    "    for i in range(X_train.shape[0]):\n",
    "        for j in range(X_train[index].shape[0]):\n",
    "            P.append(np.exp(-sigma*(np.linalg.norm(X_train[i]-X_train[index][j]))**2))\n",
    "\n",
    "    Phi=np.array(P).reshape(X_train.shape[0],X_train[index].shape[0])\n",
    "    Pi=np.zeros(X_train.shape[0]).reshape(X_train.shape[0],1)\n",
    "    Pi[index]=1\n",
    "    Phinv=np.linalg.inv(np.dot(Phi.T,Phi)+(lamb*np.eye(X_train[index].shape[0])))\n",
    "    pi=np.dot(Phi.T,Pi)\n",
    "    theta=np.dot(Phinv,pi)\n",
    "    return theta"
   ]
  },
  {
   "cell_type": "code",
   "execution_count": 72,
   "metadata": {},
   "outputs": [],
   "source": [
    "theta0=theta_fit(X_train,y_train,0,0.01,0.1)"
   ]
  },
  {
   "cell_type": "code",
   "execution_count": 73,
   "metadata": {},
   "outputs": [
    {
     "data": {
      "text/plain": [
       "array([[ 0.32232791],\n",
       "       [-0.03753319],\n",
       "       [-0.02097549],\n",
       "       [ 0.20288052],\n",
       "       [-0.02204135],\n",
       "       [ 0.04365338],\n",
       "       [ 0.19487609],\n",
       "       [ 0.02542809],\n",
       "       [-0.12749808],\n",
       "       [-0.05019179],\n",
       "       [ 0.00231906],\n",
       "       [ 0.07459936],\n",
       "       [ 0.0251293 ],\n",
       "       [-0.0741114 ],\n",
       "       [ 0.1697801 ],\n",
       "       [-0.04903351],\n",
       "       [ 0.06286861],\n",
       "       [ 0.00072216],\n",
       "       [ 0.02634114],\n",
       "       [ 0.03495254],\n",
       "       [ 0.05605312],\n",
       "       [-0.18431595],\n",
       "       [ 0.124248  ],\n",
       "       [ 0.06633298],\n",
       "       [-0.11470207],\n",
       "       [ 0.02011332],\n",
       "       [-0.10025754],\n",
       "       [ 0.07439298],\n",
       "       [ 0.00830485],\n",
       "       [-0.03571852],\n",
       "       [ 0.05145342],\n",
       "       [-0.00527045],\n",
       "       [-0.02430375],\n",
       "       [-0.03812674],\n",
       "       [ 0.01195009],\n",
       "       [ 0.29357429],\n",
       "       [-0.03449332],\n",
       "       [ 0.00266404],\n",
       "       [-0.04041476],\n",
       "       [ 0.06976795],\n",
       "       [ 0.13523238],\n",
       "       [ 0.16512511],\n",
       "       [ 0.06794935],\n",
       "       [-0.02525566],\n",
       "       [ 0.02642029],\n",
       "       [ 0.10060837],\n",
       "       [-0.07472727],\n",
       "       [ 0.04706747],\n",
       "       [ 0.05484544],\n",
       "       [-0.05159462]])"
      ]
     },
     "execution_count": 73,
     "metadata": {},
     "output_type": "execute_result"
    }
   ],
   "source": [
    "theta0"
   ]
  },
  {
   "cell_type": "code",
   "execution_count": 74,
   "metadata": {},
   "outputs": [
    {
     "data": {
      "text/plain": [
       "array([ 29,  30,  35,  49,  77,  93, 115, 116, 129, 165], dtype=int64)"
      ]
     },
     "execution_count": 74,
     "metadata": {},
     "output_type": "execute_result"
    }
   ],
   "source": [
    "index0=np.where(y_train==0)\n",
    "index0=index0[0][0:10]\n",
    "index0    "
   ]
  },
  {
   "cell_type": "code",
   "execution_count": 75,
   "metadata": {},
   "outputs": [],
   "source": [
    "#X_test[0]"
   ]
  },
  {
   "cell_type": "code",
   "execution_count": 76,
   "metadata": {},
   "outputs": [],
   "source": [
    "P0=[]\n",
    "for j in range(X_train[index0].shape[0]):\n",
    "    P0.append(np.exp(-0.01*(np.linalg.norm(X_test[0]-X_train[index0][j]))**2))\n",
    "    "
   ]
  },
  {
   "cell_type": "code",
   "execution_count": 78,
   "metadata": {},
   "outputs": [],
   "source": [
    "#Pht0=np.array(P0).reshape(X_train[index0].shape[0],1)\n",
    "#p0=max(0,np.dot(theta0.T,Pht0))\n",
    "#p0 \n"
   ]
  },
  {
   "cell_type": "code",
   "execution_count": 79,
   "metadata": {},
   "outputs": [],
   "source": [
    "theta0=theta_fit(X_train,y_train,0,0.01,0.1)\n",
    "theta1=theta_fit(X_train,y_train,1,0.01,0.1)\n",
    "theta2=theta_fit(X_train,y_train,2,0.01,0.1)\n",
    "theta3=theta_fit(X_train,y_train,3,0.01,0.1)\n",
    "theta4=theta_fit(X_train,y_train,4,0.01,0.1)\n",
    "theta5=theta_fit(X_train,y_train,5,0.01,0.1)\n",
    "theta6=theta_fit(X_train,y_train,6,0.01,0.1)\n",
    "theta7=theta_fit(X_train,y_train,7,0.01,0.1)\n",
    "theta8=theta_fit(X_train,y_train,8,0.01,0.1)\n",
    "theta9=theta_fit(X_train,y_train,9,0.01,0.1)"
   ]
  },
  {
   "cell_type": "code",
   "execution_count": null,
   "metadata": {},
   "outputs": [],
   "source": [
    "#theta9=theta_fit(X_train,y_train,9,0.01,1)"
   ]
  },
  {
   "cell_type": "code",
   "execution_count": null,
   "metadata": {},
   "outputs": [],
   "source": [
    "theta9"
   ]
  },
  {
   "cell_type": "code",
   "execution_count": 80,
   "metadata": {},
   "outputs": [],
   "source": [
    "def LS_pred_digit(X_train,X_test,y_train,theta0,theta1,theta2,theta3,theta4,theta5,theta6,theta7,theta8,theta9,i0):\n",
    "    index0=np.where(y_train==0)\n",
    "    index0=index0[0][0:50]\n",
    "    index1=np.where(y_train==1)\n",
    "    index1=index1[0][0:50]\n",
    "    index2=np.where(y_train==2)\n",
    "    index2=index2[0][0:50]\n",
    "    index3=np.where(y_train==3)\n",
    "    index3=index3[0][0:50]\n",
    "    index4=np.where(y_train==4)\n",
    "    index4=index4[0][0:50]\n",
    "    index5=np.where(y_train==5)\n",
    "    index5=index5[0][0:50]\n",
    "    index6=np.where(y_train==6)\n",
    "    index6=index6[0][0:50]\n",
    "    index7=np.where(y_train==7)\n",
    "    index7=index7[0][0:50]\n",
    "    index8=np.where(y_train==8)\n",
    "    index8=index8[0][0:50]\n",
    "    index9=np.where(y_train==9)\n",
    "    index9=index9[0][0:50]\n",
    "    \n",
    "    P0=[]\n",
    "    P1=[]\n",
    "    P2=[]\n",
    "    P3=[]\n",
    "    P4=[]\n",
    "    P5=[]\n",
    "    P6=[]\n",
    "    P7=[]\n",
    "    P8=[]\n",
    "    P9=[]\n",
    "\n",
    "    for j in range(X_train[index0].shape[0]):\n",
    "        P0.append(np.exp(-0.01*(np.linalg.norm(X_test[i0]-X_train[index0][j]))**2))\n",
    "    for j in range(X_train[index1].shape[0]):\n",
    "        P1.append(np.exp(-0.01*(np.linalg.norm(X_test[i0]-X_train[index1][j]))**2))\n",
    "    for j in range(X_train[index2].shape[0]):\n",
    "        P2.append(np.exp(-0.01*(np.linalg.norm(X_test[i0]-X_train[index2][j]))**2))\n",
    "    for j in range(X_train[index3].shape[0]):\n",
    "        P3.append(np.exp(-0.01*(np.linalg.norm(X_test[i0]-X_train[index3][j]))**2))\n",
    "    for j in range(X_train[index4].shape[0]):\n",
    "        P4.append(np.exp(-0.01*(np.linalg.norm(X_test[i0]-X_train[index4][j]))**2))\n",
    "    for j in range(X_train[index5].shape[0]):\n",
    "        P5.append(np.exp(-0.01*(np.linalg.norm(X_test[i0]-X_train[index5][j]))**2))\n",
    "    for j in range(X_train[index6].shape[0]):\n",
    "        P6.append(np.exp(-0.01*(np.linalg.norm(X_test[i0]-X_train[index6][j]))**2))\n",
    "    for j in range(X_train[index7].shape[0]):\n",
    "        P7.append(np.exp(-0.01*(np.linalg.norm(X_test[i0]-X_train[index7][j]))**2))\n",
    "    for j in range(X_train[index8].shape[0]):\n",
    "        P8.append(np.exp(-0.01*(np.linalg.norm(X_test[i0]-X_train[index8][j]))**2))\n",
    "    for j in range(X_train[index9].shape[0]):\n",
    "        P9.append(np.exp(-0.01*(np.linalg.norm(X_test[i0]-X_train[index9][j]))**2))\n",
    "\n",
    "    Pht0=np.array(P0).reshape(X_train[index0].shape[0],1)\n",
    "    p0=max(0,np.dot(theta0.T,Pht0))\n",
    "    Pht1=np.array(P1).reshape(X_train[index1].shape[0],1)\n",
    "    p1=max(0,np.dot(theta1.T,Pht1))\n",
    "    Pht2=np.array(P2).reshape(X_train[index2].shape[0],1)\n",
    "    p2=max(0,np.dot(theta2.T,Pht2))\n",
    "    Pht3=np.array(P3).reshape(X_train[index3].shape[0],1)\n",
    "    p3=max(0,np.dot(theta3.T,Pht3))\n",
    "    Pht4=np.array(P4).reshape(X_train[index4].shape[0],1)\n",
    "    p4=max(0,np.dot(theta4.T,Pht4))\n",
    "    Pht5=np.array(P5).reshape(X_train[index5].shape[0],1)\n",
    "    p5=max(0,np.dot(theta5.T,Pht5))\n",
    "    Pht6=np.array(P6).reshape(X_train[index6].shape[0],1)\n",
    "    p6=max(0,np.dot(theta6.T,Pht6))\n",
    "    Pht7=np.array(P7).reshape(X_train[index7].shape[0],1)\n",
    "    p7=max(0,np.dot(theta7.T,Pht7))\n",
    "    Pht8=np.array(P8).reshape(X_train[index8].shape[0],1)\n",
    "    p8=max(0,np.dot(theta8.T,Pht8))\n",
    "    Pht9=np.array(P9).reshape(X_train[index9].shape[0],1)\n",
    "    p9=max(0,np.dot(theta9.T,Pht9))\n",
    "    \n",
    "    tol=p1+p2+p3+p4+p5+p6+p7+p8+p9\n",
    "    return np.argmax([p0/tol,p1/tol,p2/tol,p3/tol,p4/tol,p5/tol,p6/tol,p7/tol,p8/tol,p9/tol])\n",
    "    "
   ]
  },
  {
   "cell_type": "code",
   "execution_count": 81,
   "metadata": {},
   "outputs": [
    {
     "data": {
      "text/plain": [
       "array([[-0.05866665],\n",
       "       [ 0.01820253],\n",
       "       [ 0.03666925],\n",
       "       [ 0.08381354],\n",
       "       [-0.04790733],\n",
       "       [ 0.04339069],\n",
       "       [ 0.03823958],\n",
       "       [-0.09910342],\n",
       "       [ 0.27263406],\n",
       "       [ 0.11801848],\n",
       "       [-0.02774231],\n",
       "       [-0.10583054],\n",
       "       [-0.03033709],\n",
       "       [-0.02850744],\n",
       "       [ 0.01753417],\n",
       "       [ 0.06408652],\n",
       "       [ 0.15526471],\n",
       "       [-0.12110284],\n",
       "       [ 0.02586029],\n",
       "       [-0.02593912],\n",
       "       [-0.19154295],\n",
       "       [ 0.15423002],\n",
       "       [-0.04607481],\n",
       "       [ 0.06907424],\n",
       "       [-0.01885289],\n",
       "       [ 0.02236232],\n",
       "       [ 0.035753  ],\n",
       "       [ 0.19457978],\n",
       "       [-0.05886716],\n",
       "       [ 0.0400711 ],\n",
       "       [-0.00073997],\n",
       "       [ 0.11136747],\n",
       "       [ 0.10336239],\n",
       "       [ 0.11673262],\n",
       "       [-0.06874317],\n",
       "       [-0.07740568],\n",
       "       [-0.04024343],\n",
       "       [ 0.03013934],\n",
       "       [ 0.02590989],\n",
       "       [-0.00071644],\n",
       "       [ 0.10532495],\n",
       "       [-0.0234787 ],\n",
       "       [ 0.26508294],\n",
       "       [ 0.46266225],\n",
       "       [ 0.03130934],\n",
       "       [-0.01797627],\n",
       "       [ 0.12994794],\n",
       "       [ 0.30310301],\n",
       "       [-0.02905852],\n",
       "       [ 0.12311114]])"
      ]
     },
     "execution_count": 81,
     "metadata": {},
     "output_type": "execute_result"
    }
   ],
   "source": [
    "theta5"
   ]
  },
  {
   "cell_type": "code",
   "execution_count": 95,
   "metadata": {},
   "outputs": [
    {
     "data": {
      "text/plain": [
       "array([6], dtype=uint8)"
      ]
     },
     "execution_count": 95,
     "metadata": {},
     "output_type": "execute_result"
    }
   ],
   "source": [
    "i0=np.random.randint(low=1,high=len(y_test),size=1)[0]\n",
    "\n",
    "#plt.imshow(X_train[i0].reshape(32,32,3))\n",
    "y_test[i0]"
   ]
  },
  {
   "cell_type": "code",
   "execution_count": 96,
   "metadata": {},
   "outputs": [
    {
     "data": {
      "text/plain": [
       "9"
      ]
     },
     "execution_count": 96,
     "metadata": {},
     "output_type": "execute_result"
    }
   ],
   "source": [
    "LS_pred_digit(X_train,X_test,y_train,theta0,theta1,theta2,theta3,theta4,theta5,theta6,theta7,theta8,theta9,i0)"
   ]
  },
  {
   "cell_type": "code",
   "execution_count": 52,
   "metadata": {},
   "outputs": [
    {
     "data": {
      "text/plain": [
       "array([[ 0.1369125 ],\n",
       "       [-0.01274348],\n",
       "       [ 0.01246546],\n",
       "       [ 0.09777534],\n",
       "       [ 0.00518042],\n",
       "       [-0.00805813],\n",
       "       [-0.02444731],\n",
       "       [ 0.04016913],\n",
       "       [-0.01159687],\n",
       "       [-0.0168548 ]])"
      ]
     },
     "execution_count": 52,
     "metadata": {},
     "output_type": "execute_result"
    }
   ],
   "source": [
    "theta0"
   ]
  },
  {
   "cell_type": "code",
   "execution_count": 102,
   "metadata": {},
   "outputs": [
    {
     "data": {
      "text/plain": [
       "0.1"
      ]
     },
     "execution_count": 102,
     "metadata": {},
     "output_type": "execute_result"
    }
   ],
   "source": [
    "score=0\n",
    "ID=y_test[0:10000]\n",
    "for i in range(len(ID)):\n",
    "    if ((LS_pred_digit(X_train,X_test,y_train,theta0,theta1,theta2,theta3,theta4,theta5,theta6,theta7,theta8,theta9,i0)-ID[i])==0):\n",
    "        score=score+1\n",
    "score/len(ID)"
   ]
  },
  {
   "cell_type": "code",
   "execution_count": null,
   "metadata": {},
   "outputs": [],
   "source": []
  }
 ],
 "metadata": {
  "kernelspec": {
   "display_name": "Python 3",
   "language": "python",
   "name": "python3"
  },
  "language_info": {
   "codemirror_mode": {
    "name": "ipython",
    "version": 3
   },
   "file_extension": ".py",
   "mimetype": "text/x-python",
   "name": "python",
   "nbconvert_exporter": "python",
   "pygments_lexer": "ipython3",
   "version": "3.8.3"
  }
 },
 "nbformat": 4,
 "nbformat_minor": 4
}
