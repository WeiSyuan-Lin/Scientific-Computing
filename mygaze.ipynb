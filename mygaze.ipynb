{
 "cells": [
  {
   "cell_type": "code",
   "execution_count": 1,
   "metadata": {},
   "outputs": [],
   "source": [
    "import pandas as pd\n",
    "import numpy as np\n",
    "import os"
   ]
  },
  {
   "cell_type": "code",
   "execution_count": 2,
   "metadata": {},
   "outputs": [],
   "source": [
    "df = pd.read_csv('eyetrack5.csv')   #编码默认UTF-8，若乱码自行更改"
   ]
  },
  {
   "cell_type": "code",
   "execution_count": 13,
   "metadata": {},
   "outputs": [
    {
     "data": {
      "text/plain": [
       "StandardScaler()"
      ]
     },
     "execution_count": 13,
     "metadata": {},
     "output_type": "execute_result"
    }
   ],
   "source": [
    "from sklearn.preprocessing import StandardScaler\n",
    "scaler= StandardScaler()\n",
    "scaler.fit(df[['eye_position1_up_x', 'eye_position1_up_y',\n",
    "       'eye_position1_down_x', 'eye_position1_down_y', 'eye_position2_up_x',\n",
    "       'eye_position2_up_y', 'eye_position2_down_x', 'eye_position2_down_y',\n",
    "       'gaze_project_x', 'gaze_project_y', 'head_pitch', 'head_yaw',\n",
    "       'head_roll', 'eye_center_position1_x', 'eye_center_position1_y',\n",
    "       'eye_center_position2_x', 'eye_center_position2_y']])\n"
   ]
  },
  {
   "cell_type": "code",
   "execution_count": 14,
   "metadata": {},
   "outputs": [],
   "source": [
    "X_train=scaler.transform(df[['eye_position1_up_x', 'eye_position1_up_y',\n",
    "       'eye_position1_down_x', 'eye_position1_down_y', 'eye_position2_up_x',\n",
    "       'eye_position2_up_y', 'eye_position2_down_x', 'eye_position2_down_y',\n",
    "       'gaze_project_x', 'gaze_project_y', 'head_pitch', 'head_yaw',\n",
    "       'head_roll', 'eye_center_position1_x', 'eye_center_position1_y',\n",
    "       'eye_center_position2_x', 'eye_center_position2_y']])"
   ]
  },
  {
   "cell_type": "code",
   "execution_count": 15,
   "metadata": {},
   "outputs": [
    {
     "data": {
      "text/plain": [
       "array([[ 1.51295196, -0.35468522,  1.34222356, ...,  0.87159101,\n",
       "        -2.35065019,  0.89644642],\n",
       "       [ 1.50031967, -0.38326277,  1.35421841, ...,  0.02443713,\n",
       "        -0.60195477, -0.84292723],\n",
       "       [ 1.51295196, -0.38326277,  1.35421841, ..., -1.66987063,\n",
       "        -1.47630248,  0.02675959],\n",
       "       ...,\n",
       "       [ 0.3002518 ,  2.36970764,  0.10675415, ...,  0.87159101,\n",
       "         1.14674065,  0.89644642],\n",
       "       [ 0.31288409,  2.37923349,  0.10675415, ...,  0.87159101,\n",
       "         1.14674065,  0.89644642],\n",
       "       [-4.19684464, -2.09791562, -4.42729863, ...,  0.87159101,\n",
       "         1.14674065,  0.89644642]])"
      ]
     },
     "execution_count": 15,
     "metadata": {},
     "output_type": "execute_result"
    }
   ],
   "source": [
    "X_train"
   ]
  },
  {
   "cell_type": "code",
   "execution_count": 24,
   "metadata": {},
   "outputs": [],
   "source": [
    "y_train=np.array(df['label'])"
   ]
  },
  {
   "cell_type": "code",
   "execution_count": 19,
   "metadata": {},
   "outputs": [
    {
     "data": {
      "text/plain": [
       "array([ 1,  1,  1, ..., 18, 18, 18], dtype=int64)"
      ]
     },
     "execution_count": 19,
     "metadata": {},
     "output_type": "execute_result"
    }
   ],
   "source": [
    "y_train"
   ]
  },
  {
   "cell_type": "code",
   "execution_count": 20,
   "metadata": {},
   "outputs": [
    {
     "name": "stdout",
     "output_type": "stream",
     "text": [
      "[0.30128205 0.39102564 0.32051282 0.3525641  0.37179487 0.30128205\n",
      " 0.29487179 0.21794872 0.22435897 0.3525641 ]\n"
     ]
    }
   ],
   "source": [
    "from sklearn.svm import SVC\n",
    "from sklearn.model_selection import cross_val_score\n",
    "\n",
    "clf = SVC()\n",
    "print(cross_val_score(clf, X_train, y_train, cv=10))"
   ]
  },
  {
   "cell_type": "code",
   "execution_count": 26,
   "metadata": {},
   "outputs": [
    {
     "data": {
      "text/plain": [
       "0.312820511"
      ]
     },
     "execution_count": 26,
     "metadata": {},
     "output_type": "execute_result"
    }
   ],
   "source": [
    "sum([0.30128205, 0.39102564 ,0.32051282 ,0.3525641  ,0.37179487, 0.30128205\n",
    " ,0.29487179 ,0.21794872, 0.22435897 ,0.3525641 ])/10"
   ]
  },
  {
   "cell_type": "code",
   "execution_count": 21,
   "metadata": {},
   "outputs": [
    {
     "data": {
      "text/plain": [
       "SVC()"
      ]
     },
     "execution_count": 21,
     "metadata": {},
     "output_type": "execute_result"
    }
   ],
   "source": [
    "clf.fit(X_train, y_train)"
   ]
  },
  {
   "cell_type": "code",
   "execution_count": 22,
   "metadata": {},
   "outputs": [
    {
     "name": "stdout",
     "output_type": "stream",
     "text": [
      "Confusion matrix:\n",
      "[[79 12  0  0  0  0  4  6  0  0  0  0  2  3  0  0  0  0]\n",
      " [ 7 66  7  0  0  0  1  7  6  0  0  0  4  0  0  0  0  0]\n",
      " [ 0  1 61  6  0  0  0  6  4  9  0  0  0  0  8  0  1  4]\n",
      " [ 0  0 14 60  2  2  0  0  1  4  0  0  0  0  3  3  3  6]\n",
      " [ 0  0  0  9 49  8  0  0  0  4  6  3  0  0  0  2  0  3]\n",
      " [ 0  0  0  2 27 34  0  0  0  0  6  0  0  0  0  0  0  6]\n",
      " [25  0  0  0  0  0 54  0  0  0  0  0 10  1  0  0  0  0]\n",
      " [ 2 18  0  0  0  0  0 69  2  0  0  0  0  3  1  0  0  0]\n",
      " [ 0  0 16  4  0  0  0  0 51  6  0  1  0  1  9  1  0  0]\n",
      " [ 0  0  8 13  6  1  0  0  9 53  2  3  0  1  0  1  0  1]\n",
      " [ 0  0  0  5  2  4  0  0  1  6 52  2  0  0  0  1  1  6]\n",
      " [ 0  0  0  2  1  1  0  0  0  0 24 32  0  0  0  0  3  6]\n",
      " [ 6  1  0  0  0  0  8  4  0  0  0  0 55  1  0  0  0  0]\n",
      " [ 2  2  0  1  0  0  1 19  2  0  0  0  2 51  1  0  0  0]\n",
      " [ 1  0  4  2  0  0  0  1 14  0  0  0  0  4 50  8  0  0]\n",
      " [ 0  0  0  7  0  0  0  0 14 12  0  0  0  0  6 39  9  4]\n",
      " [ 0  0  0  2  0  2  0  0  0  7  7  0  0  0  0  0 33 24]\n",
      " [ 0  0  0  3  0  2  0  0  0  0  6  0  0  0  0  0  9 52]]\n"
     ]
    }
   ],
   "source": [
    "predict=clf.predict(X_train)\n",
    "from sklearn import  metrics\n",
    "\n",
    "cm1 = metrics.confusion_matrix(y_train,predict)\n",
    "print(\"Confusion matrix:\\n%s\" % cm1)"
   ]
  },
  {
   "cell_type": "code",
   "execution_count": 23,
   "metadata": {},
   "outputs": [
    {
     "name": "stdout",
     "output_type": "stream",
     "text": [
      "Accuracy=0.6025641025641025\n"
     ]
    }
   ],
   "source": [
    "print(\"Accuracy={}\".format(metrics.accuracy_score(y_train,predict)))"
   ]
  },
  {
   "cell_type": "code",
   "execution_count": null,
   "metadata": {},
   "outputs": [],
   "source": []
  }
 ],
 "metadata": {
  "kernelspec": {
   "display_name": "Python 3",
   "language": "python",
   "name": "python3"
  },
  "language_info": {
   "codemirror_mode": {
    "name": "ipython",
    "version": 3
   },
   "file_extension": ".py",
   "mimetype": "text/x-python",
   "name": "python",
   "nbconvert_exporter": "python",
   "pygments_lexer": "ipython3",
   "version": "3.8.3"
  }
 },
 "nbformat": 4,
 "nbformat_minor": 4
}
