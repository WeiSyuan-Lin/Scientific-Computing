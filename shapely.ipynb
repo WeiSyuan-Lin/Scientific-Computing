{
 "cells": [
  {
   "cell_type": "code",
   "execution_count": 1,
   "metadata": {},
   "outputs": [],
   "source": [
    "import shapely\n",
    "from shapely.geometry import Point, Polygon, LineString, GeometryCollection\n",
    "import numpy as np"
   ]
  },
  {
   "cell_type": "code",
   "execution_count": 2,
   "metadata": {},
   "outputs": [],
   "source": [
    "pt = Point(10, 10)\n",
    "pt1 = Point(100, 101)"
   ]
  },
  {
   "cell_type": "code",
   "execution_count": 4,
   "metadata": {},
   "outputs": [
    {
     "data": {
      "image/svg+xml": [
       "<svg xmlns=\"http://www.w3.org/2000/svg\" xmlns:xlink=\"http://www.w3.org/1999/xlink\" width=\"100.0\" height=\"100.0\" viewBox=\"99.0 100.0 2.0 2.0\" preserveAspectRatio=\"xMinYMin meet\"><g transform=\"matrix(1,0,0,-1,0,202.0)\"><circle cx=\"100.0\" cy=\"101.0\" r=\"0.06\" stroke=\"#555555\" stroke-width=\"0.02\" fill=\"#66cc99\" opacity=\"0.6\" /></g></svg>"
      ],
      "text/plain": [
       "<shapely.geometry.point.Point at 0x15556c7a6d0>"
      ]
     },
     "execution_count": 4,
     "metadata": {},
     "output_type": "execute_result"
    }
   ],
   "source": [
    "pt1"
   ]
  },
  {
   "cell_type": "code",
   "execution_count": 5,
   "metadata": {},
   "outputs": [
    {
     "data": {
      "image/svg+xml": [
       "<svg xmlns=\"http://www.w3.org/2000/svg\" xmlns:xlink=\"http://www.w3.org/1999/xlink\" width=\"100.0\" height=\"100.0\" viewBox=\"6.359999999999999 6.359999999999999 97.28 98.28\" preserveAspectRatio=\"xMinYMin meet\"><g transform=\"matrix(1,0,0,-1,0,111.0)\"><g><circle cx=\"10.0\" cy=\"10.0\" r=\"2.9484\" stroke=\"#555555\" stroke-width=\"0.9828\" fill=\"#66cc99\" opacity=\"0.6\" /><circle cx=\"100.0\" cy=\"101.0\" r=\"2.9484\" stroke=\"#555555\" stroke-width=\"0.9828\" fill=\"#66cc99\" opacity=\"0.6\" /></g></g></svg>"
      ],
      "text/plain": [
       "<shapely.geometry.collection.GeometryCollection at 0x155566e22e0>"
      ]
     },
     "execution_count": 5,
     "metadata": {},
     "output_type": "execute_result"
    }
   ],
   "source": [
    "GeometryCollection([pt,pt1])"
   ]
  },
  {
   "cell_type": "code",
   "execution_count": 9,
   "metadata": {},
   "outputs": [
    {
     "data": {
      "text/plain": [
       "127.98828071350908"
      ]
     },
     "execution_count": 9,
     "metadata": {},
     "output_type": "execute_result"
    }
   ],
   "source": [
    "pt.distance(pt1)"
   ]
  },
  {
   "cell_type": "code",
   "execution_count": 10,
   "metadata": {},
   "outputs": [
    {
     "data": {
      "text/plain": [
       "127.98828071350908"
      ]
     },
     "execution_count": 10,
     "metadata": {},
     "output_type": "execute_result"
    }
   ],
   "source": [
    "np.sqrt(90**2+91**2)"
   ]
  },
  {
   "cell_type": "code",
   "execution_count": 11,
   "metadata": {},
   "outputs": [
    {
     "data": {
      "text/plain": [
       "(10.0, 10.0, (array('d', [10.0]), array('d', [10.0])))"
      ]
     },
     "execution_count": 11,
     "metadata": {},
     "output_type": "execute_result"
    }
   ],
   "source": [
    "pt.x, pt.y, pt.xy"
   ]
  },
  {
   "cell_type": "code",
   "execution_count": 15,
   "metadata": {},
   "outputs": [
    {
     "data": {
      "image/svg+xml": [
       "<svg xmlns=\"http://www.w3.org/2000/svg\" xmlns:xlink=\"http://www.w3.org/1999/xlink\" width=\"216.0\" height=\"117.0\" viewBox=\"-8.0 -7.0 216.0 117.0\" preserveAspectRatio=\"xMinYMin meet\"><g transform=\"matrix(1,0,0,-1,0,103.0)\"><polyline fill=\"none\" stroke=\"#66cc99\" stroke-width=\"2.0\" points=\"20.0,100.0 0.0,1.0 120.0,102.0 100.0,3.0 200.0,5.0\" opacity=\"0.8\" /></g></svg>"
      ],
      "text/plain": [
       "<shapely.geometry.linestring.LineString at 0x15556cb97c0>"
      ]
     },
     "execution_count": 15,
     "metadata": {},
     "output_type": "execute_result"
    }
   ],
   "source": [
    "ln = LineString([(20, 100),(0, 1), (120, 102), (100, 3), (200, 5)])\n",
    "ln"
   ]
  },
  {
   "cell_type": "code",
   "execution_count": 16,
   "metadata": {},
   "outputs": [
    {
     "data": {
      "text/plain": [
       "array([[ 20., 100.],\n",
       "       [  0.,   1.],\n",
       "       [120., 102.],\n",
       "       [100.,   3.],\n",
       "       [200.,   5.]])"
      ]
     },
     "execution_count": 16,
     "metadata": {},
     "output_type": "execute_result"
    }
   ],
   "source": [
    "np.array(ln)"
   ]
  },
  {
   "cell_type": "code",
   "execution_count": 18,
   "metadata": {},
   "outputs": [
    {
     "data": {
      "text/plain": [
       "[(20.0, 100.0), (0.0, 1.0), (120.0, 102.0), (100.0, 3.0), (200.0, 5.0)]"
      ]
     },
     "execution_count": 18,
     "metadata": {},
     "output_type": "execute_result"
    }
   ],
   "source": [
    "list(ln.coords)"
   ]
  },
  {
   "cell_type": "code",
   "execution_count": 19,
   "metadata": {},
   "outputs": [
    {
     "data": {
      "text/plain": [
       "([20.0, 0.0, 120.0, 100.0, 200.0], [100.0, 1.0, 102.0, 3.0, 5.0])"
      ]
     },
     "execution_count": 19,
     "metadata": {},
     "output_type": "execute_result"
    }
   ],
   "source": [
    "#You can also split out only X coordinates or only Y coordinates\n",
    "list(ln.xy[0]), list(ln.xy[-1])"
   ]
  },
  {
   "cell_type": "code",
   "execution_count": 23,
   "metadata": {},
   "outputs": [
    {
     "data": {
      "image/svg+xml": [
       "<svg xmlns=\"http://www.w3.org/2000/svg\" xmlns:xlink=\"http://www.w3.org/1999/xlink\" width=\"216.0\" height=\"117.0\" viewBox=\"-8.0 -7.0 216.0 117.0\" preserveAspectRatio=\"xMinYMin meet\"><g transform=\"matrix(1,0,0,-1,0,103.0)\"><g><circle cx=\"10.0\" cy=\"10.0\" r=\"3.0\" stroke=\"#555555\" stroke-width=\"1.0\" fill=\"#66cc99\" opacity=\"0.6\" /><circle cx=\"100.0\" cy=\"101.0\" r=\"3.0\" stroke=\"#555555\" stroke-width=\"1.0\" fill=\"#66cc99\" opacity=\"0.6\" /><polyline fill=\"none\" stroke=\"#66cc99\" stroke-width=\"2.0\" points=\"20.0,100.0 0.0,1.0 120.0,102.0 100.0,3.0 200.0,5.0\" opacity=\"0.8\" /></g></g></svg>"
      ],
      "text/plain": [
       "<shapely.geometry.collection.GeometryCollection at 0x155566d6d30>"
      ]
     },
     "execution_count": 23,
     "metadata": {},
     "output_type": "execute_result"
    }
   ],
   "source": [
    "GeometryCollection([pt,pt1,ln])"
   ]
  },
  {
   "cell_type": "code",
   "execution_count": 24,
   "metadata": {},
   "outputs": [
    {
     "data": {
      "text/plain": [
       "12.113711337060487"
      ]
     },
     "execution_count": 24,
     "metadata": {},
     "output_type": "execute_result"
    }
   ],
   "source": [
    "pt1.distance(ln)"
   ]
  },
  {
   "cell_type": "code",
   "execution_count": 25,
   "metadata": {},
   "outputs": [
    {
     "data": {
      "image/svg+xml": [
       "<svg xmlns=\"http://www.w3.org/2000/svg\" xmlns:xlink=\"http://www.w3.org/1999/xlink\" width=\"100.0\" height=\"100.0\" viewBox=\"109.56179775280899 54.28089887640449 2.0 2.0\" preserveAspectRatio=\"xMinYMin meet\"><g transform=\"matrix(1,0,0,-1,0,110.56179775280899)\"><circle cx=\"110.56179775280899\" cy=\"55.28089887640449\" r=\"0.06\" stroke=\"#555555\" stroke-width=\"0.02\" fill=\"#66cc99\" opacity=\"0.6\" /></g></svg>"
      ],
      "text/plain": [
       "<shapely.geometry.point.Point at 0x15556c7af70>"
      ]
     },
     "execution_count": 25,
     "metadata": {},
     "output_type": "execute_result"
    }
   ],
   "source": [
    "ln.intersection(LineString([(0, 0), (200, 100)]))"
   ]
  },
  {
   "cell_type": "code",
   "execution_count": 26,
   "metadata": {},
   "outputs": [
    {
     "data": {
      "image/svg+xml": [
       "<svg xmlns=\"http://www.w3.org/2000/svg\" xmlns:xlink=\"http://www.w3.org/1999/xlink\" width=\"100.0\" height=\"100.0\" viewBox=\"-0.38000000000000006 -0.38000000000000006 2.16 2.16\" preserveAspectRatio=\"xMinYMin meet\"><g transform=\"matrix(1,0,0,-1,0,1.4)\"><path fill-rule=\"evenodd\" fill=\"#66cc99\" stroke=\"#555555\" stroke-width=\"0.0432\" opacity=\"0.6\" d=\"M 1.7,0.7 L 1.6951847266721969,0.6019828596704394 L 1.6807852804032306,0.5049096779838719 L 1.6569403357322088,0.40971532274553785 L 1.623879532511287,0.31731656763491056 L 1.5819212643483551,0.22860326317400276 L 1.5314696123025455,0.14442976698039822 L 1.4730104533627375,0.06560671583635502 L 1.407106781186548,-0.007106781186546951 L 1.334393284163646,-0.07301045336273637 L 1.255570233019603,-0.13146961230254472 L 1.1713967368259985,-0.18192126434835454 L 1.0826834323650907,-0.22387953251128634 L 0.9902846772544636,-0.25694033573220854 L 0.8950903220161296,-0.28078528040323025 L 0.7980171403295621,-0.29518472667219675 L 0.7000000000000016,-0.30000000000000004 L 0.6019828596704411,-0.2951847266721971 L 0.5049096779838735,-0.2807852804032308 L 0.40971532274553946,-0.25694033573220953 L 0.3173165676349121,-0.22387953251128756 L 0.22860326317400426,-0.1819212643483561 L 0.14442976698039944,-0.1314696123025464 L 0.06560671583635602,-0.07301045336273826 L -0.007106781186546285,-0.007106781186548949 L -0.07301045336273593,0.06560671583635314 L -0.1314696123025444,0.14442976698039633 L -0.18192126434835432,0.22860326317400093 L -0.22387953251128623,0.31731656763490884 L -0.25694033573220854,0.4097153227455363 L -0.28078528040323025,0.5049096779838704 L -0.29518472667219686,0.6019828596704382 L -0.30000000000000004,0.699999999999999 L -0.295184726672197,0.7980171403295596 L -0.2807852804032307,0.8950903220161275 L -0.2569403357322091,0.9902846772544617 L -0.223879532511287,1.0826834323650891 L -0.18192126434835532,1.1713967368259972 L -0.1314696123025455,1.255570233019602 L -0.07301045336273715,1.3343932841636452 L -0.007106781186547728,1.4071067811865474 L 0.06560671583635402,1.4730104533627366 L 0.144429766980397,1.5314696123025446 L 0.22860326317400126,1.5819212643483545 L 0.3173165676349088,1.6238795325112862 L 0.40971532274553585,1.6569403357322083 L 0.5049096779838695,1.68078528040323 L 0.6019828596704369,1.6951847266721964 L 0.6999999999999971,1.7 L 0.7980171403295574,1.695184726672197 L 0.8950903220161248,1.680785280403231 L 0.9902846772544587,1.65694033573221 L 1.0826834323650858,1.6238795325112885 L 1.1713967368259937,1.5819212643483571 L 1.2555702330195981,1.5314696123025477 L 1.3343932841636414,1.4730104533627402 L 1.4071067811865436,1.4071067811865514 L 1.473010453362733,1.3343932841636499 L 1.5314696123025417,1.2555702330196072 L 1.581921264348352,1.1713967368260034 L 1.623879532511284,1.082683432365096 L 1.6569403357322066,0.9902846772544692 L 1.6807852804032288,0.8950903220161357 L 1.695184726672196,0.7980171403295684 L 1.7,0.7000000000000082 L 1.7,0.7 z\" /></g></svg>"
      ],
      "text/plain": [
       "<shapely.geometry.polygon.Polygon at 0x155566e28b0>"
      ]
     },
     "execution_count": 26,
     "metadata": {},
     "output_type": "execute_result"
    }
   ],
   "source": [
    "Point(0.7, 0.7).buffer(1)"
   ]
  },
  {
   "cell_type": "code",
   "execution_count": null,
   "metadata": {},
   "outputs": [],
   "source": []
  }
 ],
 "metadata": {
  "kernelspec": {
   "display_name": "Python 3",
   "language": "python",
   "name": "python3"
  },
  "language_info": {
   "codemirror_mode": {
    "name": "ipython",
    "version": 3
   },
   "file_extension": ".py",
   "mimetype": "text/x-python",
   "name": "python",
   "nbconvert_exporter": "python",
   "pygments_lexer": "ipython3",
   "version": "3.8.3"
  }
 },
 "nbformat": 4,
 "nbformat_minor": 4
}
