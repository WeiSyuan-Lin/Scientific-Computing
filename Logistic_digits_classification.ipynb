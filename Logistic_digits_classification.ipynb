{
 "cells": [
  {
   "cell_type": "code",
   "execution_count": 3,
   "metadata": {},
   "outputs": [
    {
     "ename": "ImportError",
     "evalue": "DLL load failed while importing base: 找不到指定的模組。",
     "output_type": "error",
     "traceback": [
      "\u001b[1;31m---------------------------------------------------------------------------\u001b[0m",
      "\u001b[1;31mImportError\u001b[0m                               Traceback (most recent call last)",
      "\u001b[1;32m<ipython-input-3-8b7d4e3d1284>\u001b[0m in \u001b[0;36m<module>\u001b[1;34m\u001b[0m\n\u001b[0;32m      8\u001b[0m \u001b[1;31m#解quadratic programming\u001b[0m\u001b[1;33m\u001b[0m\u001b[1;33m\u001b[0m\u001b[1;33m\u001b[0m\u001b[0m\n\u001b[0;32m      9\u001b[0m \u001b[1;32mimport\u001b[0m \u001b[0mnumpy\u001b[0m\u001b[1;33m\u001b[0m\u001b[1;33m\u001b[0m\u001b[0m\n\u001b[1;32m---> 10\u001b[1;33m \u001b[1;32mimport\u001b[0m \u001b[0mcvxopt\u001b[0m\u001b[1;33m\u001b[0m\u001b[1;33m\u001b[0m\u001b[0m\n\u001b[0m\u001b[0;32m     11\u001b[0m \u001b[1;32mfrom\u001b[0m \u001b[0mcvxopt\u001b[0m \u001b[1;32mimport\u001b[0m \u001b[0mmatrix\u001b[0m\u001b[1;33m,\u001b[0m \u001b[0msolvers\u001b[0m\u001b[1;33m\u001b[0m\u001b[1;33m\u001b[0m\u001b[0m\n\u001b[0;32m     12\u001b[0m \u001b[1;33m\u001b[0m\u001b[0m\n",
      "\u001b[1;32mc:\\python\\lib\\site-packages\\cvxopt\\__init__.py\u001b[0m in \u001b[0;36m<module>\u001b[1;34m\u001b[0m\n\u001b[0;32m     50\u001b[0m \u001b[1;32mimport\u001b[0m \u001b[0mnumpy\u001b[0m\u001b[1;33m\u001b[0m\u001b[1;33m\u001b[0m\u001b[0m\n\u001b[0;32m     51\u001b[0m \u001b[1;33m\u001b[0m\u001b[0m\n\u001b[1;32m---> 52\u001b[1;33m \u001b[1;32mimport\u001b[0m \u001b[0mcvxopt\u001b[0m\u001b[1;33m.\u001b[0m\u001b[0mbase\u001b[0m\u001b[1;33m\u001b[0m\u001b[1;33m\u001b[0m\u001b[0m\n\u001b[0m\u001b[0;32m     53\u001b[0m \u001b[1;33m\u001b[0m\u001b[0m\n\u001b[0;32m     54\u001b[0m \u001b[1;32mdef\u001b[0m \u001b[0mcopyright\u001b[0m\u001b[1;33m(\u001b[0m\u001b[1;33m)\u001b[0m\u001b[1;33m:\u001b[0m\u001b[1;33m\u001b[0m\u001b[1;33m\u001b[0m\u001b[0m\n",
      "\u001b[1;31mImportError\u001b[0m: DLL load failed while importing base: 找不到指定的模組。"
     ]
    }
   ],
   "source": [
    "#Data設定\n",
    "import matplotlib.pyplot as plt\n",
    "import numpy as np\n",
    "# Import datasets, classifiers and performance metrics\n",
    "from sklearn import datasets, svm, metrics\n",
    "from sklearn.model_selection import train_test_split\n",
    "\n",
    "#解quadratic programming\n",
    "import numpy\n",
    "import cvxopt\n",
    "from cvxopt import matrix, solvers\n",
    "\n",
    "# The digits dataset\n",
    "digits = datasets.load_digits()\n",
    "\n",
    "images_and_labels = list(zip(digits.images, digits.target))#圖和數字標記\n",
    "# To apply a classifier on this data, we need to flatten the image, to\n",
    "# turn the data in a (samples, feature) matrix:\n",
    "n_samples = len(digits.images)\n",
    "data = digits.images.reshape((n_samples, -1))\n",
    "\n",
    "X_train, X_test, y_train, y_test = train_test_split(\n",
    "    data, digits.target, test_size=0.5, shuffle=False)\n",
    "#分出training和test的sample"
   ]
  },
  {
   "cell_type": "code",
   "execution_count": 2,
   "metadata": {},
   "outputs": [],
   "source": [
    "trainlabel=np.array([np.where(y_train==0)[0].tolist()+np.where(y_train==1)[0].tolist()+np.where(y_train==2)[0].tolist()+np.where(y_train==3)[0].tolist()+np.where(y_train==4)[0].tolist()+np.where(y_train==5)[0].tolist()+np.where(y_train==6)[0].tolist()+np.where(y_train==7)[0].tolist()+np.where(y_train==8)[0].tolist()+np.where(y_train==9)[0].tolist()][0])\n"
   ]
  },
  {
   "cell_type": "code",
   "execution_count": 3,
   "metadata": {},
   "outputs": [],
   "source": [
    "index0=np.where(y_train==0)\n",
    "index1=np.where(y_train==1)\n",
    "index2=np.where(y_train==2)\n",
    "index3=np.where(y_train==3)\n",
    "index4=np.where(y_train==4)\n",
    "index5=np.where(y_train==5)\n",
    "index6=np.where(y_train==6)\n",
    "index7=np.where(y_train==7)\n",
    "index8=np.where(y_train==8)\n",
    "index9=np.where(y_train==9)\n",
    "\n",
    "\n",
    "theta0=np.zeros(trainlabel.size).reshape(trainlabel.size,1)\n",
    "theta1=np.zeros(trainlabel.size).reshape(trainlabel.size,1)\n",
    "theta2=np.zeros(trainlabel.size).reshape(trainlabel.size,1)\n",
    "theta3=np.zeros(trainlabel.size).reshape(trainlabel.size,1)\n",
    "theta4=np.zeros(trainlabel.size).reshape(trainlabel.size,1)\n",
    "theta5=np.zeros(trainlabel.size).reshape(trainlabel.size,1)\n",
    "theta6=np.zeros(trainlabel.size).reshape(trainlabel.size,1)\n",
    "theta7=np.zeros(trainlabel.size).reshape(trainlabel.size,1)\n",
    "theta8=np.zeros(trainlabel.size).reshape(trainlabel.size,1)\n",
    "theta9=np.zeros(trainlabel.size).reshape(trainlabel.size,1)\n",
    "\n",
    "\n",
    "\n",
    "N1=len(index0[0])+len(index1[0])\n",
    "N2=len(index0[0])+len(index1[0])+len(index2[0])\n",
    "N3=len(index0[0])+len(index1[0])+len(index2[0])+len(index3[0])\n",
    "N4=len(index0[0])+len(index1[0])+len(index2[0])+len(index3[0])+len(index4[0])\n",
    "N5=len(index0[0])+len(index1[0])+len(index2[0])+len(index3[0])+len(index4[0])+len(index5[0])\n",
    "N6=len(index0[0])+len(index1[0])+len(index2[0])+len(index3[0])+len(index4[0])+len(index5[0])+len(index6[0])\n",
    "N7=len(index0[0])+len(index1[0])+len(index2[0])+len(index3[0])+len(index4[0])+len(index5[0])+len(index6[0])+len(index7[0])\n",
    "N8=len(index0[0])+len(index1[0])+len(index2[0])+len(index3[0])+len(index4[0])+len(index5[0])+len(index6[0])+len(index7[0])+len(index8[0])\n",
    "N9=len(index0[0])+len(index1[0])+len(index2[0])+len(index3[0])+len(index4[0])+len(index5[0])+len(index6[0])+len(index7[0])+len(index8[0])+len(index9[0])\n",
    "\n",
    "P=[]\n",
    "for i in range(trainlabel.size):\n",
    "    for j in range(trainlabel.size):\n",
    "        P.append(np.exp(-0.001*(np.linalg.norm(X_train[trainlabel][i]-X_train[trainlabel][j]))**2))\n",
    "\n",
    "\n",
    "Phi=np.array(P).reshape(trainlabel.size,trainlabel.size).T"
   ]
  },
  {
   "cell_type": "code",
   "execution_count": 4,
   "metadata": {},
   "outputs": [
    {
     "data": {
      "text/plain": [
       "[0.028624918212963434,\n",
       " 0.08782174698976047,\n",
       " 0.06668924167159133,\n",
       " 0.07672892366082927,\n",
       " 0.0556703040813708,\n",
       " 0.08302960880568791,\n",
       " 0.04972533710524083,\n",
       " 0.06571830659608181,\n",
       " 0.08080155944552637,\n",
       " 0.10557370512344588]"
      ]
     },
     "execution_count": 4,
     "metadata": {},
     "output_type": "execute_result"
    }
   ],
   "source": [
    "for i in range(2500):\n",
    "    q0=np.exp(np.dot(theta0.T,Phi))\n",
    "    q1=np.exp(np.dot(theta1.T,Phi))\n",
    "    q2=np.exp(np.dot(theta2.T,Phi))\n",
    "    q3=np.exp(np.dot(theta3.T,Phi))\n",
    "    q4=np.exp(np.dot(theta4.T,Phi))\n",
    "    q5=np.exp(np.dot(theta5.T,Phi))\n",
    "    q6=np.exp(np.dot(theta6.T,Phi))\n",
    "    q7=np.exp(np.dot(theta7.T,Phi))\n",
    "    q8=np.exp(np.dot(theta8.T,Phi))\n",
    "    q9=np.exp(np.dot(theta9.T,Phi))\n",
    "    \n",
    "    \n",
    "    tol=q0+q1+q2+q3+q4+q5+q6+q7+q8+q9\n",
    "    \n",
    "    updatecom0=sum(((q0/(tol))*Phi).T).reshape(trainlabel.size,1)\n",
    "    updatey0=sum(Phi[:,0:len(index0[0])].T).reshape(trainlabel.size,1)\n",
    "\n",
    "    updatecom1=sum(((q1/(tol))*Phi).T).reshape(trainlabel.size,1)\n",
    "    updatey1=sum(Phi[:,len(index0[0]):N1].T).reshape(trainlabel.size,1)\n",
    "\n",
    "    updatecom2=sum(((q2/(tol))*Phi).T).reshape(trainlabel.size,1)\n",
    "    updatey2=sum(Phi[:,N1:N2].T).reshape(trainlabel.size,1)\n",
    "\n",
    "    updatecom3=sum(((q3/(tol))*Phi).T).reshape(trainlabel.size,1)\n",
    "    updatey3=sum(Phi[:,N2:N3].T).reshape(trainlabel.size,1)\n",
    "\n",
    "    updatecom4=sum(((q4/(tol))*Phi).T).reshape(trainlabel.size,1)\n",
    "    updatey4=sum(Phi[:,N3:N4].T).reshape(trainlabel.size,1)\n",
    "    \n",
    "    updatecom5=sum(((q5/(tol))*Phi).T).reshape(trainlabel.size,1)\n",
    "    updatey5=sum(Phi[:,N4:N5].T).reshape(trainlabel.size,1)\n",
    "    \n",
    "    updatecom6=sum(((q6/(tol))*Phi).T).reshape(trainlabel.size,1)\n",
    "    updatey6=sum(Phi[:,N5:N6].T).reshape(trainlabel.size,1)\n",
    "    \n",
    "    updatecom7=sum(((q7/(tol))*Phi).T).reshape(trainlabel.size,1)\n",
    "    updatey7=sum(Phi[:,N6:N7].T).reshape(trainlabel.size,1)\n",
    "    \n",
    "    updatecom8=sum(((q8/(tol))*Phi).T).reshape(trainlabel.size,1)\n",
    "    updatey8=sum(Phi[:,N7:N8].T).reshape(trainlabel.size,1)\n",
    "    \n",
    "    updatecom9=sum(((q9/(tol))*Phi).T).reshape(trainlabel.size,1)\n",
    "    updatey9=sum(Phi[:,N8:N9].T).reshape(trainlabel.size,1)\n",
    "    \n",
    "    \n",
    "    update0=-1*updatecom0+updatey0\n",
    "    update1=-1*updatecom1+updatey1\n",
    "    update2=-1*updatecom2+updatey2\n",
    "    update3=-1*updatecom3+updatey3\n",
    "    update4=-1*updatecom4+updatey4\n",
    "    update5=-1*updatecom5+updatey5\n",
    "    update6=-1*updatecom6+updatey6\n",
    "    update7=-1*updatecom7+updatey7\n",
    "    update8=-1*updatecom8+updatey8\n",
    "    update9=-1*updatecom9+updatey9\n",
    "    \n",
    "    \n",
    "    theta0=theta0+0.01*update0\n",
    "    theta1=theta1+0.01*update1\n",
    "    theta2=theta2+0.01*update2\n",
    "    theta3=theta3+0.01*update3\n",
    "    theta4=theta4+0.01*update4\n",
    "    theta5=theta5+0.01*update5\n",
    "    theta6=theta6+0.01*update6\n",
    "    theta7=theta7+0.01*update7\n",
    "    theta8=theta8+0.01*update8\n",
    "    theta9=theta9+0.01*update9\n",
    "    \n",
    "    \n",
    "[np.linalg.norm(update0),np.linalg.norm(update1),np.linalg.norm(update2),np.linalg.norm(update3),np.linalg.norm(update4),np.linalg.norm(update5),np.linalg.norm(update6),np.linalg.norm(update7),np.linalg.norm(update8),np.linalg.norm(update9)]"
   ]
  },
  {
   "cell_type": "code",
   "execution_count": 5,
   "metadata": {},
   "outputs": [],
   "source": [
    "test_label=np.array([np.where(y_test==0)[0].tolist()+np.where(y_test==1)[0].tolist()+np.where(y_test==2)[0].tolist()+np.where(y_test==3)[0].tolist()+np.where(y_test==4)[0].tolist()+np.where(y_test==5)[0].tolist()+np.where(y_test==6)[0].tolist()+np.where(y_test==7)[0].tolist()+np.where(y_test==8)[0].tolist()+np.where(y_test==9)[0].tolist()][0])\n"
   ]
  },
  {
   "cell_type": "code",
   "execution_count": 6,
   "metadata": {},
   "outputs": [],
   "source": [
    "pred=[]\n",
    "for i0 in range(len(test_label)):\n",
    "    P1=[]\n",
    "    for j in range(trainlabel.size):\n",
    "        P1.append(np.exp(-0.001*(np.linalg.norm(X_test[test_label][i0]-X_train[trainlabel][j]))**2))\n",
    "    Pht=np.array(P1).reshape(trainlabel.size,1)\n",
    "\n",
    "    q0s=np.exp(np.dot(theta0.T,Pht))\n",
    "    q1s=np.exp(np.dot(theta1.T,Pht))\n",
    "    q2s=np.exp(np.dot(theta2.T,Pht))\n",
    "    q3s=np.exp(np.dot(theta3.T,Pht))\n",
    "    q4s=np.exp(np.dot(theta4.T,Pht))\n",
    "    q5s=np.exp(np.dot(theta5.T,Pht))\n",
    "    q6s=np.exp(np.dot(theta6.T,Pht))\n",
    "    q7s=np.exp(np.dot(theta7.T,Pht))\n",
    "    q8s=np.exp(np.dot(theta8.T,Pht))\n",
    "    q9s=np.exp(np.dot(theta9.T,Pht))\n",
    "    \n",
    "    \n",
    "    total=(q0s+q1s+q2s+q3s+q4s+q5s+q6s+q7s+q8s+q9s)\n",
    "    p0=q0s/total\n",
    "    p1=q1s/total\n",
    "    p2=q2s/total\n",
    "    p3=q3s/total\n",
    "    p4=q4s/total\n",
    "    p5=q5s/total\n",
    "    p6=q6s/total\n",
    "    p7=q7s/total\n",
    "    p8=q8s/total\n",
    "    p9=q9s/total\n",
    "    \n",
    "    \n",
    "    pred.append(np.argmax([p0,p1,p2,p3,p4,p5,p6,p7,p8,p9]))"
   ]
  },
  {
   "cell_type": "code",
   "execution_count": 7,
   "metadata": {},
   "outputs": [
    {
     "data": {
      "text/plain": [
       "0.9343715239154616"
      ]
     },
     "execution_count": 7,
     "metadata": {},
     "output_type": "execute_result"
    }
   ],
   "source": [
    "len((np.where((np.array(pred)-y_test[test_label])==0))[0])/len(test_label)"
   ]
  },
  {
   "cell_type": "code",
   "execution_count": 8,
   "metadata": {},
   "outputs": [],
   "source": [
    "def Logistic_digit_pred(X_train,X_test,y_train,theta0,theta1,theta2,theta3,theta4,theta5,theta6,theta7,theta8,theta9,i0):\n",
    "    P1=[]\n",
    "    for j in range(trainlabel.size):\n",
    "        P1.append(np.exp(-0.001*(np.linalg.norm(X_test[i0]-X_train[trainlabel][j]))**2))\n",
    "    Pht=np.array(P1).reshape(trainlabel.size,1)\n",
    "\n",
    "    q0s=np.exp(np.dot(theta0.T,Pht))\n",
    "    q1s=np.exp(np.dot(theta1.T,Pht))\n",
    "    q2s=np.exp(np.dot(theta2.T,Pht))\n",
    "    q3s=np.exp(np.dot(theta3.T,Pht))\n",
    "    q4s=np.exp(np.dot(theta4.T,Pht))\n",
    "    q5s=np.exp(np.dot(theta5.T,Pht))\n",
    "    q6s=np.exp(np.dot(theta6.T,Pht))\n",
    "    q7s=np.exp(np.dot(theta7.T,Pht))\n",
    "    q8s=np.exp(np.dot(theta8.T,Pht))\n",
    "    q9s=np.exp(np.dot(theta9.T,Pht))\n",
    "    \n",
    "    total=(q0s+q1s+q2s+q3s+q4s+q5s+q6s+q7s+q8s+q9s)\n",
    "    p0=q0s/total\n",
    "    p1=q1s/total\n",
    "    p2=q2s/total\n",
    "    p3=q3s/total\n",
    "    p4=q4s/total\n",
    "    p5=q5s/total\n",
    "    p6=q6s/total\n",
    "    p7=q7s/total\n",
    "    p8=q8s/total\n",
    "    p9=q9s/total\n",
    "    \n",
    "    return np.argmax([p0,p1,p2,p3,p4,p5,p6,p7,p8,p9])"
   ]
  },
  {
   "cell_type": "code",
   "execution_count": 25,
   "metadata": {},
   "outputs": [
    {
     "data": {
      "text/plain": [
       "9"
      ]
     },
     "execution_count": 25,
     "metadata": {},
     "output_type": "execute_result"
    },
    {
     "data": {
      "text/plain": [
       "<Figure size 432x288 with 0 Axes>"
      ]
     },
     "metadata": {},
     "output_type": "display_data"
    },
    {
     "data": {
      "image/png": "[encoded data removed]",
      "text/plain": [
       "<Figure size 288x288 with 1 Axes>"
      ]
     },
     "metadata": {
      "needs_background": "light"
     },
     "output_type": "display_data"
    }
   ],
   "source": [
    "i0=np.random.randint(low=1,high=len(X_test),size=1)[0]\n",
    "X_test[i0]\n",
    "plt.gray()\n",
    "plt.matshow(X_test[i0].reshape(8,8))\n",
    "y_test[i0]"
   ]
  },
  {
   "cell_type": "code",
   "execution_count": 26,
   "metadata": {},
   "outputs": [
    {
     "data": {
      "text/plain": [
       "9"
      ]
     },
     "execution_count": 26,
     "metadata": {},
     "output_type": "execute_result"
    }
   ],
   "source": [
    "Logistic_digit_pred(X_train,X_test,y_train,theta0,theta1,theta2,theta3,theta4,theta5,theta6,theta7,theta8,theta9,i0)"
   ]
  },
  {
   "cell_type": "code",
   "execution_count": null,
   "metadata": {},
   "outputs": [],
   "source": []
  }
 ],
 "metadata": {
  "kernelspec": {
   "display_name": "Python 3",
   "language": "python",
   "name": "python3"
  },
  "language_info": {
   "codemirror_mode": {
    "name": "ipython",
    "version": 3
   },
   "file_extension": ".py",
   "mimetype": "text/x-python",
   "name": "python",
   "nbconvert_exporter": "python",
   "pygments_lexer": "ipython3",
   "version": "3.8.3"
  }
 },
 "nbformat": 4,
 "nbformat_minor": 4
}
