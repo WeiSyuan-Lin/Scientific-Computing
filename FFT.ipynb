{
 "cells": [
  {
   "cell_type": "code",
   "execution_count": 1,
   "metadata": {},
   "outputs": [],
   "source": [
    "import numpy as np"
   ]
  },
  {
   "cell_type": "code",
   "execution_count": 7,
   "metadata": {},
   "outputs": [],
   "source": [
    "import os\n",
    "\n",
    "Folder_Path = r'C:\\Python\\eyetrack3'\n",
    "os.chdir(Folder_Path)\n",
    "#將該資料夾下的所有檔名存入一個列表\n",
    "file_list = os.listdir()"
   ]
  },
  {
   "cell_type": "code",
   "execution_count": 8,
   "metadata": {},
   "outputs": [
    {
     "data": {
      "text/plain": [
       "'_2'"
      ]
     },
     "execution_count": 8,
     "metadata": {},
     "output_type": "execute_result"
    }
   ],
   "source": [
    "type(file_list[0][8])\n",
    "(file_list[11][len(file_list[11])-6:len(file_list[11])-4])"
   ]
  },
  {
   "cell_type": "code",
   "execution_count": 9,
   "metadata": {},
   "outputs": [
    {
     "data": {
      "text/plain": [
       "['.ipynb_checkpoints',\n",
       " 'Allen_3_1.mp4',\n",
       " 'Allen_3_10.mp4',\n",
       " 'Allen_3_11.mp4',\n",
       " 'Allen_3_12.mp4',\n",
       " 'Allen_3_13.mp4',\n",
       " 'Allen_3_14.mp4',\n",
       " 'Allen_3_15.mp4',\n",
       " 'Allen_3_16.mp4',\n",
       " 'Allen_3_17.mp4',\n",
       " 'Allen_3_18.mp4',\n",
       " 'Allen_3_2.mp4',\n",
       " 'Allen_3_3.mp4',\n",
       " 'Allen_3_4.mp4',\n",
       " 'Allen_3_5.mp4',\n",
       " 'Allen_3_6.mp4',\n",
       " 'Allen_3_7.mp4',\n",
       " 'Allen_3_8.mp4',\n",
       " 'Allen_3_9.mp4',\n",
       " 'Anson_3_1.mp4',\n",
       " 'Anson_3_10.mp4',\n",
       " 'Anson_3_11.mp4',\n",
       " 'Anson_3_12.mp4',\n",
       " 'Anson_3_13.mp4',\n",
       " 'Anson_3_14.mp4',\n",
       " 'Anson_3_15.mp4',\n",
       " 'Anson_3_16.mp4',\n",
       " 'Anson_3_17.mp4',\n",
       " 'Anson_3_18.mp4',\n",
       " 'Anson_3_2.mp4',\n",
       " 'Anson_3_3.mp4',\n",
       " 'Anson_3_4.mp4',\n",
       " 'Anson_3_5.mp4',\n",
       " 'Anson_3_6.mp4',\n",
       " 'Anson_3_7.mp4',\n",
       " 'Anson_3_8.mp4',\n",
       " 'Anson_3_9.mp4',\n",
       " 'haarcascade_eye.xml',\n",
       " 'haarcascade_eye_tree_eyeglasses.xml',\n",
       " 'haarcascade_frontalface_default.xml',\n",
       " 'haarcascade_lefteye_2splits.xml',\n",
       " 'haarcascade_righteye_2splits.xml',\n",
       " 'Jacky_3_1.mp4',\n",
       " 'Jacky_3_10.mp4',\n",
       " 'Jacky_3_11.mp4',\n",
       " 'Jacky_3_12.mp4',\n",
       " 'Jacky_3_13.mp4',\n",
       " 'Jacky_3_14.mp4',\n",
       " 'Jacky_3_15.mp4',\n",
       " 'Jacky_3_16.mp4',\n",
       " 'Jacky_3_17.mp4',\n",
       " 'Jacky_3_18.mp4',\n",
       " 'Jacky_3_2.mp4',\n",
       " 'Jacky_3_3.mp4',\n",
       " 'Jacky_3_4.mp4',\n",
       " 'Jacky_3_5.mp4',\n",
       " 'Jacky_3_6.mp4',\n",
       " 'Jacky_3_7.mp4',\n",
       " 'Jacky_3_8.mp4',\n",
       " 'Jacky_3_9.mp4',\n",
       " 'KY_3_1.mp4',\n",
       " 'KY_3_10.mp4',\n",
       " 'KY_3_11.mp4',\n",
       " 'KY_3_12.mp4',\n",
       " 'KY_3_13.mp4',\n",
       " 'KY_3_14.mp4',\n",
       " 'KY_3_15.mp4',\n",
       " 'KY_3_16.mp4',\n",
       " 'KY_3_17.mp4',\n",
       " 'KY_3_18.mp4',\n",
       " 'KY_3_2.mp4',\n",
       " 'KY_3_3.mp4',\n",
       " 'KY_3_4.mp4',\n",
       " 'KY_3_5.mp4',\n",
       " 'KY_3_6.mp4',\n",
       " 'KY_3_7.mp4',\n",
       " 'KY_3_8.mp4',\n",
       " 'KY_3_9.mp4',\n",
       " 'Liheng_3_1.mp4',\n",
       " 'Liheng_3_10.mp4',\n",
       " 'Liheng_3_11.mp4',\n",
       " 'Liheng_3_12.mp4',\n",
       " 'Liheng_3_13.mp4',\n",
       " 'Liheng_3_14.mp4',\n",
       " 'Liheng_3_15.mp4',\n",
       " 'Liheng_3_16.mp4',\n",
       " 'Liheng_3_17.mp4',\n",
       " 'Liheng_3_18.mp4',\n",
       " 'Liheng_3_2.mp4',\n",
       " 'Liheng_3_3.mp4',\n",
       " 'Liheng_3_4.mp4',\n",
       " 'Liheng_3_5.mp4',\n",
       " 'Liheng_3_6.mp4',\n",
       " 'Liheng_3_7.mp4',\n",
       " 'Liheng_3_8.mp4',\n",
       " 'Liheng_3_9.mp4',\n",
       " 'opencv_eyetrack.ipynb',\n",
       " 'Sean_3_1.mp4',\n",
       " 'Sean_3_10.mp4',\n",
       " 'Sean_3_11.mp4',\n",
       " 'Sean_3_12.mp4',\n",
       " 'Sean_3_13.mp4',\n",
       " 'Sean_3_14.mp4',\n",
       " 'Sean_3_15.mp4',\n",
       " 'Sean_3_16.mp4',\n",
       " 'Sean_3_17.mp4',\n",
       " 'Sean_3_18.mp4',\n",
       " 'Sean_3_2.mp4',\n",
       " 'Sean_3_3.mp4',\n",
       " 'Sean_3_4.mp4',\n",
       " 'Sean_3_5.mp4',\n",
       " 'Sean_3_6.mp4',\n",
       " 'Sean_3_7.mp4',\n",
       " 'Sean_3_8.mp4',\n",
       " 'Sean_3_9.mp4',\n",
       " 'Tai_3_1.mp4',\n",
       " 'Tai_3_10.mp4',\n",
       " 'Tai_3_11.mp4',\n",
       " 'Tai_3_12.mp4',\n",
       " 'Tai_3_13.mp4',\n",
       " 'Tai_3_14.mp4',\n",
       " 'Tai_3_15.mp4',\n",
       " 'Tai_3_16.mp4',\n",
       " 'Tai_3_17.mp4',\n",
       " 'Tai_3_18.mp4',\n",
       " 'Tai_3_2.mp4',\n",
       " 'Tai_3_3.mp4',\n",
       " 'Tai_3_4.mp4',\n",
       " 'Tai_3_5.mp4',\n",
       " 'Tai_3_6.mp4',\n",
       " 'Tai_3_7.mp4',\n",
       " 'Tai_3_8.mp4',\n",
       " 'Tai_3_9.mp4',\n",
       " 'Tony_3_1.mp4',\n",
       " 'Tony_3_10.mp4',\n",
       " 'Tony_3_11.mp4',\n",
       " 'Tony_3_12.mp4',\n",
       " 'Tony_3_13.mp4',\n",
       " 'Tony_3_14.mp4',\n",
       " 'Tony_3_15.mp4',\n",
       " 'Tony_3_16.mp4',\n",
       " 'Tony_3_17.mp4',\n",
       " 'Tony_3_18.mp4',\n",
       " 'Tony_3_2.mp4',\n",
       " 'Tony_3_3.mp4',\n",
       " 'Tony_3_4.mp4',\n",
       " 'Tony_3_5.mp4',\n",
       " 'Tony_3_6.mp4',\n",
       " 'Tony_3_7.mp4',\n",
       " 'Tony_3_8.mp4',\n",
       " 'Tony_3_9.mp4',\n",
       " 'Vivi_3_1.mp4',\n",
       " 'Vivi_3_10.mp4',\n",
       " 'Vivi_3_11.mp4',\n",
       " 'Vivi_3_12.mp4',\n",
       " 'Vivi_3_13.mp4',\n",
       " 'Vivi_3_14.mp4',\n",
       " 'Vivi_3_15.mp4',\n",
       " 'Vivi_3_16.mp4',\n",
       " 'Vivi_3_17.mp4',\n",
       " 'Vivi_3_18.mp4',\n",
       " 'Vivi_3_2.mp4',\n",
       " 'Vivi_3_3.mp4',\n",
       " 'Vivi_3_4.mp4',\n",
       " 'Vivi_3_5.mp4',\n",
       " 'Vivi_3_6.mp4',\n",
       " 'Vivi_3_7.mp4',\n",
       " 'Vivi_3_8.mp4',\n",
       " 'Vivi_3_9.mp4',\n",
       " 'Zoey_3_1.mp4',\n",
       " 'Zoey_3_10.mp4',\n",
       " 'Zoey_3_11.mp4',\n",
       " 'Zoey_3_12.mp4',\n",
       " 'Zoey_3_13.mp4',\n",
       " 'Zoey_3_14.mp4',\n",
       " 'Zoey_3_15.mp4',\n",
       " 'Zoey_3_16.mp4',\n",
       " 'Zoey_3_17.mp4',\n",
       " 'Zoey_3_18.mp4',\n",
       " 'Zoey_3_2.mp4',\n",
       " 'Zoey_3_3.mp4',\n",
       " 'Zoey_3_4.mp4',\n",
       " 'Zoey_3_5.mp4',\n",
       " 'Zoey_3_6.mp4',\n",
       " 'Zoey_3_7.mp4',\n",
       " 'Zoey_3_8.mp4',\n",
       " 'Zoey_3_9.mp4']"
      ]
     },
     "execution_count": 9,
     "metadata": {},
     "output_type": "execute_result"
    }
   ],
   "source": [
    "file_list"
   ]
  },
  {
   "cell_type": "code",
   "execution_count": 74,
   "metadata": {},
   "outputs": [
    {
     "data": {
      "text/plain": [
       "['Allen_5_10.mp4',\n",
       " 'Allen_5_1.mp4',\n",
       " 'Allen_5_11.mp4',\n",
       " 'Allen_5_12.mp4',\n",
       " 'Allen_5_2.mp4',\n",
       " 'Allen_5_13.mp4',\n",
       " 'Allen_5_3.mp4',\n",
       " 'Allen_5_14.mp4',\n",
       " 'Allen_5_4.mp4',\n",
       " 'Allen_5_15.mp4',\n",
       " 'Allen_5_5.mp4',\n",
       " 'Allen_5_16.mp4',\n",
       " 'Allen_5_6.mp4',\n",
       " 'Allen_5_17.mp4',\n",
       " 'Allen_5_7.mp4',\n",
       " 'Allen_5_18.mp4',\n",
       " 'Allen_5_8.mp4',\n",
       " 'Allen_5_9.mp4']"
      ]
     },
     "execution_count": 74,
     "metadata": {},
     "output_type": "execute_result"
    }
   ],
   "source": [
    "file_list"
   ]
  },
  {
   "cell_type": "code",
   "execution_count": 17,
   "metadata": {},
   "outputs": [],
   "source": [
    "from pychebfun import Chebfun\n",
    "import matplotlib.pyplot as plt\n"
   ]
  },
  {
   "cell_type": "code",
   "execution_count": 28,
   "metadata": {},
   "outputs": [
    {
     "data": {
      "text/plain": [
       "Chebfun \n",
       "     domain        length     endpoint values\n",
       "  [ -1.0,   1.0]        73       -0.50    4.01\n",
       " vscale = 1.00e+00"
      ]
     },
     "execution_count": 28,
     "metadata": {},
     "output_type": "execute_result"
    }
   ],
   "source": [
    "f = Chebfun.from_function(lambda x:np.tan(x+1/4) + np.cos(10*x**2 + np.exp(np.exp(x))))\n",
    "# evaluate at some point in [-1, 1]\n",
    "f(.5)\n",
    "f(np.linspace(-.5, .5,100))\n",
    "# plot it:\n",
    "f"
   ]
  },
  {
   "cell_type": "code",
   "execution_count": 2,
   "metadata": {},
   "outputs": [
    {
     "data": {
      "text/plain": [
       "array([ 1.22464680e-16+0.00000000e+00j, -5.66553890e-16-5.00000000e+00j,\n",
       "        1.22464680e-16-2.11176968e-16j,  3.11710912e-16+0.00000000e+00j,\n",
       "        1.22464680e-16-1.30514544e-16j,  9.72791780e-17+2.22044605e-16j,\n",
       "        1.22464680e-16+1.30514544e-16j,  1.28089482e-16+2.22044605e-16j,\n",
       "        1.22464680e-16+2.11176968e-16j, -5.82849082e-16+5.00000000e+00j])"
      ]
     },
     "execution_count": 2,
     "metadata": {},
     "output_type": "execute_result"
    }
   ],
   "source": [
    "N = 10;\n",
    "x = np.linspace(0,2*np.pi,N+1)\n",
    "x = x[0:N];\n",
    "\n",
    "f =np.sin(x)\n",
    "np.fft.fft(f)"
   ]
  },
  {
   "cell_type": "code",
   "execution_count": 3,
   "metadata": {},
   "outputs": [
    {
     "data": {
      "text/plain": [
       "[<matplotlib.lines.Line2D at 0x26da5f836d0>]"
      ]
     },
     "execution_count": 3,
     "metadata": {},
     "output_type": "execute_result"
    },
    {
     "data": {
      "image/png": "[encoded data removed]",
      "text/plain": [
       "<Figure size 432x288 with 1 Axes>"
      ]
     },
     "metadata": {
      "needs_background": "light"
     },
     "output_type": "display_data"
    }
   ],
   "source": [
    "import matplotlib.pyplot as plt\n",
    "plt.plot(x,np.fft.ifft(np.fft.fft(f)).real)\n",
    "plt.plot(x,np.sin(x)-0.1)"
   ]
  },
  {
   "cell_type": "code",
   "execution_count": 6,
   "metadata": {},
   "outputs": [
    {
     "data": {
      "text/plain": [
       "[<matplotlib.lines.Line2D at 0x26db10a84f0>]"
      ]
     },
     "execution_count": 6,
     "metadata": {},
     "output_type": "execute_result"
    },
    {
     "data": {
      "image/png": "[encoded data removed]",
      "text/plain": [
       "<Figure size 432x288 with 1 Axes>"
      ]
     },
     "metadata": {
      "needs_background": "light"
     },
     "output_type": "display_data"
    }
   ],
   "source": [
    "plt.plot(abs(np.fft.fft(f)))"
   ]
  },
  {
   "cell_type": "code",
   "execution_count": null,
   "metadata": {},
   "outputs": [],
   "source": []
  }
 ],
 "metadata": {
  "kernelspec": {
   "display_name": "Python 3",
   "language": "python",
   "name": "python3"
  },
  "language_info": {
   "codemirror_mode": {
    "name": "ipython",
    "version": 3
   },
   "file_extension": ".py",
   "mimetype": "text/x-python",
   "name": "python",
   "nbconvert_exporter": "python",
   "pygments_lexer": "ipython3",
   "version": "3.8.3"
  }
 },
 "nbformat": 4,
 "nbformat_minor": 4
}
