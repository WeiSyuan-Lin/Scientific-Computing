{
 "cells": [
  {
   "cell_type": "code",
   "execution_count": 1,
   "metadata": {},
   "outputs": [],
   "source": [
    "import numpy as np\n",
    "import matplotlib.pyplot as plt\n",
    "import tensorflow as tf"
   ]
  },
  {
   "cell_type": "code",
   "execution_count": 2,
   "metadata": {},
   "outputs": [],
   "source": [
    "#將MNIST 手寫數字資料讀進來\n",
    "mnist = tf.keras.datasets.mnist\n",
    "\n",
    "# mnist 的load_data()會回傳已經先分割好的training data 和 testing data\n",
    "# 並且將每個 pixel 的值從 Int 轉成 floating point 同時做normalize(這是很常見的preprocessing)\n",
    "(x_train, y_train), (x_test, y_test) = mnist.load_data()\n",
    "x_train, x_test = x_train / 255.0, x_test / 255.0"
   ]
  },
  {
   "cell_type": "code",
   "execution_count": 3,
   "metadata": {},
   "outputs": [
    {
     "name": "stdout",
     "output_type": "stream",
     "text": [
      "60000\n",
      "(28, 28)\n"
     ]
    }
   ],
   "source": [
    "print(len(x_train)) #training data 總共有60000張圖片\n",
    "print(x_train[0].shape) #每張圖片（拿第一張當樣本）大小為 28x28"
   ]
  },
  {
   "cell_type": "code",
   "execution_count": 4,
   "metadata": {},
   "outputs": [],
   "source": [
    "X_train = np.reshape(x_train,(60000,28*28))"
   ]
  },
  {
   "cell_type": "code",
   "execution_count": 5,
   "metadata": {},
   "outputs": [],
   "source": [
    "#from sklearn.decomposition import PCA\n",
    "#import numpy as np\n",
    "#pca=PCA(400)\n",
    "#pca.fit(X0_train)\n",
    "#pca.components_  #返回模型的各個特徵向量"
   ]
  },
  {
   "cell_type": "code",
   "execution_count": 6,
   "metadata": {},
   "outputs": [],
   "source": [
    "#sum(pca.explained_variance_ratio_)  #返回各個成為各自的方差百分比（貢獻率）"
   ]
  },
  {
   "cell_type": "code",
   "execution_count": null,
   "metadata": {},
   "outputs": [],
   "source": []
  },
  {
   "cell_type": "code",
   "execution_count": 7,
   "metadata": {},
   "outputs": [],
   "source": [
    "#X_train=pca.transform(X0_train) "
   ]
  },
  {
   "cell_type": "code",
   "execution_count": 8,
   "metadata": {},
   "outputs": [],
   "source": [
    "X_test = np.reshape(x_test,(10000,28*28))"
   ]
  },
  {
   "cell_type": "code",
   "execution_count": 9,
   "metadata": {},
   "outputs": [],
   "source": [
    "#pcat=PCA(400)\n",
    "#pcat.fit(X0_test)"
   ]
  },
  {
   "cell_type": "code",
   "execution_count": 10,
   "metadata": {},
   "outputs": [],
   "source": [
    "#X_test=pcat.transform(X0_test) "
   ]
  },
  {
   "cell_type": "code",
   "execution_count": 11,
   "metadata": {},
   "outputs": [],
   "source": [
    "from sklearn import datasets, svm, metrics"
   ]
  },
  {
   "cell_type": "code",
   "execution_count": 12,
   "metadata": {},
   "outputs": [],
   "source": [
    "param_C = 5\n",
    "param_gamma = 0.05\n",
    "classifier = svm.SVC(C=param_C,gamma=param_gamma)"
   ]
  },
  {
   "cell_type": "code",
   "execution_count": 13,
   "metadata": {},
   "outputs": [
    {
     "data": {
      "text/plain": [
       "SVC(C=5, gamma=0.05)"
      ]
     },
     "execution_count": 13,
     "metadata": {},
     "output_type": "execute_result"
    }
   ],
   "source": [
    "classifier.fit(X_train, y_train)"
   ]
  },
  {
   "cell_type": "code",
   "execution_count": 14,
   "metadata": {},
   "outputs": [],
   "source": [
    "expected = y_test\n",
    "predicted = classifier.predict(X_test)"
   ]
  },
  {
   "cell_type": "code",
   "execution_count": 15,
   "metadata": {},
   "outputs": [
    {
     "name": "stdout",
     "output_type": "stream",
     "text": [
      "Confusion matrix:\n",
      "[[ 973    0    1    0    0    2    1    1    2    0]\n",
      " [   0 1127    3    1    0    1    0    1    2    0]\n",
      " [   4    0 1015    0    1    0    0    6    6    0]\n",
      " [   0    0    2  995    0    3    0    6    4    0]\n",
      " [   0    0    3    0  966    0    4    0    2    7]\n",
      " [   2    0    0    5    1  878    2    1    2    1]\n",
      " [   4    2    0    0    2    3  946    0    1    0]\n",
      " [   0    3   10    1    1    0    0 1004    2    7]\n",
      " [   1    0    1    4    1    2    0    2  960    3]\n",
      " [   3    3    2    6    9    2    0    5    6  973]]\n"
     ]
    }
   ],
   "source": [
    "cm = metrics.confusion_matrix(expected, predicted)\n",
    "print(\"Confusion matrix:\\n%s\" % cm)"
   ]
  },
  {
   "cell_type": "code",
   "execution_count": 16,
   "metadata": {},
   "outputs": [
    {
     "name": "stdout",
     "output_type": "stream",
     "text": [
      "Accuracy=0.9837\n"
     ]
    }
   ],
   "source": [
    "print(\"Accuracy={}\".format(metrics.accuracy_score(expected, predicted)))"
   ]
  },
  {
   "cell_type": "code",
   "execution_count": null,
   "metadata": {},
   "outputs": [],
   "source": []
  },
  {
   "cell_type": "code",
   "execution_count": 17,
   "metadata": {},
   "outputs": [],
   "source": [
    "def bar(X_train,y_train):\n",
    "    S=[]\n",
    "    for k in range(10):\n",
    "        index=np.where(y_train==k)\n",
    "        X=X_train[index]\n",
    "        X_bar=sum(X)/(X.shape[0])\n",
    "        \n",
    "        S.append(X_bar)\n",
    "    S=np.array(S)\n",
    "    return S"
   ]
  },
  {
   "cell_type": "code",
   "execution_count": 18,
   "metadata": {},
   "outputs": [],
   "source": [
    "S=bar(X_train,y_train)"
   ]
  },
  {
   "cell_type": "code",
   "execution_count": 19,
   "metadata": {},
   "outputs": [
    {
     "data": {
      "text/plain": [
       "<matplotlib.image.AxesImage at 0x1d234d9a7f0>"
      ]
     },
     "execution_count": 19,
     "metadata": {},
     "output_type": "execute_result"
    },
    {
     "data": {
      "text/plain": [
       "<Figure size 432x288 with 0 Axes>"
      ]
     },
     "metadata": {},
     "output_type": "display_data"
    },
    {
     "data": {
      "image/png": "[encoded data removed]",
      "text/plain": [
       "<Figure size 288x288 with 1 Axes>"
      ]
     },
     "metadata": {
      "needs_background": "light"
     },
     "output_type": "display_data"
    }
   ],
   "source": [
    "plt.gray()\n",
    "plt.matshow(X_train[9].reshape(28,28))"
   ]
  },
  {
   "cell_type": "code",
   "execution_count": 20,
   "metadata": {},
   "outputs": [],
   "source": [
    "def svm(Image0,Image1,Image0_test,Image1_test,s):\n",
    "    import numpy\n",
    "    import cvxopt\n",
    "    from cvxopt import matrix, solvers\n",
    "    solvers.options['show_progress'] = False  \n",
    "    \n",
    "    Image0=Image0[0:50]\n",
    "    Image1=Image1[0:50]\n",
    "    \n",
    "    #Image0_test=Image0_test[0:20]\n",
    "    #Image1_test=Image1_test[0:20]\n",
    "    \n",
    "    \n",
    "    T0=matrix(Image0.reshape(len(Image0),784).tolist())\n",
    "    T1=matrix(Image1.reshape(len(Image1),784).tolist())\n",
    "\n",
    "    y1=matrix(np.ones([1,len(Image0)]).tolist())\n",
    "    y2=(-1)*matrix(np.ones([1,len(Image1)]).tolist())\n",
    "    y=matrix([y1,y2])\n",
    "\n",
    "    T=matrix([T0.T,T1.T])\n",
    "\n",
    "    t0=matrix(Image0_test.reshape(len(Image0_test),784).tolist())\n",
    "    t1=matrix(Image1_test.reshape(len(Image1_test),784).tolist())\n",
    "\n",
    "    y1=matrix(np.ones([1,len(Image0_test)]).tolist())\n",
    "    y2=(-1)*matrix(np.ones([1,len(Image1_test)]).tolist())\n",
    "    yt=matrix([y1,y2])\n",
    "\n",
    "    t=matrix([t0.T,t1.T])\n",
    "\n",
    "    \n",
    "    P1=[]\n",
    "    for i in range(T.size[0]):\n",
    "        for j in range(T.size[0]):\n",
    "            P1.append(y[i]*y[j]*np.exp(-s*(np.linalg.norm(T[i,:]-T[j,:]))**2))      \n",
    "\n",
    "    \n",
    "    P2=np.array(P1).reshape(T.size[0],T.size[0])\n",
    "    P=matrix(P2)\n",
    "    \n",
    "    q1=-1*np.ones(T.size[0])\n",
    "    q2=q1.astype(float)\n",
    "    q=matrix(q1.tolist())\n",
    "    y1=np.array(y).astype(float)\n",
    "    A=matrix(y1.tolist(),(1,T.size[0]))\n",
    "    b = matrix([0.0])\n",
    "\n",
    "    G1=-1*matrix(np.eye(T.size[0]).tolist())\n",
    "    G2=matrix(np.eye(T.size[0]).tolist())\n",
    "    G=matrix([G1,G2])\n",
    "\n",
    "    c1=0\n",
    "    h1=c1*np.ones(T.size[0])\n",
    "    h2=h1.astype(float)\n",
    "    h_1=matrix(h2.tolist())\n",
    "\n",
    "    c2=5\n",
    "    hh1=c2*np.ones(T.size[0])\n",
    "    hh2=hh1.astype(float)\n",
    "    h_2=matrix(hh2.tolist())\n",
    "    h=matrix([h_1,h_2])\n",
    "    results_digit = solvers.qp(P,q,G,h,A,b)\n",
    "    \n",
    "    p0=np.argwhere(np.array(results_digit['x'])>0.0001)[0][0]\n",
    "    p1=p0.tolist()\n",
    "    \n",
    "    a=matrix(results_digit['x'])\n",
    "    b=0\n",
    "    for i in range(T.size[0]):\n",
    "        b=b+a[i]*y[i]*np.exp(-s*(np.linalg.norm(T[i,:]-T[p1,:]))**2)      \n",
    "\n",
    "    b=y[p1]-b\n",
    "    \n",
    "    \n",
    "    F=[]\n",
    "    for j in range(t.size[0]):\n",
    "        f=0\n",
    "        for i in range(T.size[0]):\n",
    "            f=f+a[i]*y[i]*np.exp(-s*(np.linalg.norm(T[i,:]-t[j,:]))**2)     \n",
    "        f=f+b\n",
    "        F.append(f)\n",
    "    #correct\n",
    "   # f=0\n",
    "    #for i in range(T.size[0]):\n",
    "    #        f=f+a[i]*y[i]*np.exp(-s*(np.linalg.norm(T[i,:]-T[0,:]))**2)     \n",
    "    #f=f+b\n",
    "    zi=0 #1*f\n",
    "\n",
    "    \n",
    "    \n",
    "    return a,b,T.size[0],T,y,zi,print(1-np.abs(np.array(np.where(np.sign(F)>0)).size-len(Image0_test))/len(Image0_test))"
   ]
  },
  {
   "cell_type": "code",
   "execution_count": 21,
   "metadata": {},
   "outputs": [],
   "source": [
    "def Image_data(n):\n",
    "    itemindexn = np.argwhere(y_train==n)\n",
    "    imagen=X_train[itemindexn]\n",
    "    itemindexn = np.argwhere(y_test==n)\n",
    "    imagen_test=X_test[itemindexn]\n",
    "\n",
    "    return [imagen,imagen_test]"
   ]
  },
  {
   "cell_type": "code",
   "execution_count": 22,
   "metadata": {},
   "outputs": [],
   "source": [
    "[image0,image0_test]=Image_data(0)\n",
    "[image1,image1_test]=Image_data(1)\n",
    "[image2,image2_test]=Image_data(2)\n",
    "[image3,image3_test]=Image_data(3)\n",
    "[image4,image4_test]=Image_data(4)\n",
    "[image5,image5_test]=Image_data(5)\n",
    "[image6,image6_test]=Image_data(6)\n",
    "[image7,image7_test]=Image_data(7)\n",
    "[image8,image8_test]=Image_data(8)\n",
    "[image9,image9_test]=Image_data(9)"
   ]
  },
  {
   "cell_type": "code",
   "execution_count": 23,
   "metadata": {},
   "outputs": [
    {
     "data": {
      "text/plain": [
       "(6742, 1, 784)"
      ]
     },
     "execution_count": 23,
     "metadata": {},
     "output_type": "execute_result"
    }
   ],
   "source": [
    "image1.shape"
   ]
  },
  {
   "cell_type": "code",
   "execution_count": 95,
   "metadata": {},
   "outputs": [
    {
     "data": {
      "text/plain": [
       "<matplotlib.image.AxesImage at 0x1d20408d370>"
      ]
     },
     "execution_count": 95,
     "metadata": {},
     "output_type": "execute_result"
    },
    {
     "data": {
      "text/plain": [
       "<Figure size 432x288 with 0 Axes>"
      ]
     },
     "metadata": {},
     "output_type": "display_data"
    },
    {
     "data": {
      "image/png": "[encoded data removed]",
      "text/plain": [
       "<Figure size 288x288 with 1 Axes>"
      ]
     },
     "metadata": {
      "needs_background": "light"
     },
     "output_type": "display_data"
    }
   ],
   "source": [
    "plt.gray()\n",
    "plt.matshow(X_test[1].reshape(28,28))"
   ]
  },
  {
   "cell_type": "code",
   "execution_count": 25,
   "metadata": {},
   "outputs": [
    {
     "name": "stdout",
     "output_type": "stream",
     "text": [
      "0.9979591836734694\n"
     ]
    }
   ],
   "source": [
    "m01=svm(image0,image1,image0_test,image1_test,0.01)"
   ]
  },
  {
   "cell_type": "code",
   "execution_count": null,
   "metadata": {},
   "outputs": [],
   "source": []
  },
  {
   "cell_type": "code",
   "execution_count": 26,
   "metadata": {},
   "outputs": [
    {
     "name": "stdout",
     "output_type": "stream",
     "text": [
      "0.9918367346938776\n"
     ]
    }
   ],
   "source": [
    "m02=svm(image0,image2,image0_test,image2_test,0.01)"
   ]
  },
  {
   "cell_type": "code",
   "execution_count": 27,
   "metadata": {},
   "outputs": [
    {
     "name": "stdout",
     "output_type": "stream",
     "text": [
      "0.9959183673469387\n"
     ]
    }
   ],
   "source": [
    "m03=svm(image0,image3,image0_test,image3_test,0.01)"
   ]
  },
  {
   "cell_type": "code",
   "execution_count": 28,
   "metadata": {},
   "outputs": [
    {
     "name": "stdout",
     "output_type": "stream",
     "text": [
      "0.9826530612244898\n"
     ]
    }
   ],
   "source": [
    "m04=svm(image0,image4,image0_test,image4_test,0.01)"
   ]
  },
  {
   "cell_type": "code",
   "execution_count": 29,
   "metadata": {},
   "outputs": [
    {
     "name": "stdout",
     "output_type": "stream",
     "text": [
      "0.9959183673469387\n"
     ]
    }
   ],
   "source": [
    "m05=svm(image0,image5,image0_test,image5_test,0.01)"
   ]
  },
  {
   "cell_type": "code",
   "execution_count": 30,
   "metadata": {},
   "outputs": [
    {
     "name": "stdout",
     "output_type": "stream",
     "text": [
      "0.9846938775510204\n"
     ]
    }
   ],
   "source": [
    "m06=svm(image0,image6,image0_test,image6_test,0.01)"
   ]
  },
  {
   "cell_type": "code",
   "execution_count": 31,
   "metadata": {},
   "outputs": [
    {
     "name": "stdout",
     "output_type": "stream",
     "text": [
      "0.9918367346938776\n"
     ]
    }
   ],
   "source": [
    "m07=svm(image0,image7,image0_test,image7_test,0.01)"
   ]
  },
  {
   "cell_type": "code",
   "execution_count": 32,
   "metadata": {},
   "outputs": [
    {
     "name": "stdout",
     "output_type": "stream",
     "text": [
      "0.996938775510204\n"
     ]
    }
   ],
   "source": [
    "m08=svm(image0,image8,image0_test,image8_test,0.01)"
   ]
  },
  {
   "cell_type": "code",
   "execution_count": 33,
   "metadata": {},
   "outputs": [
    {
     "name": "stdout",
     "output_type": "stream",
     "text": [
      "0.9724489795918367\n"
     ]
    }
   ],
   "source": [
    "m09=svm(image0,image9,image0_test,image9_test,0.01)"
   ]
  },
  {
   "cell_type": "code",
   "execution_count": 34,
   "metadata": {},
   "outputs": [
    {
     "name": "stdout",
     "output_type": "stream",
     "text": [
      "0.986784140969163\n",
      "0.9770925110132158\n",
      "0.9982378854625551\n",
      "0.9929515418502203\n",
      "0.9947136563876652\n",
      "0.9682819383259912\n",
      "0.9762114537444934\n",
      "0.9920704845814978\n"
     ]
    }
   ],
   "source": [
    "m12=svm(image1,image2,image1_test,image2_test,0.01)\n",
    "m13=svm(image1,image3,image1_test,image3_test,0.01)\n",
    "m14=svm(image1,image4,image1_test,image4_test,0.01)\n",
    "m15=svm(image1,image5,image1_test,image5_test,0.01)\n",
    "m16=svm(image1,image6,image1_test,image6_test,0.01) \n",
    "m17=svm(image1,image7,image1_test,image7_test,0.01)\n",
    "m18=svm(image1,image8,image1_test,image8_test,0.01)\n",
    "m19=svm(image1,image9,image1_test,image9_test,0.01)"
   ]
  },
  {
   "cell_type": "code",
   "execution_count": 35,
   "metadata": {},
   "outputs": [
    {
     "name": "stdout",
     "output_type": "stream",
     "text": [
      "0.9544573643410853\n",
      "0.9777131782945736\n",
      "0.999031007751938\n",
      "0.9796511627906976\n",
      "0.9922480620155039\n",
      "0.9631782945736435\n",
      "0.9748062015503876\n"
     ]
    }
   ],
   "source": [
    "m23=svm(image2,image3,image2_test,image3_test,0.01)\n",
    "m24=svm(image2,image4,image2_test,image4_test,0.01)\n",
    "m25=svm(image2,image5,image2_test,image5_test,0.01)\n",
    "m26=svm(image2,image6,image2_test,image6_test,0.01)\n",
    "m27=svm(image2,image7,image2_test,image7_test,0.01)\n",
    "m28=svm(image2,image8,image2_test,image8_test,0.01)\n",
    "m29=svm(image2,image9,image2_test,image9_test,0.01)"
   ]
  },
  {
   "cell_type": "code",
   "execution_count": 36,
   "metadata": {},
   "outputs": [
    {
     "name": "stdout",
     "output_type": "stream",
     "text": [
      "0.9871287128712871\n",
      "0.8881188118811881\n",
      "0.9831683168316832\n",
      "0.9861386138613861\n",
      "0.9623762376237623\n",
      "0.999009900990099\n"
     ]
    }
   ],
   "source": [
    "m34=svm(image3,image4,image3_test,image4_test,0.01)\n",
    "m35=svm(image3,image5,image3_test,image5_test,0.01)\n",
    "m36=svm(image3,image6,image3_test,image6_test,0.01)\n",
    "m37=svm(image3,image7,image3_test,image7_test,0.01)\n",
    "m38=svm(image3,image8,image3_test,image8_test,0.01)\n",
    "m39=svm(image3,image9,image3_test,image9_test,0.01)"
   ]
  },
  {
   "cell_type": "code",
   "execution_count": 37,
   "metadata": {},
   "outputs": [
    {
     "name": "stdout",
     "output_type": "stream",
     "text": [
      "0.9765784114052953\n",
      "0.9959266802443992\n",
      "0.9837067209775967\n",
      "0.9877800407331976\n",
      "0.9786150712830958\n"
     ]
    }
   ],
   "source": [
    "m45=svm(image4,image5,image4_test,image5_test,0.01)\n",
    "m46=svm(image4,image6,image4_test,image6_test,0.01)\n",
    "m47=svm(image4,image7,image4_test,image7_test,0.01)\n",
    "m48=svm(image4,image8,image4_test,image8_test,0.01)\n",
    "m49=svm(image4,image9,image4_test,image9_test,0.01)"
   ]
  },
  {
   "cell_type": "code",
   "execution_count": 38,
   "metadata": {},
   "outputs": [
    {
     "name": "stdout",
     "output_type": "stream",
     "text": [
      "0.9877800407331976\n",
      "0.9786150712830958\n"
     ]
    }
   ],
   "source": [
    "m48=svm(image4,image8,image4_test,image8_test,0.01)\n",
    "m49=svm(image4,image9,image4_test,image9_test,0.01)"
   ]
  },
  {
   "cell_type": "code",
   "execution_count": 39,
   "metadata": {},
   "outputs": [
    {
     "name": "stdout",
     "output_type": "stream",
     "text": [
      "0.9652466367713004\n",
      "0.984304932735426\n",
      "0.9316143497757847\n",
      "0.968609865470852\n"
     ]
    }
   ],
   "source": [
    "m56=svm(image5,image6,image5_test,image6_test,0.01)\n",
    "m57=svm(image5,image7,image5_test,image7_test,0.01)\n",
    "m58=svm(image5,image8,image5_test,image8_test,0.01)\n",
    "m59=svm(image5,image9,image5_test,image9_test,0.01)"
   ]
  },
  {
   "cell_type": "code",
   "execution_count": 40,
   "metadata": {},
   "outputs": [
    {
     "name": "stdout",
     "output_type": "stream",
     "text": [
      "0.9979123173277662\n",
      "0.9989561586638831\n",
      "0.9770354906054279\n",
      "0.9883268482490273\n",
      "0.9494163424124513\n",
      "0.997946611909651\n"
     ]
    }
   ],
   "source": [
    "m67=svm(image6,image7,image6_test,image7_test,0.01)\n",
    "m68=svm(image6,image8,image6_test,image8_test,0.01)\n",
    "m69=svm(image6,image9,image6_test,image9_test,0.01)\n",
    "\n",
    "m78=svm(image7,image8,image7_test,image8_test,0.01)\n",
    "m79=svm(image7,image9,image7_test,image9_test,0.01)\n",
    "\n",
    "m89=svm(image8,image9,image8_test,image9_test,0.01)"
   ]
  },
  {
   "cell_type": "code",
   "execution_count": 41,
   "metadata": {},
   "outputs": [],
   "source": [
    "parameter=[m01,m02,m03,m04,m05,m06,m07,m08,m09,m12,m13,m14,m15,m16,m17,m18,m19,m23,m24,m25,m26,m27,m28,m29,m34,m35,m36,m37,m38,m39,m45,m46,m47,m48,m49,m56,m57,m58,m59,m67,m68,m69,m78,m79,m89]"
   ]
  },
  {
   "cell_type": "code",
   "execution_count": 146,
   "metadata": {},
   "outputs": [],
   "source": [
    "def svm_predict(m,n1,n2,X_test):\n",
    "    import cvxopt\n",
    "    from cvxopt import matrix, solvers\n",
    "    \n",
    "    f=0\n",
    "    for i in range(m[2]):\n",
    "        f=f+m[0][i]*m[4][i]*np.exp(-0.01*(np.linalg.norm(m[3][i,:]-matrix(X_test.reshape(1,784))))**2)     \n",
    "    f=f+m[1]\n",
    "    \n",
    "    if np.sign(f)>0:\n",
    "        predict=n1\n",
    "    else:\n",
    "        predict=n2\n",
    "    #else:\n",
    "    #    predict=-1\n",
    "    return predict"
   ]
  },
  {
   "cell_type": "code",
   "execution_count": 148,
   "metadata": {},
   "outputs": [
    {
     "data": {
      "text/plain": [
       "0"
      ]
     },
     "execution_count": 148,
     "metadata": {},
     "output_type": "execute_result"
    }
   ],
   "source": [
    "svm_predict(m01,0,1,X_test[1])"
   ]
  },
  {
   "cell_type": "code",
   "execution_count": 149,
   "metadata": {},
   "outputs": [],
   "source": [
    "def svm_newdata(M,X_test):\n",
    "    s01=svm_predict(M[0],0,1,X_test)\n",
    "    s02=svm_predict(M[1],0,2,X_test)\n",
    "    s03=svm_predict(M[2],0,3,X_test)\n",
    "    s04=svm_predict(M[3],0,4,X_test)\n",
    "    s05=svm_predict(M[4],0,5,X_test)\n",
    "    s06=svm_predict(M[5],0,6,X_test)\n",
    "    s07=svm_predict(M[6],0,7,X_test)\n",
    "    s08=svm_predict(M[7],0,8,X_test)\n",
    "    s09=svm_predict(M[8],0,9,X_test)\n",
    "\n",
    "    s12=svm_predict(M[9],1,2,X_test)\n",
    "    s13=svm_predict(M[10],1,3,X_test)\n",
    "    s14=svm_predict(M[11],1,4,X_test)\n",
    "    s15=svm_predict(M[12],1,5,X_test)\n",
    "    s16=svm_predict(M[13],1,6,X_test)\n",
    "    s17=svm_predict(M[14],1,7,X_test)\n",
    "    s18=svm_predict(M[15],1,8,X_test)\n",
    "    s19=svm_predict(M[16],1,9,X_test)\n",
    "\n",
    "    s23=svm_predict(M[17],2,3,X_test)\n",
    "    s24=svm_predict(M[18],2,4,X_test)\n",
    "    s25=svm_predict(M[19],2,5,X_test)\n",
    "    s26=svm_predict(M[20],2,6,X_test)\n",
    "    s27=svm_predict(M[21],2,7,X_test)\n",
    "    s28=svm_predict(M[22],2,8,X_test)\n",
    "    s29=svm_predict(M[23],2,9,X_test)\n",
    "\n",
    "    s34=svm_predict(M[24],3,4,X_test)\n",
    "    s35=svm_predict(M[25],3,5,X_test)\n",
    "    s36=svm_predict(M[26],3,6,X_test)\n",
    "    s37=svm_predict(M[27],3,7,X_test)\n",
    "    s38=svm_predict(M[28],3,8,X_test)\n",
    "    s39=svm_predict(M[29],3,9,X_test)\n",
    "\n",
    "    s45=svm_predict(M[30],4,5,X_test)\n",
    "    s46=svm_predict(M[31],4,6,X_test)\n",
    "    s47=svm_predict(M[32],4,7,X_test)\n",
    "    s48=svm_predict(M[33],4,8,X_test)\n",
    "    s49=svm_predict(M[34],4,9,X_test)\n",
    "\n",
    "    s56=svm_predict(M[35],5,6,X_test)\n",
    "    s57=svm_predict(M[36],5,7,X_test)\n",
    "    s58=svm_predict(M[37],5,8,X_test)  \n",
    "    s59=svm_predict(M[38],5,9,X_test)\n",
    "\n",
    "    s67=svm_predict(M[39],6,7,X_test)\n",
    "    s68=svm_predict(M[40],6,8,X_test)\n",
    "    s69=svm_predict(M[41],6,9,X_test)\n",
    "\n",
    "    s78=svm_predict(M[42],7,8,X_test)\n",
    "    s79=svm_predict(M[43],7,9,X_test)\n",
    "\n",
    "    s89=svm_predict(M[44],8,9,X_test)\n",
    "\n",
    "    nums=[s01,s02,s03,s04,s05,s06,s07,s08,s09,s12,s13,s14,s15,s16,s17,s18,s19,s23,s24,s24,s25,s26,s27,s28,s29,s34,s35,s36,s37,s38,s39,s45,s46,s47,s48,s49,s56,s57,s58,s59,s67,s68,s69,s78,s79,s89]\n",
    "    counts = np.bincount(nums)\n",
    "    return np.argmax(counts)"
   ]
  },
  {
   "cell_type": "code",
   "execution_count": 164,
   "metadata": {},
   "outputs": [
    {
     "data": {
      "text/plain": [
       "7"
      ]
     },
     "execution_count": 164,
     "metadata": {},
     "output_type": "execute_result"
    },
    {
     "data": {
      "text/plain": [
       "<Figure size 432x288 with 0 Axes>"
      ]
     },
     "metadata": {},
     "output_type": "display_data"
    },
    {
     "data": {
      "image/png": "[encoded data removed]",
      "text/plain": [
       "<Figure size 288x288 with 1 Axes>"
      ]
     },
     "metadata": {
      "needs_background": "light"
     },
     "output_type": "display_data"
    }
   ],
   "source": [
    "i0=np.random.randint(low=1,high=len(X_test),size=1)[0]\n",
    "X_test[i0]\n",
    "\n",
    "plt.gray()\n",
    "plt.matshow(X_test[i0].reshape(28,28))\n",
    "y_test[i0]"
   ]
  },
  {
   "cell_type": "code",
   "execution_count": 165,
   "metadata": {},
   "outputs": [
    {
     "data": {
      "text/plain": [
       "7"
      ]
     },
     "execution_count": 165,
     "metadata": {},
     "output_type": "execute_result"
    }
   ],
   "source": [
    "svm_newdata(parameter,X_test[i0])"
   ]
  },
  {
   "cell_type": "code",
   "execution_count": 172,
   "metadata": {},
   "outputs": [
    {
     "data": {
      "text/plain": [
       "0.7757"
      ]
     },
     "execution_count": 172,
     "metadata": {},
     "output_type": "execute_result"
    }
   ],
   "source": [
    "score=0\n",
    "ID=y_test\n",
    "for i in range(len(ID)):\n",
    "    if ((svm_newdata(parameter,X_test[i])-ID[i])==0):\n",
    "        score=score+1\n",
    "score/len(ID)"
   ]
  },
  {
   "cell_type": "code",
   "execution_count": 173,
   "metadata": {},
   "outputs": [
    {
     "data": {
      "text/plain": [
       "0.7757"
      ]
     },
     "execution_count": 173,
     "metadata": {},
     "output_type": "execute_result"
    }
   ],
   "source": [
    "score/len(ID)"
   ]
  },
  {
   "cell_type": "code",
   "execution_count": null,
   "metadata": {},
   "outputs": [],
   "source": []
  }
 ],
 "metadata": {
  "kernelspec": {
   "display_name": "Python 3",
   "language": "python",
   "name": "python3"
  },
  "language_info": {
   "codemirror_mode": {
    "name": "ipython",
    "version": 3
   },
   "file_extension": ".py",
   "mimetype": "text/x-python",
   "name": "python",
   "nbconvert_exporter": "python",
   "pygments_lexer": "ipython3",
   "version": "3.8.3"
  }
 },
 "nbformat": 4,
 "nbformat_minor": 4
}
