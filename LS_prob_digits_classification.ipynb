{
 "cells": [
  {
   "cell_type": "code",
   "execution_count": 1,
   "metadata": {},
   "outputs": [],
   "source": [
    "#Data設定\n",
    "import matplotlib.pyplot as plt\n",
    "import numpy as np\n",
    "# Import datasets, classifiers and performance metrics\n",
    "from sklearn import datasets, svm, metrics\n",
    "from sklearn.model_selection import train_test_split\n",
    "\n",
    "#解quadratic programming\n",
    "import numpy\n",
    "#import cvxopt\n",
    "#from cvxopt import matrix, solvers\n",
    "\n",
    "# The digits dataset\n",
    "digits = datasets.load_digits()\n",
    "\n",
    "images_and_labels = list(zip(digits.images, digits.target))#圖和數字標記\n",
    "# To apply a classifier on this data, we need to flatten the image, to\n",
    "# turn the data in a (samples, feature) matrix:\n",
    "n_samples = len(digits.images)\n",
    "data = digits.images.reshape((n_samples, -1))\n",
    "\n",
    "X_train, X_test, y_train, y_test = train_test_split(\n",
    "    data, digits.target, test_size=0.5, shuffle=False)\n",
    "#分出training和test的sample"
   ]
  },
  {
   "cell_type": "code",
   "execution_count": 2,
   "metadata": {},
   "outputs": [
    {
     "data": {
      "text/plain": [
       "(64,)"
      ]
     },
     "execution_count": 2,
     "metadata": {},
     "output_type": "execute_result"
    }
   ],
   "source": [
    "X_train[1].shape"
   ]
  },
  {
   "cell_type": "code",
   "execution_count": 3,
   "metadata": {},
   "outputs": [],
   "source": [
    "def theta_fit(X_train,y_train,k,sigma,lamb):\n",
    "    index=np.where(y_train==k)\n",
    "    P=[]\n",
    "    for i in range(X_train.shape[0]):\n",
    "        for j in range(X_train[index].shape[0]):\n",
    "            P.append(np.exp(-sigma*(np.linalg.norm(X_train[i]-X_train[index][j]))**2))\n",
    "\n",
    "    Phi=np.array(P).reshape(X_train.shape[0],X_train[index].shape[0])\n",
    "    Pi=np.zeros(X_train.shape[0]).reshape(X_train.shape[0],1)\n",
    "    Pi[index]=1\n",
    "    Phinv=np.linalg.inv(np.dot(Phi.T,Phi)+(lamb*np.eye(X_train[index].shape[0])))\n",
    "    pi=np.dot(Phi.T,Pi)\n",
    "    theta=np.dot(Phinv,pi)\n",
    "    return theta"
   ]
  },
  {
   "cell_type": "code",
   "execution_count": 4,
   "metadata": {},
   "outputs": [],
   "source": [
    "theta0=theta_fit(X_train,y_train,0,0.1,0.1)\n",
    "theta1=theta_fit(X_train,y_train,1,0.1,0.1)\n",
    "theta2=theta_fit(X_train,y_train,2,0.1,0.1)\n",
    "theta3=theta_fit(X_train,y_train,3,0.1,0.1)\n",
    "theta4=theta_fit(X_train,y_train,4,0.1,0.1)\n",
    "theta5=theta_fit(X_train,y_train,5,0.1,0.1)\n",
    "theta6=theta_fit(X_train,y_train,6,0.1,0.1)\n",
    "theta7=theta_fit(X_train,y_train,7,0.1,0.1)\n",
    "theta8=theta_fit(X_train,y_train,8,0.1,0.1)\n",
    "theta9=theta_fit(X_train,y_train,9,0.1,0.1)"
   ]
  },
  {
   "cell_type": "code",
   "execution_count": 5,
   "metadata": {},
   "outputs": [],
   "source": [
    "def LS_pred_digit(X_train,X_test,y_train,theta0,theta1,theta2,theta3,theta4,theta5,theta6,theta7,theta8,theta9,i0):\n",
    "    index0=np.where(y_train==0)\n",
    "    index1=np.where(y_train==1)\n",
    "    index2=np.where(y_train==2)\n",
    "    index3=np.where(y_train==3)\n",
    "    index4=np.where(y_train==4)\n",
    "    index5=np.where(y_train==5)\n",
    "    index6=np.where(y_train==6)\n",
    "    index7=np.where(y_train==7)\n",
    "    index8=np.where(y_train==8)\n",
    "    index9=np.where(y_train==9)\n",
    "\n",
    "    P0=[]\n",
    "    P1=[]\n",
    "    P2=[]\n",
    "    P3=[]\n",
    "    P4=[]\n",
    "    P5=[]\n",
    "    P6=[]\n",
    "    P7=[]\n",
    "    P8=[]\n",
    "    P9=[]\n",
    "\n",
    "    for j in range(X_train[index0].shape[0]):\n",
    "        P0.append(np.exp(-0.1*(np.linalg.norm(X_test[i0]-X_train[index0][j]))**2))\n",
    "    for j in range(X_train[index1].shape[0]):\n",
    "        P1.append(np.exp(-0.1*(np.linalg.norm(X_test[i0]-X_train[index1][j]))**2))\n",
    "    for j in range(X_train[index2].shape[0]):\n",
    "        P2.append(np.exp(-0.1*(np.linalg.norm(X_test[i0]-X_train[index2][j]))**2))\n",
    "    for j in range(X_train[index3].shape[0]):\n",
    "        P3.append(np.exp(-0.1*(np.linalg.norm(X_test[i0]-X_train[index3][j]))**2))\n",
    "    for j in range(X_train[index4].shape[0]):\n",
    "        P4.append(np.exp(-0.1*(np.linalg.norm(X_test[i0]-X_train[index4][j]))**2))\n",
    "    for j in range(X_train[index5].shape[0]):\n",
    "        P5.append(np.exp(-0.1*(np.linalg.norm(X_test[i0]-X_train[index5][j]))**2))\n",
    "    for j in range(X_train[index6].shape[0]):\n",
    "        P6.append(np.exp(-0.1*(np.linalg.norm(X_test[i0]-X_train[index6][j]))**2))\n",
    "    for j in range(X_train[index7].shape[0]):\n",
    "        P7.append(np.exp(-0.1*(np.linalg.norm(X_test[i0]-X_train[index7][j]))**2))\n",
    "    for j in range(X_train[index8].shape[0]):\n",
    "        P8.append(np.exp(-0.1*(np.linalg.norm(X_test[i0]-X_train[index8][j]))**2))\n",
    "    for j in range(X_train[index9].shape[0]):\n",
    "        P9.append(np.exp(-0.1*(np.linalg.norm(X_test[i0]-X_train[index9][j]))**2))\n",
    "\n",
    "    Pht0=np.array(P0).reshape(X_train[index0].shape[0],1)\n",
    "    p0=max(0,np.dot(theta0.T,Pht0))\n",
    "    Pht1=np.array(P1).reshape(X_train[index1].shape[0],1)\n",
    "    p1=max(0,np.dot(theta1.T,Pht1))\n",
    "    Pht2=np.array(P2).reshape(X_train[index2].shape[0],1)\n",
    "    p2=max(0,np.dot(theta2.T,Pht2))\n",
    "    Pht3=np.array(P3).reshape(X_train[index3].shape[0],1)\n",
    "    p3=max(0,np.dot(theta3.T,Pht3))\n",
    "    Pht4=np.array(P4).reshape(X_train[index4].shape[0],1)\n",
    "    p4=max(0,np.dot(theta4.T,Pht4))\n",
    "    Pht5=np.array(P5).reshape(X_train[index5].shape[0],1)\n",
    "    p5=max(0,np.dot(theta5.T,Pht5))\n",
    "    Pht6=np.array(P6).reshape(X_train[index6].shape[0],1)\n",
    "    p6=max(0,np.dot(theta6.T,Pht6))\n",
    "    Pht7=np.array(P7).reshape(X_train[index7].shape[0],1)\n",
    "    p7=max(0,np.dot(theta7.T,Pht7))\n",
    "    Pht8=np.array(P8).reshape(X_train[index8].shape[0],1)\n",
    "    p8=max(0,np.dot(theta8.T,Pht8))\n",
    "    Pht9=np.array(P9).reshape(X_train[index9].shape[0],1)\n",
    "    p9=max(0,np.dot(theta9.T,Pht9))\n",
    "    \n",
    "    tol=p1+p2+p3+p4+p5+p6+p7+p8+p9\n",
    "    return np.argmax([p0/tol,p1/tol,p2/tol,p3/tol,p4/tol,p5/tol,p6/tol,p7/tol,p8/tol,p9/tol])\n",
    "    "
   ]
  },
  {
   "cell_type": "code",
   "execution_count": 6,
   "metadata": {},
   "outputs": [],
   "source": [
    "test_label=np.array([np.where(y_test==0)[0].tolist()+np.where(y_test==1)[0].tolist()+np.where(y_test==2)[0].tolist()+np.where(y_test==3)[0].tolist()+np.where(y_test==4)[0].tolist()+np.where(y_test==6)[0].tolist()+np.where(y_test==6)[0].tolist()+np.where(y_test==7)[0].tolist()+np.where(y_test==8)[0].tolist()+np.where(y_test==9)[0].tolist()][0])\n"
   ]
  },
  {
   "cell_type": "code",
   "execution_count": 7,
   "metadata": {},
   "outputs": [],
   "source": [
    "index0=np.where(y_train==0)\n",
    "index1=np.where(y_train==1)\n",
    "index2=np.where(y_train==2)\n",
    "index3=np.where(y_train==3)\n",
    "index4=np.where(y_train==4)\n",
    "index5=np.where(y_train==5)\n",
    "index6=np.where(y_train==6)\n",
    "index7=np.where(y_train==7)\n",
    "index8=np.where(y_train==8)\n",
    "index9=np.where(y_train==9)\n",
    "\n",
    "\n",
    "predict=[]\n",
    "for i in range(len(test_label)):\n",
    "    P0=[]\n",
    "    P1=[]\n",
    "    P2=[]\n",
    "    P3=[]\n",
    "    P4=[]\n",
    "    P5=[]\n",
    "    P6=[]\n",
    "    P7=[]\n",
    "    P8=[]\n",
    "    P9=[]\n",
    "    \n",
    "    for j in range(X_train[index0].shape[0]):\n",
    "        P0.append(np.exp(-0.1*(np.linalg.norm(X_test[test_label[i]]-X_train[index0][j]))**2))\n",
    "    for j in range(X_train[index1].shape[0]):\n",
    "        P1.append(np.exp(-0.1*(np.linalg.norm(X_test[test_label[i]]-X_train[index1][j]))**2))\n",
    "    for j in range(X_train[index2].shape[0]):\n",
    "        P2.append(np.exp(-0.1*(np.linalg.norm(X_test[test_label[i]]-X_train[index2][j]))**2))\n",
    "    for j in range(X_train[index3].shape[0]):\n",
    "        P3.append(np.exp(-0.1*(np.linalg.norm(X_test[test_label[i]]-X_train[index3][j]))**2))\n",
    "    for j in range(X_train[index4].shape[0]):\n",
    "        P4.append(np.exp(-0.1*(np.linalg.norm(X_test[test_label[i]]-X_train[index4][j]))**2))\n",
    "    for j in range(X_train[index5].shape[0]):\n",
    "        P5.append(np.exp(-0.1*(np.linalg.norm(X_test[test_label[i]]-X_train[index5][j]))**2))\n",
    "    for j in range(X_train[index6].shape[0]):\n",
    "        P6.append(np.exp(-0.1*(np.linalg.norm(X_test[test_label[i]]-X_train[index6][j]))**2))\n",
    "    for j in range(X_train[index7].shape[0]):\n",
    "        P7.append(np.exp(-0.1*(np.linalg.norm(X_test[test_label[i]]-X_train[index7][j]))**2))\n",
    "    for j in range(X_train[index8].shape[0]):\n",
    "        P8.append(np.exp(-0.1*(np.linalg.norm(X_test[test_label[i]]-X_train[index8][j]))**2))\n",
    "    for j in range(X_train[index9].shape[0]):\n",
    "        P9.append(np.exp(-0.1*(np.linalg.norm(X_test[test_label[i]]-X_train[index9][j]))**2))\n",
    "\n",
    "    Pht0=np.array(P0).reshape(X_train[index0].shape[0],1)\n",
    "    p0=max(0,np.dot(theta0.T,Pht0))\n",
    "    Pht1=np.array(P1).reshape(X_train[index1].shape[0],1)\n",
    "    p1=max(0,np.dot(theta1.T,Pht1))\n",
    "    Pht2=np.array(P2).reshape(X_train[index2].shape[0],1)\n",
    "    p2=max(0,np.dot(theta2.T,Pht2))\n",
    "    Pht3=np.array(P3).reshape(X_train[index3].shape[0],1)\n",
    "    p3=max(0,np.dot(theta3.T,Pht3))\n",
    "    Pht4=np.array(P4).reshape(X_train[index4].shape[0],1)\n",
    "    p4=max(0,np.dot(theta4.T,Pht4))\n",
    "    Pht5=np.array(P5).reshape(X_train[index5].shape[0],1)\n",
    "    p5=max(0,np.dot(theta5.T,Pht5))\n",
    "    Pht6=np.array(P6).reshape(X_train[index6].shape[0],1)\n",
    "    p6=max(0,np.dot(theta6.T,Pht6))\n",
    "    Pht7=np.array(P7).reshape(X_train[index7].shape[0],1)\n",
    "    p7=max(0,np.dot(theta7.T,Pht7))\n",
    "    Pht8=np.array(P8).reshape(X_train[index8].shape[0],1)\n",
    "    p8=max(0,np.dot(theta8.T,Pht8))\n",
    "    Pht9=np.array(P9).reshape(X_train[index9].shape[0],1)\n",
    "    p9=max(0,np.dot(theta9.T,Pht9))\n",
    "    \n",
    "    tol=p1+p2+p3+p4+p5+p6+p7+p8+p9\n",
    "    predict.append(np.argmax([p0/tol,p1/tol,p2/tol,p3/tol,p4/tol,p5/tol,p6/tol,p7/tol,p8/tol,p9/tol]))\n",
    "    "
   ]
  },
  {
   "cell_type": "code",
   "execution_count": 8,
   "metadata": {},
   "outputs": [
    {
     "data": {
      "text/plain": [
       "0.9632925472747497"
      ]
     },
     "execution_count": 8,
     "metadata": {},
     "output_type": "execute_result"
    }
   ],
   "source": [
    "len(predict)\n",
    "len(np.where((predict-y_test[test_label])==0)[0])/len(test_label)"
   ]
  },
  {
   "cell_type": "code",
   "execution_count": 13,
   "metadata": {},
   "outputs": [
    {
     "data": {
      "text/plain": [
       "0"
      ]
     },
     "execution_count": 13,
     "metadata": {},
     "output_type": "execute_result"
    },
    {
     "data": {
      "text/plain": [
       "<Figure size 432x288 with 0 Axes>"
      ]
     },
     "metadata": {},
     "output_type": "display_data"
    },
    {
     "data": {
      "image/png": "[encoded data removed]",
      "text/plain": [
       "<Figure size 288x288 with 1 Axes>"
      ]
     },
     "metadata": {
      "needs_background": "light"
     },
     "output_type": "display_data"
    }
   ],
   "source": [
    "i0=np.random.randint(low=1,high=len(X_test),size=1)[0]\n",
    "X_test[i0]\n",
    "plt.gray()\n",
    "plt.matshow(X_test[i0].reshape(8,8))\n",
    "y_test[i0]"
   ]
  },
  {
   "cell_type": "code",
   "execution_count": 14,
   "metadata": {},
   "outputs": [
    {
     "data": {
      "text/plain": [
       "0"
      ]
     },
     "execution_count": 14,
     "metadata": {},
     "output_type": "execute_result"
    }
   ],
   "source": [
    "LS_pred_digit(X_train,X_test,y_train,theta0,theta1,theta2,theta3,theta4,theta5,theta6,theta7,theta8,theta9,i0)"
   ]
  },
  {
   "cell_type": "code",
   "execution_count": null,
   "metadata": {},
   "outputs": [],
   "source": []
  }
 ],
 "metadata": {
  "kernelspec": {
   "display_name": "Python 3",
   "language": "python",
   "name": "python3"
  },
  "language_info": {
   "codemirror_mode": {
    "name": "ipython",
    "version": 3
   },
   "file_extension": ".py",
   "mimetype": "text/x-python",
   "name": "python",
   "nbconvert_exporter": "python",
   "pygments_lexer": "ipython3",
   "version": "3.8.3"
  }
 },
 "nbformat": 4,
 "nbformat_minor": 4
}
